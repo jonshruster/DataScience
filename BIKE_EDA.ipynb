{
 "cells": [
  {
   "cell_type": "code",
   "execution_count": 3,
   "metadata": {},
   "outputs": [],
   "source": [
    "import pandas as pd\n",
    "import numpy as np\n",
    "import matplotlib.pyplot as plt\n",
    "import seaborn as sns"
   ]
  },
  {
   "cell_type": "code",
   "execution_count": 143,
   "metadata": {},
   "outputs": [
    {
     "data": {
      "text/html": [
       "<div>\n",
       "<style scoped>\n",
       "    .dataframe tbody tr th:only-of-type {\n",
       "        vertical-align: middle;\n",
       "    }\n",
       "\n",
       "    .dataframe tbody tr th {\n",
       "        vertical-align: top;\n",
       "    }\n",
       "\n",
       "    .dataframe thead th {\n",
       "        text-align: right;\n",
       "    }\n",
       "</style>\n",
       "<table border=\"1\" class=\"dataframe\">\n",
       "  <thead>\n",
       "    <tr style=\"text-align: right;\">\n",
       "      <th></th>\n",
       "      <th>id</th>\n",
       "      <th>season</th>\n",
       "      <th>mnth</th>\n",
       "      <th>holiday</th>\n",
       "      <th>weekday</th>\n",
       "      <th>workingday</th>\n",
       "      <th>weathersit</th>\n",
       "      <th>temp</th>\n",
       "      <th>atemp</th>\n",
       "      <th>hum</th>\n",
       "      <th>windspeed</th>\n",
       "      <th>cnt</th>\n",
       "    </tr>\n",
       "  </thead>\n",
       "  <tbody>\n",
       "    <tr>\n",
       "      <th>0</th>\n",
       "      <td>1</td>\n",
       "      <td>1</td>\n",
       "      <td>1</td>\n",
       "      <td>0</td>\n",
       "      <td>6</td>\n",
       "      <td>0</td>\n",
       "      <td>2</td>\n",
       "      <td>0.344167</td>\n",
       "      <td>0.363625</td>\n",
       "      <td>0.805833</td>\n",
       "      <td>0.160446</td>\n",
       "      <td>985</td>\n",
       "    </tr>\n",
       "    <tr>\n",
       "      <th>1</th>\n",
       "      <td>2</td>\n",
       "      <td>1</td>\n",
       "      <td>1</td>\n",
       "      <td>0</td>\n",
       "      <td>0</td>\n",
       "      <td>0</td>\n",
       "      <td>2</td>\n",
       "      <td>0.363478</td>\n",
       "      <td>0.353739</td>\n",
       "      <td>0.696087</td>\n",
       "      <td>0.248539</td>\n",
       "      <td>801</td>\n",
       "    </tr>\n",
       "    <tr>\n",
       "      <th>2</th>\n",
       "      <td>3</td>\n",
       "      <td>1</td>\n",
       "      <td>1</td>\n",
       "      <td>0</td>\n",
       "      <td>1</td>\n",
       "      <td>1</td>\n",
       "      <td>1</td>\n",
       "      <td>0.196364</td>\n",
       "      <td>0.189405</td>\n",
       "      <td>0.437273</td>\n",
       "      <td>0.248309</td>\n",
       "      <td>1349</td>\n",
       "    </tr>\n",
       "    <tr>\n",
       "      <th>3</th>\n",
       "      <td>4</td>\n",
       "      <td>1</td>\n",
       "      <td>1</td>\n",
       "      <td>0</td>\n",
       "      <td>2</td>\n",
       "      <td>1</td>\n",
       "      <td>1</td>\n",
       "      <td>0.200000</td>\n",
       "      <td>0.212122</td>\n",
       "      <td>0.590435</td>\n",
       "      <td>0.160296</td>\n",
       "      <td>1562</td>\n",
       "    </tr>\n",
       "    <tr>\n",
       "      <th>4</th>\n",
       "      <td>5</td>\n",
       "      <td>1</td>\n",
       "      <td>1</td>\n",
       "      <td>0</td>\n",
       "      <td>3</td>\n",
       "      <td>1</td>\n",
       "      <td>1</td>\n",
       "      <td>0.226957</td>\n",
       "      <td>0.229270</td>\n",
       "      <td>0.436957</td>\n",
       "      <td>0.186900</td>\n",
       "      <td>1600</td>\n",
       "    </tr>\n",
       "  </tbody>\n",
       "</table>\n",
       "</div>"
      ],
      "text/plain": [
       "   id  season  mnth  holiday  weekday  workingday  weathersit      temp  \\\n",
       "0   1       1     1        0        6           0           2  0.344167   \n",
       "1   2       1     1        0        0           0           2  0.363478   \n",
       "2   3       1     1        0        1           1           1  0.196364   \n",
       "3   4       1     1        0        2           1           1  0.200000   \n",
       "4   5       1     1        0        3           1           1  0.226957   \n",
       "\n",
       "      atemp       hum  windspeed   cnt  \n",
       "0  0.363625  0.805833   0.160446   985  \n",
       "1  0.353739  0.696087   0.248539   801  \n",
       "2  0.189405  0.437273   0.248309  1349  \n",
       "3  0.212122  0.590435   0.160296  1562  \n",
       "4  0.229270  0.436957   0.186900  1600  "
      ]
     },
     "execution_count": 143,
     "metadata": {},
     "output_type": "execute_result"
    }
   ],
   "source": [
    "Data_Day=pd.read_csv(\"C:\\\\Users\\\\jonathan.sh\\\\OneDrive - Webpals\\\\DS Course\\\\Task DS\\\\train.csv\")\n",
    "Data_Day.head()"
   ]
  },
  {
   "cell_type": "code",
   "execution_count": 144,
   "metadata": {},
   "outputs": [
    {
     "name": "stdout",
     "output_type": "stream",
     "text": [
      "id              int64\n",
      "season          int64\n",
      "mnth            int64\n",
      "holiday         int64\n",
      "weekday         int64\n",
      "workingday      int64\n",
      "weathersit      int64\n",
      "temp          float64\n",
      "atemp         float64\n",
      "hum           float64\n",
      "windspeed     float64\n",
      "cnt             int64\n",
      "dtype: object\n"
     ]
    }
   ],
   "source": [
    "print(Data_Day.dtypes)\n"
   ]
  },
  {
   "cell_type": "code",
   "execution_count": 145,
   "metadata": {},
   "outputs": [
    {
     "name": "stdout",
     "output_type": "stream",
     "text": [
      "(365, 12)\n"
     ]
    }
   ],
   "source": [
    "print(Data_Day.shape)"
   ]
  },
  {
   "cell_type": "code",
   "execution_count": 146,
   "metadata": {},
   "outputs": [
    {
     "name": "stdout",
     "output_type": "stream",
     "text": [
      "Index(['id', 'season', 'mnth', 'holiday', 'weekday', 'workingday',\n",
      "       'weathersit', 'temp', 'atemp', 'hum', 'windspeed', 'cnt'],\n",
      "      dtype='object')\n"
     ]
    }
   ],
   "source": [
    "print(Data_Day.columns)"
   ]
  },
  {
   "cell_type": "code",
   "execution_count": 147,
   "metadata": {
    "scrolled": true
   },
   "outputs": [
    {
     "name": "stdout",
     "output_type": "stream",
     "text": [
      "id            365\n",
      "season          4\n",
      "mnth           12\n",
      "holiday         2\n",
      "weekday         7\n",
      "workingday      2\n",
      "weathersit      3\n",
      "temp          294\n",
      "atemp         353\n",
      "hum           332\n",
      "windspeed     349\n",
      "cnt           352\n",
      "dtype: int64\n"
     ]
    }
   ],
   "source": [
    "print(Data_Day.nunique())"
   ]
  },
  {
   "cell_type": "code",
   "execution_count": 148,
   "metadata": {},
   "outputs": [],
   "source": [
    "Data_Day = Data_Day.drop(Data_Day.columns[[0]], axis = \"columns\")"
   ]
  },
  {
   "cell_type": "code",
   "execution_count": 149,
   "metadata": {},
   "outputs": [
    {
     "name": "stdout",
     "output_type": "stream",
     "text": [
      "season          4\n",
      "mnth           12\n",
      "holiday         2\n",
      "weekday         7\n",
      "workingday      2\n",
      "weathersit      3\n",
      "temp          294\n",
      "atemp         353\n",
      "hum           332\n",
      "windspeed     349\n",
      "cnt           352\n",
      "dtype: int64\n"
     ]
    }
   ],
   "source": [
    "print(Data_Day.nunique())"
   ]
  },
  {
   "cell_type": "code",
   "execution_count": 150,
   "metadata": {},
   "outputs": [],
   "source": [
    "numeric_var = ['temp', 'atemp', 'hum', 'windspeed', 'cnt']\n",
    "\n",
    "categorical_var = ['season', 'mnth', 'holiday', 'weekday', 'workingday', 'weathersit']"
   ]
  },
  {
   "cell_type": "code",
   "execution_count": 179,
   "metadata": {},
   "outputs": [
    {
     "data": {
      "text/plain": [
       "season        0\n",
       "mnth          0\n",
       "holiday       0\n",
       "weekday       0\n",
       "workingday    0\n",
       "weathersit    0\n",
       "temp          0\n",
       "atemp         0\n",
       "hum           0\n",
       "windspeed     0\n",
       "cnt           0\n",
       "dtype: int64"
      ]
     },
     "execution_count": 179,
     "metadata": {},
     "output_type": "execute_result"
    }
   ],
   "source": [
    "Data_Day.isnull().sum()"
   ]
  },
  {
   "cell_type": "code",
   "execution_count": 152,
   "metadata": {},
   "outputs": [
    {
     "name": "stdout",
     "output_type": "stream",
     "text": [
      "temp\n"
     ]
    },
    {
     "data": {
      "image/png": "[encoded data removed]",
      "text/plain": [
       "<Figure size 432x288 with 1 Axes>"
      ]
     },
     "metadata": {
      "needs_background": "light"
     },
     "output_type": "display_data"
    },
    {
     "name": "stdout",
     "output_type": "stream",
     "text": [
      "atemp\n"
     ]
    },
    {
     "data": {
      "image/png": "[encoded data removed]",
      "text/plain": [
       "<Figure size 432x288 with 1 Axes>"
      ]
     },
     "metadata": {
      "needs_background": "light"
     },
     "output_type": "display_data"
    },
    {
     "name": "stdout",
     "output_type": "stream",
     "text": [
      "hum\n"
     ]
    },
    {
     "data": {
      "image/png": "[encoded data removed]",
      "text/plain": [
       "<Figure size 432x288 with 1 Axes>"
      ]
     },
     "metadata": {
      "needs_background": "light"
     },
     "output_type": "display_data"
    },
    {
     "name": "stdout",
     "output_type": "stream",
     "text": [
      "windspeed\n"
     ]
    },
    {
     "data": {
      "image/png": "[encoded data removed]",
      "text/plain": [
       "<Figure size 432x288 with 1 Axes>"
      ]
     },
     "metadata": {
      "needs_background": "light"
     },
     "output_type": "display_data"
    },
    {
     "name": "stdout",
     "output_type": "stream",
     "text": [
      "cnt\n"
     ]
    },
    {
     "data": {
      "image/png": "[encoded data removed]",
      "text/plain": [
       "<Figure size 432x288 with 1 Axes>"
      ]
     },
     "metadata": {
      "needs_background": "light"
     },
     "output_type": "display_data"
    }
   ],
   "source": [
    "for i in numeric_var:\n",
    "    print(i)\n",
    "    sns.boxplot(y = Data_Day[i])\n",
    "    plt.xlabel(i)\n",
    "    plt.ylabel(\"Values\")\n",
    "    plt.title(\"Boxplot of \" + i)\n",
    "    plt.show()"
   ]
  },
  {
   "cell_type": "code",
   "execution_count": 153,
   "metadata": {},
   "outputs": [
    {
     "name": "stdout",
     "output_type": "stream",
     "text": [
      "temp\n",
      "Innerfence= -0.1725005\n",
      "Upperfence= 1.1541675\n",
      "IQR =0.331667\n",
      "atemp\n",
      "Innerfence= -0.11368349999999999\n",
      "Upperfence= 1.0480165000000001\n",
      "IQR =0.290425\n",
      "hum\n",
      "Innerfence= 0.2327079999999998\n",
      "Upperfence= 1.047708\n",
      "IQR =0.2037500000000001\n",
      "windspeed\n",
      "Innerfence= -0.013655000000000056\n",
      "Upperfence= 0.384313\n",
      "IQR =0.09949200000000002\n",
      "cnt\n",
      "Innerfence= -1549.0\n",
      "Upperfence= 8267.0\n",
      "IQR =2454.0\n"
     ]
    }
   ],
   "source": [
    "for i in numeric_var:\n",
    "    print(i)\n",
    "    q75, q25 = np.percentile(Data_Day.loc[:,i], [75, 25])\n",
    "    iqr = q75 - q25\n",
    "    Innerfence = q25 - (iqr*1.5)\n",
    "    Upperfence = q75 + (iqr*1.5)\n",
    "    print(\"Innerfence= \"+str(Innerfence))\n",
    "    print(\"Upperfence= \"+str(Upperfence)) \n",
    "    print(\"IQR =\"+str(iqr))\n",
    "    \n",
    "\n",
    "# replace outliers with NA\n",
    "\n",
    "    Data_Day.loc[Data_Day[i]<Innerfence, i] = np.nan\n",
    "    Data_Day.loc[Data_Day[i]>Upperfence, i] = np.nan"
   ]
  },
  {
   "cell_type": "code",
   "execution_count": 154,
   "metadata": {},
   "outputs": [
    {
     "data": {
      "text/plain": [
       "season        0\n",
       "mnth          0\n",
       "holiday       0\n",
       "weekday       0\n",
       "workingday    0\n",
       "weathersit    0\n",
       "temp          0\n",
       "atemp         0\n",
       "hum           2\n",
       "windspeed     5\n",
       "cnt           0\n",
       "dtype: int64"
      ]
     },
     "execution_count": 154,
     "metadata": {},
     "output_type": "execute_result"
    }
   ],
   "source": [
    "Data_Day.isnull().sum()"
   ]
  },
  {
   "cell_type": "code",
   "execution_count": 155,
   "metadata": {},
   "outputs": [],
   "source": [
    "Data_Day['hum'] = Data_Day['hum'].fillna(Data_Day['hum'].median())\n",
    "Data_Day['windspeed'] = Data_Day['windspeed'].fillna(Data_Day['windspeed'].median())"
   ]
  },
  {
   "cell_type": "code",
   "execution_count": 156,
   "metadata": {},
   "outputs": [
    {
     "data": {
      "text/plain": [
       "season        0\n",
       "mnth          0\n",
       "holiday       0\n",
       "weekday       0\n",
       "workingday    0\n",
       "weathersit    0\n",
       "temp          0\n",
       "atemp         0\n",
       "hum           0\n",
       "windspeed     0\n",
       "cnt           0\n",
       "dtype: int64"
      ]
     },
     "execution_count": 156,
     "metadata": {},
     "output_type": "execute_result"
    }
   ],
   "source": [
    "Data_Day.isnull().sum()"
   ]
  },
  {
   "cell_type": "code",
   "execution_count": 157,
   "metadata": {},
   "outputs": [
    {
     "data": {
      "image/png": "[encoded data removed]",
      "text/plain": [
       "<Figure size 360x360 with 1 Axes>"
      ]
     },
     "metadata": {
      "needs_background": "light"
     },
     "output_type": "display_data"
    },
    {
     "data": {
      "image/png": "[encoded data removed]",
      "text/plain": [
       "<Figure size 360x360 with 1 Axes>"
      ]
     },
     "metadata": {
      "needs_background": "light"
     },
     "output_type": "display_data"
    },
    {
     "data": {
      "image/png": "[encoded data removed]",
      "text/plain": [
       "<Figure size 360x360 with 1 Axes>"
      ]
     },
     "metadata": {
      "needs_background": "light"
     },
     "output_type": "display_data"
    },
    {
     "data": {
      "image/png": "[encoded data removed]",
      "text/plain": [
       "<Figure size 360x360 with 1 Axes>"
      ]
     },
     "metadata": {
      "needs_background": "light"
     },
     "output_type": "display_data"
    },
    {
     "data": {
      "image/png": "[encoded data removed]",
      "text/plain": [
       "<Figure size 360x360 with 1 Axes>"
      ]
     },
     "metadata": {
      "needs_background": "light"
     },
     "output_type": "display_data"
    },
    {
     "data": {
      "image/png": "[encoded data removed]",
      "text/plain": [
       "<Figure size 360x360 with 1 Axes>"
      ]
     },
     "metadata": {
      "needs_background": "light"
     },
     "output_type": "display_data"
    }
   ],
   "source": [
    "for i in categorical_var:\n",
    "    sns.catplot(x = i, y = \"cnt\", data=Data_Day)"
   ]
  },
  {
   "cell_type": "code",
   "execution_count": 158,
   "metadata": {},
   "outputs": [
    {
     "data": {
      "text/plain": [
       "Text(0.5, 0, 'Windspeed')"
      ]
     },
     "execution_count": 158,
     "metadata": {},
     "output_type": "execute_result"
    },
    {
     "data": {
      "image/png": "[encoded data removed]",
      "text/plain": [
       "<Figure size 432x288 with 1 Axes>"
      ]
     },
     "metadata": {
      "needs_background": "light"
     },
     "output_type": "display_data"
    }
   ],
   "source": [
    "scatter_plot1 = sns.scatterplot(x=\"windspeed\", y=\"cnt\", hue=\"hum\", data= Data_Day)\n",
    "\n",
    "plt.title(\"count with respect to windspeed and humidity\")\n",
    "plt.ylabel(\"Bike rental count\")\n",
    "plt.xlabel(\"Windspeed\")\n"
   ]
  },
  {
   "cell_type": "code",
   "execution_count": 159,
   "metadata": {},
   "outputs": [
    {
     "name": "stdout",
     "output_type": "stream",
     "text": [
      "               temp     atemp       hum  windspeed       cnt\n",
      "temp       1.000000  0.996458  0.141293  -0.113548  0.771214\n",
      "atemp      0.996458  1.000000  0.152295  -0.137742  0.775294\n",
      "hum        0.141293  0.152295  1.000000  -0.160292 -0.034534\n",
      "windspeed -0.113548 -0.137742 -0.160292   1.000000 -0.267443\n",
      "cnt        0.771214  0.775294 -0.034534  -0.267443  1.000000\n"
     ]
    }
   ],
   "source": [
    "Data_Day_cor = Data_Day.loc[:, numeric_var]\n",
    "correlation_result = Data_Day_cor.corr()\n",
    "print(correlation_result)"
   ]
  },
  {
   "cell_type": "code",
   "execution_count": 160,
   "metadata": {},
   "outputs": [
    {
     "data": {
      "image/png": "[encoded data removed]",
      "text/plain": [
       "<Figure size 432x288 with 2 Axes>"
      ]
     },
     "metadata": {
      "needs_background": "light"
     },
     "output_type": "display_data"
    }
   ],
   "source": [
    "heatmap = sns.heatmap(correlation_result, annot=True)"
   ]
  },
  {
   "cell_type": "code",
   "execution_count": 161,
   "metadata": {},
   "outputs": [
    {
     "name": "stdout",
     "output_type": "stream",
     "text": [
      "                sum_sq     df           F        PR(>F)\n",
      "season    2.031156e+08    1.0  150.830109  3.121329e-29\n",
      "Residual  4.888345e+08  363.0         NaN           NaN\n",
      "                sum_sq     df          F        PR(>F)\n",
      "mnth      1.367816e+08    1.0  89.435421  4.060115e-19\n",
      "Residual  5.551684e+08  363.0        NaN           NaN\n",
      "                sum_sq     df         F    PR(>F)\n",
      "holiday   1.674497e+06    1.0  0.880579  0.348667\n",
      "Residual  6.902756e+08  363.0       NaN       NaN\n",
      "                sum_sq     df         F    PR(>F)\n",
      "weekday   1.337360e+04    1.0  0.007016  0.933292\n",
      "Residual  6.919367e+08  363.0       NaN       NaN\n",
      "                  sum_sq     df         F    PR(>F)\n",
      "workingday  2.953899e+05    1.0  0.155029  0.694006\n",
      "Residual    6.916547e+08  363.0       NaN       NaN\n",
      "                  sum_sq     df          F        PR(>F)\n",
      "weathersit  7.009360e+07    1.0  40.916157  4.898884e-10\n",
      "Residual    6.218565e+08  363.0        NaN           NaN\n"
     ]
    }
   ],
   "source": [
    "import statsmodels.api as sm\n",
    "from statsmodels.formula.api import ols\n",
    "\n",
    "for i in categorical_var:\n",
    "    mod = ols('cnt' + '~' + i, data = Data_Day).fit()\n",
    "    anova_table = sm.stats.anova_lm(mod, typ = 2)\n",
    "    print(anova_table)"
   ]
  },
  {
   "cell_type": "code",
   "execution_count": 162,
   "metadata": {},
   "outputs": [],
   "source": [
    "numeric_var = [\"temp\",'atemp',\"hum\",\"windspeed\",\"cnt\"]   # numeric variables\n",
    "\n",
    "categorical_var = [\"season\",'holiday', \"mnth\", \"weathersit\",'weekday','workingday']   # categorical variables"
   ]
  },
  {
   "cell_type": "code",
   "execution_count": 163,
   "metadata": {},
   "outputs": [
    {
     "name": "stdout",
     "output_type": "stream",
     "text": [
      "temp\n"
     ]
    },
    {
     "name": "stderr",
     "output_type": "stream",
     "text": [
      "C:\\Users\\jonathan.sh\\Anaconda3\\lib\\site-packages\\seaborn\\distributions.py:2551: FutureWarning: `distplot` is a deprecated function and will be removed in a future version. Please adapt your code to use either `displot` (a figure-level function with similar flexibility) or `histplot` (an axes-level function for histograms).\n",
      "  warnings.warn(msg, FutureWarning)\n"
     ]
    },
    {
     "data": {
      "image/png": "[encoded data removed]",
      "text/plain": [
       "<Figure size 432x288 with 1 Axes>"
      ]
     },
     "metadata": {
      "needs_background": "light"
     },
     "output_type": "display_data"
    },
    {
     "name": "stdout",
     "output_type": "stream",
     "text": [
      "atemp\n"
     ]
    },
    {
     "name": "stderr",
     "output_type": "stream",
     "text": [
      "C:\\Users\\jonathan.sh\\Anaconda3\\lib\\site-packages\\seaborn\\distributions.py:2551: FutureWarning: `distplot` is a deprecated function and will be removed in a future version. Please adapt your code to use either `displot` (a figure-level function with similar flexibility) or `histplot` (an axes-level function for histograms).\n",
      "  warnings.warn(msg, FutureWarning)\n"
     ]
    },
    {
     "data": {
      "image/png": "[encoded data removed]",
      "text/plain": [
       "<Figure size 432x288 with 1 Axes>"
      ]
     },
     "metadata": {
      "needs_background": "light"
     },
     "output_type": "display_data"
    },
    {
     "name": "stdout",
     "output_type": "stream",
     "text": [
      "hum\n"
     ]
    },
    {
     "name": "stderr",
     "output_type": "stream",
     "text": [
      "C:\\Users\\jonathan.sh\\Anaconda3\\lib\\site-packages\\seaborn\\distributions.py:2551: FutureWarning: `distplot` is a deprecated function and will be removed in a future version. Please adapt your code to use either `displot` (a figure-level function with similar flexibility) or `histplot` (an axes-level function for histograms).\n",
      "  warnings.warn(msg, FutureWarning)\n"
     ]
    },
    {
     "data": {
      "image/png": "[encoded data removed]",
      "text/plain": [
       "<Figure size 432x288 with 1 Axes>"
      ]
     },
     "metadata": {
      "needs_background": "light"
     },
     "output_type": "display_data"
    },
    {
     "name": "stdout",
     "output_type": "stream",
     "text": [
      "windspeed\n"
     ]
    },
    {
     "name": "stderr",
     "output_type": "stream",
     "text": [
      "C:\\Users\\jonathan.sh\\Anaconda3\\lib\\site-packages\\seaborn\\distributions.py:2551: FutureWarning: `distplot` is a deprecated function and will be removed in a future version. Please adapt your code to use either `displot` (a figure-level function with similar flexibility) or `histplot` (an axes-level function for histograms).\n",
      "  warnings.warn(msg, FutureWarning)\n"
     ]
    },
    {
     "data": {
      "image/png": "[encoded data removed]",
      "text/plain": [
       "<Figure size 432x288 with 1 Axes>"
      ]
     },
     "metadata": {
      "needs_background": "light"
     },
     "output_type": "display_data"
    },
    {
     "name": "stderr",
     "output_type": "stream",
     "text": [
      "C:\\Users\\jonathan.sh\\Anaconda3\\lib\\site-packages\\seaborn\\distributions.py:2551: FutureWarning: `distplot` is a deprecated function and will be removed in a future version. Please adapt your code to use either `displot` (a figure-level function with similar flexibility) or `histplot` (an axes-level function for histograms).\n",
      "  warnings.warn(msg, FutureWarning)\n"
     ]
    },
    {
     "name": "stdout",
     "output_type": "stream",
     "text": [
      "cnt\n"
     ]
    },
    {
     "data": {
      "image/png": "[encoded data removed]",
      "text/plain": [
       "<Figure size 432x288 with 1 Axes>"
      ]
     },
     "metadata": {
      "needs_background": "light"
     },
     "output_type": "display_data"
    }
   ],
   "source": [
    "for i in numeric_var:\n",
    "    print(i)\n",
    "    sns.distplot(Data_Day[i], bins = 'auto', color = 'blue')\n",
    "    plt.title(\"Distribution of \"+i)\n",
    "    plt.ylabel(\"Density\")\n",
    "    plt.show()"
   ]
  },
  {
   "cell_type": "code",
   "execution_count": 164,
   "metadata": {},
   "outputs": [
    {
     "data": {
      "text/html": [
       "<div>\n",
       "<style scoped>\n",
       "    .dataframe tbody tr th:only-of-type {\n",
       "        vertical-align: middle;\n",
       "    }\n",
       "\n",
       "    .dataframe tbody tr th {\n",
       "        vertical-align: top;\n",
       "    }\n",
       "\n",
       "    .dataframe thead th {\n",
       "        text-align: right;\n",
       "    }\n",
       "</style>\n",
       "<table border=\"1\" class=\"dataframe\">\n",
       "  <thead>\n",
       "    <tr style=\"text-align: right;\">\n",
       "      <th></th>\n",
       "      <th>season</th>\n",
       "      <th>mnth</th>\n",
       "      <th>holiday</th>\n",
       "      <th>weekday</th>\n",
       "      <th>workingday</th>\n",
       "      <th>weathersit</th>\n",
       "      <th>temp</th>\n",
       "      <th>atemp</th>\n",
       "      <th>hum</th>\n",
       "      <th>windspeed</th>\n",
       "      <th>cnt</th>\n",
       "    </tr>\n",
       "  </thead>\n",
       "  <tbody>\n",
       "    <tr>\n",
       "      <th>count</th>\n",
       "      <td>365.000000</td>\n",
       "      <td>365.000000</td>\n",
       "      <td>365.000000</td>\n",
       "      <td>365.000000</td>\n",
       "      <td>365.000000</td>\n",
       "      <td>365.000000</td>\n",
       "      <td>365.000000</td>\n",
       "      <td>365.000000</td>\n",
       "      <td>365.000000</td>\n",
       "      <td>365.000000</td>\n",
       "      <td>365.000000</td>\n",
       "    </tr>\n",
       "    <tr>\n",
       "      <th>mean</th>\n",
       "      <td>2.498630</td>\n",
       "      <td>6.526027</td>\n",
       "      <td>0.027397</td>\n",
       "      <td>3.008219</td>\n",
       "      <td>0.684932</td>\n",
       "      <td>1.421918</td>\n",
       "      <td>0.486665</td>\n",
       "      <td>0.466835</td>\n",
       "      <td>0.646700</td>\n",
       "      <td>0.188134</td>\n",
       "      <td>3405.761644</td>\n",
       "    </tr>\n",
       "    <tr>\n",
       "      <th>std</th>\n",
       "      <td>1.110946</td>\n",
       "      <td>3.452584</td>\n",
       "      <td>0.163462</td>\n",
       "      <td>2.006155</td>\n",
       "      <td>0.465181</td>\n",
       "      <td>0.571831</td>\n",
       "      <td>0.189596</td>\n",
       "      <td>0.168836</td>\n",
       "      <td>0.142852</td>\n",
       "      <td>0.071625</td>\n",
       "      <td>1378.753666</td>\n",
       "    </tr>\n",
       "    <tr>\n",
       "      <th>min</th>\n",
       "      <td>1.000000</td>\n",
       "      <td>1.000000</td>\n",
       "      <td>0.000000</td>\n",
       "      <td>0.000000</td>\n",
       "      <td>0.000000</td>\n",
       "      <td>1.000000</td>\n",
       "      <td>0.059130</td>\n",
       "      <td>0.079070</td>\n",
       "      <td>0.302174</td>\n",
       "      <td>0.022392</td>\n",
       "      <td>431.000000</td>\n",
       "    </tr>\n",
       "    <tr>\n",
       "      <th>25%</th>\n",
       "      <td>2.000000</td>\n",
       "      <td>4.000000</td>\n",
       "      <td>0.000000</td>\n",
       "      <td>1.000000</td>\n",
       "      <td>0.000000</td>\n",
       "      <td>1.000000</td>\n",
       "      <td>0.325000</td>\n",
       "      <td>0.321954</td>\n",
       "      <td>0.540833</td>\n",
       "      <td>0.135583</td>\n",
       "      <td>2132.000000</td>\n",
       "    </tr>\n",
       "    <tr>\n",
       "      <th>50%</th>\n",
       "      <td>3.000000</td>\n",
       "      <td>7.000000</td>\n",
       "      <td>0.000000</td>\n",
       "      <td>3.000000</td>\n",
       "      <td>1.000000</td>\n",
       "      <td>1.000000</td>\n",
       "      <td>0.479167</td>\n",
       "      <td>0.472846</td>\n",
       "      <td>0.647917</td>\n",
       "      <td>0.185642</td>\n",
       "      <td>3740.000000</td>\n",
       "    </tr>\n",
       "    <tr>\n",
       "      <th>75%</th>\n",
       "      <td>3.000000</td>\n",
       "      <td>10.000000</td>\n",
       "      <td>0.000000</td>\n",
       "      <td>5.000000</td>\n",
       "      <td>1.000000</td>\n",
       "      <td>2.000000</td>\n",
       "      <td>0.656667</td>\n",
       "      <td>0.612379</td>\n",
       "      <td>0.742083</td>\n",
       "      <td>0.232970</td>\n",
       "      <td>4586.000000</td>\n",
       "    </tr>\n",
       "    <tr>\n",
       "      <th>max</th>\n",
       "      <td>4.000000</td>\n",
       "      <td>12.000000</td>\n",
       "      <td>1.000000</td>\n",
       "      <td>6.000000</td>\n",
       "      <td>1.000000</td>\n",
       "      <td>3.000000</td>\n",
       "      <td>0.849167</td>\n",
       "      <td>0.840896</td>\n",
       "      <td>0.972500</td>\n",
       "      <td>0.375617</td>\n",
       "      <td>6043.000000</td>\n",
       "    </tr>\n",
       "  </tbody>\n",
       "</table>\n",
       "</div>"
      ],
      "text/plain": [
       "           season        mnth     holiday     weekday  workingday  weathersit  \\\n",
       "count  365.000000  365.000000  365.000000  365.000000  365.000000  365.000000   \n",
       "mean     2.498630    6.526027    0.027397    3.008219    0.684932    1.421918   \n",
       "std      1.110946    3.452584    0.163462    2.006155    0.465181    0.571831   \n",
       "min      1.000000    1.000000    0.000000    0.000000    0.000000    1.000000   \n",
       "25%      2.000000    4.000000    0.000000    1.000000    0.000000    1.000000   \n",
       "50%      3.000000    7.000000    0.000000    3.000000    1.000000    1.000000   \n",
       "75%      3.000000   10.000000    0.000000    5.000000    1.000000    2.000000   \n",
       "max      4.000000   12.000000    1.000000    6.000000    1.000000    3.000000   \n",
       "\n",
       "             temp       atemp         hum   windspeed          cnt  \n",
       "count  365.000000  365.000000  365.000000  365.000000   365.000000  \n",
       "mean     0.486665    0.466835    0.646700    0.188134  3405.761644  \n",
       "std      0.189596    0.168836    0.142852    0.071625  1378.753666  \n",
       "min      0.059130    0.079070    0.302174    0.022392   431.000000  \n",
       "25%      0.325000    0.321954    0.540833    0.135583  2132.000000  \n",
       "50%      0.479167    0.472846    0.647917    0.185642  3740.000000  \n",
       "75%      0.656667    0.612379    0.742083    0.232970  4586.000000  \n",
       "max      0.849167    0.840896    0.972500    0.375617  6043.000000  "
      ]
     },
     "execution_count": 164,
     "metadata": {},
     "output_type": "execute_result"
    }
   ],
   "source": [
    "Data_Day.describe()"
   ]
  },
  {
   "cell_type": "code",
   "execution_count": 165,
   "metadata": {},
   "outputs": [
    {
     "data": {
      "text/html": [
       "<div>\n",
       "<style scoped>\n",
       "    .dataframe tbody tr th:only-of-type {\n",
       "        vertical-align: middle;\n",
       "    }\n",
       "\n",
       "    .dataframe tbody tr th {\n",
       "        vertical-align: top;\n",
       "    }\n",
       "\n",
       "    .dataframe thead th {\n",
       "        text-align: right;\n",
       "    }\n",
       "</style>\n",
       "<table border=\"1\" class=\"dataframe\">\n",
       "  <thead>\n",
       "    <tr style=\"text-align: right;\">\n",
       "      <th></th>\n",
       "      <th>season</th>\n",
       "      <th>mnth</th>\n",
       "      <th>holiday</th>\n",
       "      <th>weekday</th>\n",
       "      <th>workingday</th>\n",
       "      <th>weathersit</th>\n",
       "      <th>temp</th>\n",
       "      <th>atemp</th>\n",
       "      <th>hum</th>\n",
       "      <th>windspeed</th>\n",
       "      <th>cnt</th>\n",
       "    </tr>\n",
       "  </thead>\n",
       "  <tbody>\n",
       "    <tr>\n",
       "      <th>0</th>\n",
       "      <td>1</td>\n",
       "      <td>1</td>\n",
       "      <td>0</td>\n",
       "      <td>6</td>\n",
       "      <td>0</td>\n",
       "      <td>2</td>\n",
       "      <td>0.344167</td>\n",
       "      <td>0.363625</td>\n",
       "      <td>0.805833</td>\n",
       "      <td>0.160446</td>\n",
       "      <td>985.0</td>\n",
       "    </tr>\n",
       "    <tr>\n",
       "      <th>1</th>\n",
       "      <td>1</td>\n",
       "      <td>1</td>\n",
       "      <td>0</td>\n",
       "      <td>0</td>\n",
       "      <td>0</td>\n",
       "      <td>2</td>\n",
       "      <td>0.363478</td>\n",
       "      <td>0.353739</td>\n",
       "      <td>0.696087</td>\n",
       "      <td>0.248539</td>\n",
       "      <td>801.0</td>\n",
       "    </tr>\n",
       "    <tr>\n",
       "      <th>2</th>\n",
       "      <td>1</td>\n",
       "      <td>1</td>\n",
       "      <td>0</td>\n",
       "      <td>1</td>\n",
       "      <td>1</td>\n",
       "      <td>1</td>\n",
       "      <td>0.196364</td>\n",
       "      <td>0.189405</td>\n",
       "      <td>0.437273</td>\n",
       "      <td>0.248309</td>\n",
       "      <td>1349.0</td>\n",
       "    </tr>\n",
       "    <tr>\n",
       "      <th>3</th>\n",
       "      <td>1</td>\n",
       "      <td>1</td>\n",
       "      <td>0</td>\n",
       "      <td>2</td>\n",
       "      <td>1</td>\n",
       "      <td>1</td>\n",
       "      <td>0.200000</td>\n",
       "      <td>0.212122</td>\n",
       "      <td>0.590435</td>\n",
       "      <td>0.160296</td>\n",
       "      <td>1562.0</td>\n",
       "    </tr>\n",
       "    <tr>\n",
       "      <th>4</th>\n",
       "      <td>1</td>\n",
       "      <td>1</td>\n",
       "      <td>0</td>\n",
       "      <td>3</td>\n",
       "      <td>1</td>\n",
       "      <td>1</td>\n",
       "      <td>0.226957</td>\n",
       "      <td>0.229270</td>\n",
       "      <td>0.436957</td>\n",
       "      <td>0.186900</td>\n",
       "      <td>1600.0</td>\n",
       "    </tr>\n",
       "  </tbody>\n",
       "</table>\n",
       "</div>"
      ],
      "text/plain": [
       "   season  mnth  holiday  weekday  workingday  weathersit      temp     atemp  \\\n",
       "0       1     1        0        6           0           2  0.344167  0.363625   \n",
       "1       1     1        0        0           0           2  0.363478  0.353739   \n",
       "2       1     1        0        1           1           1  0.196364  0.189405   \n",
       "3       1     1        0        2           1           1  0.200000  0.212122   \n",
       "4       1     1        0        3           1           1  0.226957  0.229270   \n",
       "\n",
       "        hum  windspeed     cnt  \n",
       "0  0.805833   0.160446   985.0  \n",
       "1  0.696087   0.248539   801.0  \n",
       "2  0.437273   0.248309  1349.0  \n",
       "3  0.590435   0.160296  1562.0  \n",
       "4  0.436957   0.186900  1600.0  "
      ]
     },
     "execution_count": 165,
     "metadata": {},
     "output_type": "execute_result"
    }
   ],
   "source": [
    "df = Data_Day.copy()\n",
    "df.head()"
   ]
  },
  {
   "cell_type": "code",
   "execution_count": 166,
   "metadata": {},
   "outputs": [],
   "source": [
    "df_for_KFCV = df"
   ]
  },
  {
   "cell_type": "code",
   "execution_count": null,
   "metadata": {},
   "outputs": [],
   "source": []
  },
  {
   "cell_type": "code",
   "execution_count": null,
   "metadata": {},
   "outputs": [],
   "source": []
  },
  {
   "cell_type": "code",
   "execution_count": null,
   "metadata": {},
   "outputs": [],
   "source": []
  },
  {
   "cell_type": "code",
   "execution_count": 167,
   "metadata": {},
   "outputs": [],
   "source": [
    "from sklearn.metrics import accuracy_score\n",
    "from sklearn.model_selection import train_test_split \n",
    "from sklearn.metrics import mean_squared_error\n",
    "from scipy.stats.stats import pearsonr"
   ]
  },
  {
   "cell_type": "code",
   "execution_count": 168,
   "metadata": {},
   "outputs": [],
   "source": [
    "def MAPE(y_actual, y_predicted):\n",
    "    MAPE = np.mean(np.abs(y_actual-y_predicted)/y_actual)*100\n",
    "    return MAPE\n",
    "\n",
    "def Rsquare(y_actual, y_predicted):\n",
    "    Rsquare = np.corrcoef(y_actual,y_predicted)**2\n",
    "    return Rsquare"
   ]
  },
  {
   "cell_type": "code",
   "execution_count": 169,
   "metadata": {},
   "outputs": [],
   "source": [
    "X = df.drop(['cnt'], axis = \"columns\")\n",
    "y = df['cnt']"
   ]
  },
  {
   "cell_type": "code",
   "execution_count": 170,
   "metadata": {},
   "outputs": [],
   "source": [
    "X_train, X_test, y_train, y_test = train_test_split(X, y, test_size=.20, random_state=0)"
   ]
  },
  {
   "cell_type": "code",
   "execution_count": 171,
   "metadata": {},
   "outputs": [
    {
     "name": "stdout",
     "output_type": "stream",
     "text": [
      "MAPE =28.886364403244695\n",
      "Accuracy =71.1136355967553\n",
      "Rsquare =0.6184963603348375\n"
     ]
    }
   ],
   "source": [
    "from sklearn.tree import DecisionTreeRegressor\n",
    "DT_regressor = DecisionTreeRegressor(max_depth=2).fit(X_train,y_train)\n",
    "\n",
    "# Prediction\n",
    "\n",
    "DT_initial_pred = DT_regressor.predict(X_test)\n",
    "\n",
    "# MAPE\n",
    "DTMape_Test = MAPE(y_test, DT_pred1)\n",
    "\n",
    "\n",
    "# Rsquare - Test Data\n",
    "\n",
    "DTR2_Test = Rsquare(y_test, DTTest)\n",
    "\n",
    "DTR2_Test1 = DTR2_Test.ravel()\n",
    "\n",
    "DTR2_Test2 = float(DTR2_Test1[1])\n",
    "\n",
    "\n",
    "print(\"MAPE =\"+str(DTMape_Test))\n",
    "print(\"Accuracy =\" + str(100 - DTMape_Test))\n",
    "print(\"Rsquare =\"+str(DTR2_Test2))"
   ]
  },
  {
   "cell_type": "code",
   "execution_count": 172,
   "metadata": {},
   "outputs": [
    {
     "data": {
      "text/plain": [
       "292"
      ]
     },
     "execution_count": 172,
     "metadata": {},
     "output_type": "execute_result"
    }
   ],
   "source": [
    "len(X_train)"
   ]
  },
  {
   "cell_type": "code",
   "execution_count": 173,
   "metadata": {},
   "outputs": [
    {
     "data": {
      "text/plain": [
       "292"
      ]
     },
     "execution_count": 173,
     "metadata": {},
     "output_type": "execute_result"
    }
   ],
   "source": [
    "len(y_train)"
   ]
  },
  {
   "cell_type": "code",
   "execution_count": 174,
   "metadata": {},
   "outputs": [
    {
     "data": {
      "text/plain": [
       "73"
      ]
     },
     "execution_count": 174,
     "metadata": {},
     "output_type": "execute_result"
    }
   ],
   "source": [
    "len(X_test)"
   ]
  },
  {
   "cell_type": "code",
   "execution_count": 175,
   "metadata": {},
   "outputs": [
    {
     "data": {
      "text/plain": [
       "73"
      ]
     },
     "execution_count": 175,
     "metadata": {},
     "output_type": "execute_result"
    }
   ],
   "source": [
    "len(y_test)"
   ]
  },
  {
   "cell_type": "code",
   "execution_count": 176,
   "metadata": {},
   "outputs": [
    {
     "data": {
      "text/plain": [
       "array([1772.02, 4520.91, 1772.02, 1772.02, 1772.02, 3268.14, 1772.02,\n",
       "       3268.14, 4520.91, 1772.02, 1772.02, 4520.91, 2752.64, 4520.91,\n",
       "       4520.91, 4520.91, 3268.14, 4520.91, 4520.91, 4520.91, 4520.91,\n",
       "       4520.91, 1772.02, 3268.14, 3268.14, 4520.91, 1772.02, 4520.91,\n",
       "       4520.91, 4520.91, 4520.91, 1772.02, 1772.02, 1772.02, 1772.02,\n",
       "       1772.02, 1772.02, 4520.91, 2752.64, 1772.02, 4520.91, 3268.14,\n",
       "       4520.91, 4520.91, 1772.02, 3268.14, 4520.91, 4520.91, 4520.91,\n",
       "       1772.02, 4520.91, 4520.91, 4520.91, 4520.91, 1772.02, 1772.02,\n",
       "       1772.02, 4520.91, 1772.02, 4520.91, 3268.14, 4520.91, 1772.02,\n",
       "       4520.91, 3268.14, 3268.14, 1772.02, 4520.91, 4520.91, 4520.91,\n",
       "       1772.02, 4520.91, 4520.91])"
      ]
     },
     "execution_count": 176,
     "metadata": {},
     "output_type": "execute_result"
    }
   ],
   "source": [
    "DT_initial_pred"
   ]
  },
  {
   "cell_type": "code",
   "execution_count": 177,
   "metadata": {},
   "outputs": [
    {
     "name": "stdout",
     "output_type": "stream",
     "text": [
      "Testing score :  0.5933596631759862\n"
     ]
    }
   ],
   "source": [
    "from sklearn.metrics import r2_score\n",
    "score=r2_score(y_test,DT_initial_pred)\n",
    "print(\"Testing score : \", score)"
   ]
  },
  {
   "cell_type": "code",
   "execution_count": 178,
   "metadata": {},
   "outputs": [
    {
     "data": {
      "text/html": [
       "<div>\n",
       "<style scoped>\n",
       "    .dataframe tbody tr th:only-of-type {\n",
       "        vertical-align: middle;\n",
       "    }\n",
       "\n",
       "    .dataframe tbody tr th {\n",
       "        vertical-align: top;\n",
       "    }\n",
       "\n",
       "    .dataframe thead th {\n",
       "        text-align: right;\n",
       "    }\n",
       "</style>\n",
       "<table border=\"1\" class=\"dataframe\">\n",
       "  <thead>\n",
       "    <tr style=\"text-align: right;\">\n",
       "      <th></th>\n",
       "      <th>id</th>\n",
       "      <th>season</th>\n",
       "      <th>mnth</th>\n",
       "      <th>holiday</th>\n",
       "      <th>weekday</th>\n",
       "      <th>workingday</th>\n",
       "      <th>weathersit</th>\n",
       "      <th>temp</th>\n",
       "      <th>atemp</th>\n",
       "      <th>hum</th>\n",
       "      <th>windspeed</th>\n",
       "    </tr>\n",
       "  </thead>\n",
       "  <tbody>\n",
       "    <tr>\n",
       "      <th>0</th>\n",
       "      <td>366</td>\n",
       "      <td>1</td>\n",
       "      <td>1</td>\n",
       "      <td>0</td>\n",
       "      <td>0</td>\n",
       "      <td>0</td>\n",
       "      <td>1</td>\n",
       "      <td>0.370000</td>\n",
       "      <td>0.375621</td>\n",
       "      <td>0.692500</td>\n",
       "      <td>0.192167</td>\n",
       "    </tr>\n",
       "    <tr>\n",
       "      <th>1</th>\n",
       "      <td>367</td>\n",
       "      <td>1</td>\n",
       "      <td>1</td>\n",
       "      <td>1</td>\n",
       "      <td>1</td>\n",
       "      <td>0</td>\n",
       "      <td>1</td>\n",
       "      <td>0.273043</td>\n",
       "      <td>0.252304</td>\n",
       "      <td>0.381304</td>\n",
       "      <td>0.329665</td>\n",
       "    </tr>\n",
       "    <tr>\n",
       "      <th>2</th>\n",
       "      <td>368</td>\n",
       "      <td>1</td>\n",
       "      <td>1</td>\n",
       "      <td>0</td>\n",
       "      <td>2</td>\n",
       "      <td>1</td>\n",
       "      <td>1</td>\n",
       "      <td>0.150000</td>\n",
       "      <td>0.126275</td>\n",
       "      <td>0.441250</td>\n",
       "      <td>0.365671</td>\n",
       "    </tr>\n",
       "    <tr>\n",
       "      <th>3</th>\n",
       "      <td>369</td>\n",
       "      <td>1</td>\n",
       "      <td>1</td>\n",
       "      <td>0</td>\n",
       "      <td>3</td>\n",
       "      <td>1</td>\n",
       "      <td>2</td>\n",
       "      <td>0.107500</td>\n",
       "      <td>0.119337</td>\n",
       "      <td>0.414583</td>\n",
       "      <td>0.184700</td>\n",
       "    </tr>\n",
       "    <tr>\n",
       "      <th>4</th>\n",
       "      <td>370</td>\n",
       "      <td>1</td>\n",
       "      <td>1</td>\n",
       "      <td>0</td>\n",
       "      <td>4</td>\n",
       "      <td>1</td>\n",
       "      <td>1</td>\n",
       "      <td>0.265833</td>\n",
       "      <td>0.278412</td>\n",
       "      <td>0.524167</td>\n",
       "      <td>0.129987</td>\n",
       "    </tr>\n",
       "  </tbody>\n",
       "</table>\n",
       "</div>"
      ],
      "text/plain": [
       "    id  season  mnth  holiday  weekday  workingday  weathersit      temp  \\\n",
       "0  366       1     1        0        0           0           1  0.370000   \n",
       "1  367       1     1        1        1           0           1  0.273043   \n",
       "2  368       1     1        0        2           1           1  0.150000   \n",
       "3  369       1     1        0        3           1           2  0.107500   \n",
       "4  370       1     1        0        4           1           1  0.265833   \n",
       "\n",
       "      atemp       hum  windspeed  \n",
       "0  0.375621  0.692500   0.192167  \n",
       "1  0.252304  0.381304   0.329665  \n",
       "2  0.126275  0.441250   0.365671  \n",
       "3  0.119337  0.414583   0.184700  \n",
       "4  0.278412  0.524167   0.129987  "
      ]
     },
     "execution_count": 178,
     "metadata": {},
     "output_type": "execute_result"
    }
   ],
   "source": [
    "dataset_test=pd.read_csv(\"C:\\\\Users\\\\jonathan.sh\\\\OneDrive - Webpals\\\\DS Course\\\\Task DS\\\\test.csv\")\n",
    "dataset_test.head()"
   ]
  },
  {
   "cell_type": "code",
   "execution_count": 125,
   "metadata": {},
   "outputs": [
    {
     "data": {
      "text/plain": [
       "366"
      ]
     },
     "execution_count": 125,
     "metadata": {},
     "output_type": "execute_result"
    }
   ],
   "source": [
    "len(dataset_test)"
   ]
  },
  {
   "cell_type": "code",
   "execution_count": 129,
   "metadata": {},
   "outputs": [],
   "source": [
    "dataset_test_proccessed = dataset_test.drop(['id','atemp', 'holiday', 'weekday', 'workingday'], axis = \"columns\")"
   ]
  },
  {
   "cell_type": "code",
   "execution_count": 130,
   "metadata": {},
   "outputs": [
    {
     "data": {
      "text/html": [
       "<div>\n",
       "<style scoped>\n",
       "    .dataframe tbody tr th:only-of-type {\n",
       "        vertical-align: middle;\n",
       "    }\n",
       "\n",
       "    .dataframe tbody tr th {\n",
       "        vertical-align: top;\n",
       "    }\n",
       "\n",
       "    .dataframe thead th {\n",
       "        text-align: right;\n",
       "    }\n",
       "</style>\n",
       "<table border=\"1\" class=\"dataframe\">\n",
       "  <thead>\n",
       "    <tr style=\"text-align: right;\">\n",
       "      <th></th>\n",
       "      <th>season</th>\n",
       "      <th>mnth</th>\n",
       "      <th>weathersit</th>\n",
       "      <th>temp</th>\n",
       "      <th>hum</th>\n",
       "      <th>windspeed</th>\n",
       "    </tr>\n",
       "  </thead>\n",
       "  <tbody>\n",
       "    <tr>\n",
       "      <th>0</th>\n",
       "      <td>1</td>\n",
       "      <td>1</td>\n",
       "      <td>1</td>\n",
       "      <td>0.370000</td>\n",
       "      <td>0.692500</td>\n",
       "      <td>0.192167</td>\n",
       "    </tr>\n",
       "    <tr>\n",
       "      <th>1</th>\n",
       "      <td>1</td>\n",
       "      <td>1</td>\n",
       "      <td>1</td>\n",
       "      <td>0.273043</td>\n",
       "      <td>0.381304</td>\n",
       "      <td>0.329665</td>\n",
       "    </tr>\n",
       "    <tr>\n",
       "      <th>2</th>\n",
       "      <td>1</td>\n",
       "      <td>1</td>\n",
       "      <td>1</td>\n",
       "      <td>0.150000</td>\n",
       "      <td>0.441250</td>\n",
       "      <td>0.365671</td>\n",
       "    </tr>\n",
       "    <tr>\n",
       "      <th>3</th>\n",
       "      <td>1</td>\n",
       "      <td>1</td>\n",
       "      <td>2</td>\n",
       "      <td>0.107500</td>\n",
       "      <td>0.414583</td>\n",
       "      <td>0.184700</td>\n",
       "    </tr>\n",
       "    <tr>\n",
       "      <th>4</th>\n",
       "      <td>1</td>\n",
       "      <td>1</td>\n",
       "      <td>1</td>\n",
       "      <td>0.265833</td>\n",
       "      <td>0.524167</td>\n",
       "      <td>0.129987</td>\n",
       "    </tr>\n",
       "    <tr>\n",
       "      <th>...</th>\n",
       "      <td>...</td>\n",
       "      <td>...</td>\n",
       "      <td>...</td>\n",
       "      <td>...</td>\n",
       "      <td>...</td>\n",
       "      <td>...</td>\n",
       "    </tr>\n",
       "    <tr>\n",
       "      <th>361</th>\n",
       "      <td>1</td>\n",
       "      <td>12</td>\n",
       "      <td>2</td>\n",
       "      <td>0.254167</td>\n",
       "      <td>0.652917</td>\n",
       "      <td>0.350133</td>\n",
       "    </tr>\n",
       "    <tr>\n",
       "      <th>362</th>\n",
       "      <td>1</td>\n",
       "      <td>12</td>\n",
       "      <td>2</td>\n",
       "      <td>0.253333</td>\n",
       "      <td>0.590000</td>\n",
       "      <td>0.155471</td>\n",
       "    </tr>\n",
       "    <tr>\n",
       "      <th>363</th>\n",
       "      <td>1</td>\n",
       "      <td>12</td>\n",
       "      <td>2</td>\n",
       "      <td>0.253333</td>\n",
       "      <td>0.752917</td>\n",
       "      <td>0.124383</td>\n",
       "    </tr>\n",
       "    <tr>\n",
       "      <th>364</th>\n",
       "      <td>1</td>\n",
       "      <td>12</td>\n",
       "      <td>1</td>\n",
       "      <td>0.255833</td>\n",
       "      <td>0.483333</td>\n",
       "      <td>0.350754</td>\n",
       "    </tr>\n",
       "    <tr>\n",
       "      <th>365</th>\n",
       "      <td>1</td>\n",
       "      <td>12</td>\n",
       "      <td>2</td>\n",
       "      <td>0.215833</td>\n",
       "      <td>0.577500</td>\n",
       "      <td>0.154846</td>\n",
       "    </tr>\n",
       "  </tbody>\n",
       "</table>\n",
       "<p>366 rows × 6 columns</p>\n",
       "</div>"
      ],
      "text/plain": [
       "     season  mnth  weathersit      temp       hum  windspeed\n",
       "0         1     1           1  0.370000  0.692500   0.192167\n",
       "1         1     1           1  0.273043  0.381304   0.329665\n",
       "2         1     1           1  0.150000  0.441250   0.365671\n",
       "3         1     1           2  0.107500  0.414583   0.184700\n",
       "4         1     1           1  0.265833  0.524167   0.129987\n",
       "..      ...   ...         ...       ...       ...        ...\n",
       "361       1    12           2  0.254167  0.652917   0.350133\n",
       "362       1    12           2  0.253333  0.590000   0.155471\n",
       "363       1    12           2  0.253333  0.752917   0.124383\n",
       "364       1    12           1  0.255833  0.483333   0.350754\n",
       "365       1    12           2  0.215833  0.577500   0.154846\n",
       "\n",
       "[366 rows x 6 columns]"
      ]
     },
     "execution_count": 130,
     "metadata": {},
     "output_type": "execute_result"
    }
   ],
   "source": [
    "dataset_test_proccessed"
   ]
  },
  {
   "cell_type": "code",
   "execution_count": 133,
   "metadata": {},
   "outputs": [],
   "source": [
    "dt_test_pred = DT_regressor.predict(dataset_test_proccessed)\n",
    "np.set_printoptions(precision=2)"
   ]
  },
  {
   "cell_type": "code",
   "execution_count": 134,
   "metadata": {},
   "outputs": [
    {
     "data": {
      "text/plain": [
       "array([1772.02, 1772.02, 1772.02, 1772.02, 1772.02, 1772.02, 1772.02,\n",
       "       1772.02, 1772.02, 1772.02, 1772.02, 1772.02, 1772.02, 1772.02,\n",
       "       1772.02, 1772.02, 1772.02, 1772.02, 1772.02, 1772.02, 1772.02,\n",
       "       1772.02, 1772.02, 1772.02, 1772.02, 1772.02, 1772.02, 1772.02,\n",
       "       1772.02, 1772.02, 1772.02, 4520.91, 1772.02, 1772.02, 1772.02,\n",
       "       1772.02, 1772.02, 1772.02, 1772.02, 1772.02, 1772.02, 1772.02,\n",
       "       1772.02, 1772.02, 1772.02, 1772.02, 1772.02, 1772.02, 1772.02,\n",
       "       1772.02, 1772.02, 1772.02, 1772.02, 1772.02, 1772.02, 1772.02,\n",
       "       1772.02, 1772.02, 1772.02, 1772.02, 4520.91, 1772.02, 1772.02,\n",
       "       1772.02, 1772.02, 1772.02, 1772.02, 4520.91, 1772.02, 1772.02,\n",
       "       1772.02, 4520.91, 4520.91, 4520.91, 4520.91, 1772.02, 4520.91,\n",
       "       4520.91, 4520.91, 4520.91, 4520.91, 4520.91, 4520.91, 4520.91,\n",
       "       1772.02, 1772.02, 1772.02, 4520.91, 4520.91, 1772.02, 1772.02,\n",
       "       1772.02, 1772.02, 4520.91, 4520.91, 1772.02, 1772.02, 1772.02,\n",
       "       4520.91, 4520.91, 1772.02, 1772.02, 1772.02, 1772.02, 4520.91,\n",
       "       4520.91, 4520.91, 4520.91, 4520.91, 4520.91, 4520.91, 4520.91,\n",
       "       1772.02, 1772.02, 1772.02, 4520.91, 4520.91, 1772.02, 1772.02,\n",
       "       4520.91, 4520.91, 4520.91, 4520.91, 4520.91, 4520.91, 4520.91,\n",
       "       4520.91, 4520.91, 4520.91, 4520.91, 4520.91, 4520.91, 4520.91,\n",
       "       4520.91, 4520.91, 4520.91, 4520.91, 4520.91, 4520.91, 4520.91,\n",
       "       4520.91, 4520.91, 4520.91, 4520.91, 4520.91, 4520.91, 4520.91,\n",
       "       4520.91, 4520.91, 4520.91, 4520.91, 4520.91, 4520.91, 4520.91,\n",
       "       4520.91, 4520.91, 4520.91, 4520.91, 4520.91, 4520.91, 4520.91,\n",
       "       4520.91, 4520.91, 4520.91, 4520.91, 4520.91, 4520.91, 4520.91,\n",
       "       4520.91, 4520.91, 4520.91, 4520.91, 4520.91, 4520.91, 4520.91,\n",
       "       4520.91, 4520.91, 4520.91, 4520.91, 4520.91, 4520.91, 4520.91,\n",
       "       4520.91, 4520.91, 4520.91, 4520.91, 4520.91, 4520.91, 4520.91,\n",
       "       4520.91, 4520.91, 4520.91, 4520.91, 4520.91, 4520.91, 4520.91,\n",
       "       4520.91, 4520.91, 4520.91, 4520.91, 4520.91, 4520.91, 4520.91,\n",
       "       4520.91, 4520.91, 4520.91, 4520.91, 4520.91, 4520.91, 4520.91,\n",
       "       4520.91, 4520.91, 4520.91, 4520.91, 4520.91, 4520.91, 4520.91,\n",
       "       4520.91, 4520.91, 4520.91, 4520.91, 4520.91, 4520.91, 4520.91,\n",
       "       4520.91, 4520.91, 4520.91, 4520.91, 4520.91, 4520.91, 4520.91,\n",
       "       4520.91, 4520.91, 4520.91, 4520.91, 4520.91, 4520.91, 4520.91,\n",
       "       4520.91, 4520.91, 4520.91, 4520.91, 4520.91, 4520.91, 4520.91,\n",
       "       4520.91, 4520.91, 4520.91, 4520.91, 4520.91, 4520.91, 4520.91,\n",
       "       4520.91, 4520.91, 4520.91, 4520.91, 4520.91, 4520.91, 4520.91,\n",
       "       4520.91, 4520.91, 4520.91, 4520.91, 4520.91, 4520.91, 4520.91,\n",
       "       4520.91, 4520.91, 4520.91, 4520.91, 4520.91, 4520.91, 4520.91,\n",
       "       4520.91, 4520.91, 4520.91, 4520.91, 4520.91, 4520.91, 4520.91,\n",
       "       3268.14, 3268.14, 3268.14, 4520.91, 3268.14, 3268.14, 3268.14,\n",
       "       4520.91, 4520.91, 4520.91, 3268.14, 4520.91, 4520.91, 4520.91,\n",
       "       4520.91, 4520.91, 4520.91, 4520.91, 4520.91, 4520.91, 4520.91,\n",
       "       4520.91, 3268.14, 3268.14, 3268.14, 3268.14, 3268.14, 3268.14,\n",
       "       3268.14, 3268.14, 3268.14, 3268.14, 3268.14, 3268.14, 3268.14,\n",
       "       3268.14, 4520.91, 3268.14, 3268.14, 3268.14, 3268.14, 3268.14,\n",
       "       3268.14, 3268.14, 3268.14, 3268.14, 3268.14, 3268.14, 3268.14,\n",
       "       3268.14, 3268.14, 3268.14, 3268.14, 3268.14, 3268.14, 3268.14,\n",
       "       3268.14, 3268.14, 4520.91, 3268.14, 3268.14, 3268.14, 3268.14,\n",
       "       3268.14, 3268.14, 3268.14, 3268.14, 3268.14, 3268.14, 3268.14,\n",
       "       3268.14, 3268.14, 3268.14, 3268.14, 3268.14, 1772.02, 1772.02,\n",
       "       1772.02, 1772.02, 1772.02, 1772.02, 1772.02, 1772.02, 1772.02,\n",
       "       1772.02, 1772.02])"
      ]
     },
     "execution_count": 134,
     "metadata": {},
     "output_type": "execute_result"
    }
   ],
   "source": [
    "dt_test_pred"
   ]
  },
  {
   "cell_type": "code",
   "execution_count": 135,
   "metadata": {},
   "outputs": [
    {
     "data": {
      "text/html": [
       "<div>\n",
       "<style scoped>\n",
       "    .dataframe tbody tr th:only-of-type {\n",
       "        vertical-align: middle;\n",
       "    }\n",
       "\n",
       "    .dataframe tbody tr th {\n",
       "        vertical-align: top;\n",
       "    }\n",
       "\n",
       "    .dataframe thead th {\n",
       "        text-align: right;\n",
       "    }\n",
       "</style>\n",
       "<table border=\"1\" class=\"dataframe\">\n",
       "  <thead>\n",
       "    <tr style=\"text-align: right;\">\n",
       "      <th></th>\n",
       "      <th>id</th>\n",
       "      <th>cnt</th>\n",
       "    </tr>\n",
       "  </thead>\n",
       "  <tbody>\n",
       "    <tr>\n",
       "      <th>0</th>\n",
       "      <td>366</td>\n",
       "      <td>2324.704634</td>\n",
       "    </tr>\n",
       "    <tr>\n",
       "      <th>1</th>\n",
       "      <td>367</td>\n",
       "      <td>1825.998871</td>\n",
       "    </tr>\n",
       "    <tr>\n",
       "      <th>2</th>\n",
       "      <td>368</td>\n",
       "      <td>1246.661929</td>\n",
       "    </tr>\n",
       "    <tr>\n",
       "      <th>3</th>\n",
       "      <td>369</td>\n",
       "      <td>1067.359745</td>\n",
       "    </tr>\n",
       "    <tr>\n",
       "      <th>4</th>\n",
       "      <td>370</td>\n",
       "      <td>2349.727614</td>\n",
       "    </tr>\n",
       "  </tbody>\n",
       "</table>\n",
       "</div>"
      ],
      "text/plain": [
       "    id          cnt\n",
       "0  366  2324.704634\n",
       "1  367  1825.998871\n",
       "2  368  1246.661929\n",
       "3  369  1067.359745\n",
       "4  370  2349.727614"
      ]
     },
     "execution_count": 135,
     "metadata": {},
     "output_type": "execute_result"
    }
   ],
   "source": [
    "submission=pd.read_csv(\"C:\\\\Users\\\\jonathan.sh\\\\OneDrive - Webpals\\\\DS Course\\\\Task DS\\\\sample_submission.csv\")\n",
    "submission.head()"
   ]
  },
  {
   "cell_type": "code",
   "execution_count": 136,
   "metadata": {},
   "outputs": [],
   "source": [
    "df=pd.DataFrame(submission)"
   ]
  },
  {
   "cell_type": "code",
   "execution_count": 138,
   "metadata": {},
   "outputs": [],
   "source": [
    "df['cnt']=dt_test_pred"
   ]
  },
  {
   "cell_type": "code",
   "execution_count": 139,
   "metadata": {},
   "outputs": [
    {
     "data": {
      "text/html": [
       "<div>\n",
       "<style scoped>\n",
       "    .dataframe tbody tr th:only-of-type {\n",
       "        vertical-align: middle;\n",
       "    }\n",
       "\n",
       "    .dataframe tbody tr th {\n",
       "        vertical-align: top;\n",
       "    }\n",
       "\n",
       "    .dataframe thead th {\n",
       "        text-align: right;\n",
       "    }\n",
       "</style>\n",
       "<table border=\"1\" class=\"dataframe\">\n",
       "  <thead>\n",
       "    <tr style=\"text-align: right;\">\n",
       "      <th></th>\n",
       "      <th>id</th>\n",
       "      <th>cnt</th>\n",
       "    </tr>\n",
       "  </thead>\n",
       "  <tbody>\n",
       "    <tr>\n",
       "      <th>0</th>\n",
       "      <td>366</td>\n",
       "      <td>1772.022472</td>\n",
       "    </tr>\n",
       "    <tr>\n",
       "      <th>1</th>\n",
       "      <td>367</td>\n",
       "      <td>1772.022472</td>\n",
       "    </tr>\n",
       "    <tr>\n",
       "      <th>2</th>\n",
       "      <td>368</td>\n",
       "      <td>1772.022472</td>\n",
       "    </tr>\n",
       "    <tr>\n",
       "      <th>3</th>\n",
       "      <td>369</td>\n",
       "      <td>1772.022472</td>\n",
       "    </tr>\n",
       "    <tr>\n",
       "      <th>4</th>\n",
       "      <td>370</td>\n",
       "      <td>1772.022472</td>\n",
       "    </tr>\n",
       "    <tr>\n",
       "      <th>...</th>\n",
       "      <td>...</td>\n",
       "      <td>...</td>\n",
       "    </tr>\n",
       "    <tr>\n",
       "      <th>361</th>\n",
       "      <td>727</td>\n",
       "      <td>1772.022472</td>\n",
       "    </tr>\n",
       "    <tr>\n",
       "      <th>362</th>\n",
       "      <td>728</td>\n",
       "      <td>1772.022472</td>\n",
       "    </tr>\n",
       "    <tr>\n",
       "      <th>363</th>\n",
       "      <td>729</td>\n",
       "      <td>1772.022472</td>\n",
       "    </tr>\n",
       "    <tr>\n",
       "      <th>364</th>\n",
       "      <td>730</td>\n",
       "      <td>1772.022472</td>\n",
       "    </tr>\n",
       "    <tr>\n",
       "      <th>365</th>\n",
       "      <td>731</td>\n",
       "      <td>1772.022472</td>\n",
       "    </tr>\n",
       "  </tbody>\n",
       "</table>\n",
       "<p>366 rows × 2 columns</p>\n",
       "</div>"
      ],
      "text/plain": [
       "      id          cnt\n",
       "0    366  1772.022472\n",
       "1    367  1772.022472\n",
       "2    368  1772.022472\n",
       "3    369  1772.022472\n",
       "4    370  1772.022472\n",
       "..   ...          ...\n",
       "361  727  1772.022472\n",
       "362  728  1772.022472\n",
       "363  729  1772.022472\n",
       "364  730  1772.022472\n",
       "365  731  1772.022472\n",
       "\n",
       "[366 rows x 2 columns]"
      ]
     },
     "execution_count": 139,
     "metadata": {},
     "output_type": "execute_result"
    }
   ],
   "source": [
    "df"
   ]
  },
  {
   "cell_type": "code",
   "execution_count": 140,
   "metadata": {},
   "outputs": [
    {
     "name": "stdout",
     "output_type": "stream",
     "text": [
      "  id          cnt\n",
      " 366  1772.022472\n",
      " 367  1772.022472\n",
      " 368  1772.022472\n",
      " 369  1772.022472\n",
      " 370  1772.022472\n",
      " 371  1772.022472\n",
      " 372  1772.022472\n",
      " 373  1772.022472\n",
      " 374  1772.022472\n",
      " 375  1772.022472\n",
      " 376  1772.022472\n",
      " 377  1772.022472\n",
      " 378  1772.022472\n",
      " 379  1772.022472\n",
      " 380  1772.022472\n",
      " 381  1772.022472\n",
      " 382  1772.022472\n",
      " 383  1772.022472\n",
      " 384  1772.022472\n",
      " 385  1772.022472\n",
      " 386  1772.022472\n",
      " 387  1772.022472\n",
      " 388  1772.022472\n",
      " 389  1772.022472\n",
      " 390  1772.022472\n",
      " 391  1772.022472\n",
      " 392  1772.022472\n",
      " 393  1772.022472\n",
      " 394  1772.022472\n",
      " 395  1772.022472\n",
      " 396  1772.022472\n",
      " 397  4520.906040\n",
      " 398  1772.022472\n",
      " 399  1772.022472\n",
      " 400  1772.022472\n",
      " 401  1772.022472\n",
      " 402  1772.022472\n",
      " 403  1772.022472\n",
      " 404  1772.022472\n",
      " 405  1772.022472\n",
      " 406  1772.022472\n",
      " 407  1772.022472\n",
      " 408  1772.022472\n",
      " 409  1772.022472\n",
      " 410  1772.022472\n",
      " 411  1772.022472\n",
      " 412  1772.022472\n",
      " 413  1772.022472\n",
      " 414  1772.022472\n",
      " 415  1772.022472\n",
      " 416  1772.022472\n",
      " 417  1772.022472\n",
      " 418  1772.022472\n",
      " 419  1772.022472\n",
      " 420  1772.022472\n",
      " 421  1772.022472\n",
      " 422  1772.022472\n",
      " 423  1772.022472\n",
      " 424  1772.022472\n",
      " 425  1772.022472\n",
      " 426  4520.906040\n",
      " 427  1772.022472\n",
      " 428  1772.022472\n",
      " 429  1772.022472\n",
      " 430  1772.022472\n",
      " 431  1772.022472\n",
      " 432  1772.022472\n",
      " 433  4520.906040\n",
      " 434  1772.022472\n",
      " 435  1772.022472\n",
      " 436  1772.022472\n",
      " 437  4520.906040\n",
      " 438  4520.906040\n",
      " 439  4520.906040\n",
      " 440  4520.906040\n",
      " 441  1772.022472\n",
      " 442  4520.906040\n",
      " 443  4520.906040\n",
      " 444  4520.906040\n",
      " 445  4520.906040\n",
      " 446  4520.906040\n",
      " 447  4520.906040\n",
      " 448  4520.906040\n",
      " 449  4520.906040\n",
      " 450  1772.022472\n",
      " 451  1772.022472\n",
      " 452  1772.022472\n",
      " 453  4520.906040\n",
      " 454  4520.906040\n",
      " 455  1772.022472\n",
      " 456  1772.022472\n",
      " 457  1772.022472\n",
      " 458  1772.022472\n",
      " 459  4520.906040\n",
      " 460  4520.906040\n",
      " 461  1772.022472\n",
      " 462  1772.022472\n",
      " 463  1772.022472\n",
      " 464  4520.906040\n",
      " 465  4520.906040\n",
      " 466  1772.022472\n",
      " 467  1772.022472\n",
      " 468  1772.022472\n",
      " 469  1772.022472\n",
      " 470  4520.906040\n",
      " 471  4520.906040\n",
      " 472  4520.906040\n",
      " 473  4520.906040\n",
      " 474  4520.906040\n",
      " 475  4520.906040\n",
      " 476  4520.906040\n",
      " 477  4520.906040\n",
      " 478  1772.022472\n",
      " 479  1772.022472\n",
      " 480  1772.022472\n",
      " 481  4520.906040\n",
      " 482  4520.906040\n",
      " 483  1772.022472\n",
      " 484  1772.022472\n",
      " 485  4520.906040\n",
      " 486  4520.906040\n",
      " 487  4520.906040\n",
      " 488  4520.906040\n",
      " 489  4520.906040\n",
      " 490  4520.906040\n",
      " 491  4520.906040\n",
      " 492  4520.906040\n",
      " 493  4520.906040\n",
      " 494  4520.906040\n",
      " 495  4520.906040\n",
      " 496  4520.906040\n",
      " 497  4520.906040\n",
      " 498  4520.906040\n",
      " 499  4520.906040\n",
      " 500  4520.906040\n",
      " 501  4520.906040\n",
      " 502  4520.906040\n",
      " 503  4520.906040\n",
      " 504  4520.906040\n",
      " 505  4520.906040\n",
      " 506  4520.906040\n",
      " 507  4520.906040\n",
      " 508  4520.906040\n",
      " 509  4520.906040\n",
      " 510  4520.906040\n",
      " 511  4520.906040\n",
      " 512  4520.906040\n",
      " 513  4520.906040\n",
      " 514  4520.906040\n",
      " 515  4520.906040\n",
      " 516  4520.906040\n",
      " 517  4520.906040\n",
      " 518  4520.906040\n",
      " 519  4520.906040\n",
      " 520  4520.906040\n",
      " 521  4520.906040\n",
      " 522  4520.906040\n",
      " 523  4520.906040\n",
      " 524  4520.906040\n",
      " 525  4520.906040\n",
      " 526  4520.906040\n",
      " 527  4520.906040\n",
      " 528  4520.906040\n",
      " 529  4520.906040\n",
      " 530  4520.906040\n",
      " 531  4520.906040\n",
      " 532  4520.906040\n",
      " 533  4520.906040\n",
      " 534  4520.906040\n",
      " 535  4520.906040\n",
      " 536  4520.906040\n",
      " 537  4520.906040\n",
      " 538  4520.906040\n",
      " 539  4520.906040\n",
      " 540  4520.906040\n",
      " 541  4520.906040\n",
      " 542  4520.906040\n",
      " 543  4520.906040\n",
      " 544  4520.906040\n",
      " 545  4520.906040\n",
      " 546  4520.906040\n",
      " 547  4520.906040\n",
      " 548  4520.906040\n",
      " 549  4520.906040\n",
      " 550  4520.906040\n",
      " 551  4520.906040\n",
      " 552  4520.906040\n",
      " 553  4520.906040\n",
      " 554  4520.906040\n",
      " 555  4520.906040\n",
      " 556  4520.906040\n",
      " 557  4520.906040\n",
      " 558  4520.906040\n",
      " 559  4520.906040\n",
      " 560  4520.906040\n",
      " 561  4520.906040\n",
      " 562  4520.906040\n",
      " 563  4520.906040\n",
      " 564  4520.906040\n",
      " 565  4520.906040\n",
      " 566  4520.906040\n",
      " 567  4520.906040\n",
      " 568  4520.906040\n",
      " 569  4520.906040\n",
      " 570  4520.906040\n",
      " 571  4520.906040\n",
      " 572  4520.906040\n",
      " 573  4520.906040\n",
      " 574  4520.906040\n",
      " 575  4520.906040\n",
      " 576  4520.906040\n",
      " 577  4520.906040\n",
      " 578  4520.906040\n",
      " 579  4520.906040\n",
      " 580  4520.906040\n",
      " 581  4520.906040\n",
      " 582  4520.906040\n",
      " 583  4520.906040\n",
      " 584  4520.906040\n",
      " 585  4520.906040\n",
      " 586  4520.906040\n",
      " 587  4520.906040\n",
      " 588  4520.906040\n",
      " 589  4520.906040\n",
      " 590  4520.906040\n",
      " 591  4520.906040\n",
      " 592  4520.906040\n",
      " 593  4520.906040\n",
      " 594  4520.906040\n",
      " 595  4520.906040\n",
      " 596  4520.906040\n",
      " 597  4520.906040\n",
      " 598  4520.906040\n",
      " 599  4520.906040\n",
      " 600  4520.906040\n",
      " 601  4520.906040\n",
      " 602  4520.906040\n",
      " 603  4520.906040\n",
      " 604  4520.906040\n",
      " 605  4520.906040\n",
      " 606  4520.906040\n",
      " 607  4520.906040\n",
      " 608  4520.906040\n",
      " 609  4520.906040\n",
      " 610  4520.906040\n",
      " 611  4520.906040\n",
      " 612  4520.906040\n",
      " 613  4520.906040\n",
      " 614  4520.906040\n",
      " 615  4520.906040\n",
      " 616  4520.906040\n",
      " 617  4520.906040\n",
      " 618  4520.906040\n",
      " 619  4520.906040\n",
      " 620  4520.906040\n",
      " 621  4520.906040\n",
      " 622  4520.906040\n",
      " 623  4520.906040\n",
      " 624  4520.906040\n",
      " 625  4520.906040\n",
      " 626  4520.906040\n",
      " 627  4520.906040\n",
      " 628  4520.906040\n",
      " 629  4520.906040\n",
      " 630  4520.906040\n",
      " 631  4520.906040\n",
      " 632  4520.906040\n",
      " 633  4520.906040\n",
      " 634  4520.906040\n",
      " 635  4520.906040\n",
      " 636  4520.906040\n",
      " 637  4520.906040\n",
      " 638  4520.906040\n",
      " 639  4520.906040\n",
      " 640  4520.906040\n",
      " 641  4520.906040\n",
      " 642  4520.906040\n",
      " 643  4520.906040\n",
      " 644  4520.906040\n",
      " 645  4520.906040\n",
      " 646  3268.139535\n",
      " 647  3268.139535\n",
      " 648  3268.139535\n",
      " 649  4520.906040\n",
      " 650  3268.139535\n",
      " 651  3268.139535\n",
      " 652  3268.139535\n",
      " 653  4520.906040\n",
      " 654  4520.906040\n",
      " 655  4520.906040\n",
      " 656  3268.139535\n",
      " 657  4520.906040\n",
      " 658  4520.906040\n",
      " 659  4520.906040\n",
      " 660  4520.906040\n",
      " 661  4520.906040\n",
      " 662  4520.906040\n",
      " 663  4520.906040\n",
      " 664  4520.906040\n",
      " 665  4520.906040\n",
      " 666  4520.906040\n",
      " 667  4520.906040\n",
      " 668  3268.139535\n",
      " 669  3268.139535\n",
      " 670  3268.139535\n",
      " 671  3268.139535\n",
      " 672  3268.139535\n",
      " 673  3268.139535\n",
      " 674  3268.139535\n",
      " 675  3268.139535\n",
      " 676  3268.139535\n",
      " 677  3268.139535\n",
      " 678  3268.139535\n",
      " 679  3268.139535\n",
      " 680  3268.139535\n",
      " 681  3268.139535\n",
      " 682  4520.906040\n",
      " 683  3268.139535\n",
      " 684  3268.139535\n",
      " 685  3268.139535\n",
      " 686  3268.139535\n",
      " 687  3268.139535\n",
      " 688  3268.139535\n",
      " 689  3268.139535\n",
      " 690  3268.139535\n",
      " 691  3268.139535\n",
      " 692  3268.139535\n",
      " 693  3268.139535\n",
      " 694  3268.139535\n",
      " 695  3268.139535\n",
      " 696  3268.139535\n",
      " 697  3268.139535\n",
      " 698  3268.139535\n",
      " 699  3268.139535\n",
      " 700  3268.139535\n",
      " 701  3268.139535\n",
      " 702  3268.139535\n",
      " 703  3268.139535\n",
      " 704  4520.906040\n",
      " 705  3268.139535\n",
      " 706  3268.139535\n",
      " 707  3268.139535\n",
      " 708  3268.139535\n",
      " 709  3268.139535\n",
      " 710  3268.139535\n",
      " 711  3268.139535\n",
      " 712  3268.139535\n",
      " 713  3268.139535\n",
      " 714  3268.139535\n",
      " 715  3268.139535\n",
      " 716  3268.139535\n",
      " 717  3268.139535\n",
      " 718  3268.139535\n",
      " 719  3268.139535\n",
      " 720  3268.139535\n",
      " 721  1772.022472\n",
      " 722  1772.022472\n",
      " 723  1772.022472\n",
      " 724  1772.022472\n",
      " 725  1772.022472\n",
      " 726  1772.022472\n",
      " 727  1772.022472\n",
      " 728  1772.022472\n",
      " 729  1772.022472\n",
      " 730  1772.022472\n",
      " 731  1772.022472\n"
     ]
    }
   ],
   "source": [
    "print(df.to_string(index=False))"
   ]
  },
  {
   "cell_type": "code",
   "execution_count": 141,
   "metadata": {},
   "outputs": [],
   "source": [
    "df.to_csv('C:\\\\Users\\\\jonathan.sh\\\\OneDrive - Webpals\\\\DS Course\\\\Task DS\\\\DT_TEST__submission1.csv',index=False)"
   ]
  }
 ],
 "metadata": {
  "kernelspec": {
   "display_name": "Python 3",
   "language": "python",
   "name": "python3"
  },
  "language_info": {
   "codemirror_mode": {
    "name": "ipython",
    "version": 3
   },
   "file_extension": ".py",
   "mimetype": "text/x-python",
   "name": "python",
   "nbconvert_exporter": "python",
   "pygments_lexer": "ipython3",
   "version": "3.8.5"
  }
 },
 "nbformat": 4,
 "nbformat_minor": 4
}
