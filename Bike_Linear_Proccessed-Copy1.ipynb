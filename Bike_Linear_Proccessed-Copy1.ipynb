{
 "cells": [
  {
   "cell_type": "code",
   "execution_count": 2,
   "metadata": {},
   "outputs": [],
   "source": [
    "import pandas as pd\n",
    "import numpy as np\n",
    "import matplotlib.pyplot as plt\n",
    "import seaborn as sns"
   ]
  },
  {
   "cell_type": "code",
   "execution_count": 3,
   "metadata": {},
   "outputs": [
    {
     "data": {
      "text/html": [
       "<div>\n",
       "<style scoped>\n",
       "    .dataframe tbody tr th:only-of-type {\n",
       "        vertical-align: middle;\n",
       "    }\n",
       "\n",
       "    .dataframe tbody tr th {\n",
       "        vertical-align: top;\n",
       "    }\n",
       "\n",
       "    .dataframe thead th {\n",
       "        text-align: right;\n",
       "    }\n",
       "</style>\n",
       "<table border=\"1\" class=\"dataframe\">\n",
       "  <thead>\n",
       "    <tr style=\"text-align: right;\">\n",
       "      <th></th>\n",
       "      <th>id</th>\n",
       "      <th>season</th>\n",
       "      <th>mnth</th>\n",
       "      <th>holiday</th>\n",
       "      <th>weekday</th>\n",
       "      <th>workingday</th>\n",
       "      <th>weathersit</th>\n",
       "      <th>temp</th>\n",
       "      <th>atemp</th>\n",
       "      <th>hum</th>\n",
       "      <th>windspeed</th>\n",
       "      <th>cnt</th>\n",
       "    </tr>\n",
       "  </thead>\n",
       "  <tbody>\n",
       "    <tr>\n",
       "      <th>0</th>\n",
       "      <td>1</td>\n",
       "      <td>1</td>\n",
       "      <td>1</td>\n",
       "      <td>0</td>\n",
       "      <td>6</td>\n",
       "      <td>0</td>\n",
       "      <td>2</td>\n",
       "      <td>0.344167</td>\n",
       "      <td>0.363625</td>\n",
       "      <td>0.805833</td>\n",
       "      <td>0.160446</td>\n",
       "      <td>985</td>\n",
       "    </tr>\n",
       "    <tr>\n",
       "      <th>1</th>\n",
       "      <td>2</td>\n",
       "      <td>1</td>\n",
       "      <td>1</td>\n",
       "      <td>0</td>\n",
       "      <td>0</td>\n",
       "      <td>0</td>\n",
       "      <td>2</td>\n",
       "      <td>0.363478</td>\n",
       "      <td>0.353739</td>\n",
       "      <td>0.696087</td>\n",
       "      <td>0.248539</td>\n",
       "      <td>801</td>\n",
       "    </tr>\n",
       "    <tr>\n",
       "      <th>2</th>\n",
       "      <td>3</td>\n",
       "      <td>1</td>\n",
       "      <td>1</td>\n",
       "      <td>0</td>\n",
       "      <td>1</td>\n",
       "      <td>1</td>\n",
       "      <td>1</td>\n",
       "      <td>0.196364</td>\n",
       "      <td>0.189405</td>\n",
       "      <td>0.437273</td>\n",
       "      <td>0.248309</td>\n",
       "      <td>1349</td>\n",
       "    </tr>\n",
       "    <tr>\n",
       "      <th>3</th>\n",
       "      <td>4</td>\n",
       "      <td>1</td>\n",
       "      <td>1</td>\n",
       "      <td>0</td>\n",
       "      <td>2</td>\n",
       "      <td>1</td>\n",
       "      <td>1</td>\n",
       "      <td>0.200000</td>\n",
       "      <td>0.212122</td>\n",
       "      <td>0.590435</td>\n",
       "      <td>0.160296</td>\n",
       "      <td>1562</td>\n",
       "    </tr>\n",
       "    <tr>\n",
       "      <th>4</th>\n",
       "      <td>5</td>\n",
       "      <td>1</td>\n",
       "      <td>1</td>\n",
       "      <td>0</td>\n",
       "      <td>3</td>\n",
       "      <td>1</td>\n",
       "      <td>1</td>\n",
       "      <td>0.226957</td>\n",
       "      <td>0.229270</td>\n",
       "      <td>0.436957</td>\n",
       "      <td>0.186900</td>\n",
       "      <td>1600</td>\n",
       "    </tr>\n",
       "  </tbody>\n",
       "</table>\n",
       "</div>"
      ],
      "text/plain": [
       "   id  season  mnth  holiday  weekday  workingday  weathersit      temp  \\\n",
       "0   1       1     1        0        6           0           2  0.344167   \n",
       "1   2       1     1        0        0           0           2  0.363478   \n",
       "2   3       1     1        0        1           1           1  0.196364   \n",
       "3   4       1     1        0        2           1           1  0.200000   \n",
       "4   5       1     1        0        3           1           1  0.226957   \n",
       "\n",
       "      atemp       hum  windspeed   cnt  \n",
       "0  0.363625  0.805833   0.160446   985  \n",
       "1  0.353739  0.696087   0.248539   801  \n",
       "2  0.189405  0.437273   0.248309  1349  \n",
       "3  0.212122  0.590435   0.160296  1562  \n",
       "4  0.229270  0.436957   0.186900  1600  "
      ]
     },
     "execution_count": 3,
     "metadata": {},
     "output_type": "execute_result"
    }
   ],
   "source": [
    "dataset_train=pd.read_csv(\"C:\\\\Users\\\\jonathan.sh\\\\OneDrive - Webpals\\\\DS Course\\\\Task DS\\\\train.csv\")\n",
    "dataset_train.head()"
   ]
  },
  {
   "cell_type": "code",
   "execution_count": 4,
   "metadata": {},
   "outputs": [
    {
     "data": {
      "text/html": [
       "<div>\n",
       "<style scoped>\n",
       "    .dataframe tbody tr th:only-of-type {\n",
       "        vertical-align: middle;\n",
       "    }\n",
       "\n",
       "    .dataframe tbody tr th {\n",
       "        vertical-align: top;\n",
       "    }\n",
       "\n",
       "    .dataframe thead th {\n",
       "        text-align: right;\n",
       "    }\n",
       "</style>\n",
       "<table border=\"1\" class=\"dataframe\">\n",
       "  <thead>\n",
       "    <tr style=\"text-align: right;\">\n",
       "      <th></th>\n",
       "      <th>season</th>\n",
       "      <th>mnth</th>\n",
       "      <th>holiday</th>\n",
       "      <th>weekday</th>\n",
       "      <th>workingday</th>\n",
       "      <th>weathersit</th>\n",
       "      <th>temp</th>\n",
       "      <th>atemp</th>\n",
       "      <th>hum</th>\n",
       "      <th>windspeed</th>\n",
       "      <th>cnt</th>\n",
       "    </tr>\n",
       "  </thead>\n",
       "  <tbody>\n",
       "    <tr>\n",
       "      <th>0</th>\n",
       "      <td>1</td>\n",
       "      <td>1</td>\n",
       "      <td>0</td>\n",
       "      <td>6</td>\n",
       "      <td>0</td>\n",
       "      <td>2</td>\n",
       "      <td>0.344167</td>\n",
       "      <td>0.363625</td>\n",
       "      <td>0.805833</td>\n",
       "      <td>0.160446</td>\n",
       "      <td>985</td>\n",
       "    </tr>\n",
       "    <tr>\n",
       "      <th>1</th>\n",
       "      <td>1</td>\n",
       "      <td>1</td>\n",
       "      <td>0</td>\n",
       "      <td>0</td>\n",
       "      <td>0</td>\n",
       "      <td>2</td>\n",
       "      <td>0.363478</td>\n",
       "      <td>0.353739</td>\n",
       "      <td>0.696087</td>\n",
       "      <td>0.248539</td>\n",
       "      <td>801</td>\n",
       "    </tr>\n",
       "    <tr>\n",
       "      <th>2</th>\n",
       "      <td>1</td>\n",
       "      <td>1</td>\n",
       "      <td>0</td>\n",
       "      <td>1</td>\n",
       "      <td>1</td>\n",
       "      <td>1</td>\n",
       "      <td>0.196364</td>\n",
       "      <td>0.189405</td>\n",
       "      <td>0.437273</td>\n",
       "      <td>0.248309</td>\n",
       "      <td>1349</td>\n",
       "    </tr>\n",
       "    <tr>\n",
       "      <th>3</th>\n",
       "      <td>1</td>\n",
       "      <td>1</td>\n",
       "      <td>0</td>\n",
       "      <td>2</td>\n",
       "      <td>1</td>\n",
       "      <td>1</td>\n",
       "      <td>0.200000</td>\n",
       "      <td>0.212122</td>\n",
       "      <td>0.590435</td>\n",
       "      <td>0.160296</td>\n",
       "      <td>1562</td>\n",
       "    </tr>\n",
       "    <tr>\n",
       "      <th>4</th>\n",
       "      <td>1</td>\n",
       "      <td>1</td>\n",
       "      <td>0</td>\n",
       "      <td>3</td>\n",
       "      <td>1</td>\n",
       "      <td>1</td>\n",
       "      <td>0.226957</td>\n",
       "      <td>0.229270</td>\n",
       "      <td>0.436957</td>\n",
       "      <td>0.186900</td>\n",
       "      <td>1600</td>\n",
       "    </tr>\n",
       "  </tbody>\n",
       "</table>\n",
       "</div>"
      ],
      "text/plain": [
       "   season  mnth  holiday  weekday  workingday  weathersit      temp     atemp  \\\n",
       "0       1     1        0        6           0           2  0.344167  0.363625   \n",
       "1       1     1        0        0           0           2  0.363478  0.353739   \n",
       "2       1     1        0        1           1           1  0.196364  0.189405   \n",
       "3       1     1        0        2           1           1  0.200000  0.212122   \n",
       "4       1     1        0        3           1           1  0.226957  0.229270   \n",
       "\n",
       "        hum  windspeed   cnt  \n",
       "0  0.805833   0.160446   985  \n",
       "1  0.696087   0.248539   801  \n",
       "2  0.437273   0.248309  1349  \n",
       "3  0.590435   0.160296  1562  \n",
       "4  0.436957   0.186900  1600  "
      ]
     },
     "execution_count": 4,
     "metadata": {},
     "output_type": "execute_result"
    }
   ],
   "source": [
    "del dataset_train[dataset_train.columns[0]]\n",
    "dataset_train.head()"
   ]
  },
  {
   "cell_type": "code",
   "execution_count": 5,
   "metadata": {},
   "outputs": [],
   "source": [
    "numeric_var = ['temp', 'atemp', 'hum', 'windspeed', 'cnt']\n",
    "\n",
    "categorical_var = ['season', 'mnth', 'holiday', 'weekday', 'workingday', 'weathersit']"
   ]
  },
  {
   "cell_type": "code",
   "execution_count": 6,
   "metadata": {},
   "outputs": [
    {
     "name": "stdout",
     "output_type": "stream",
     "text": [
      "temp\n",
      "Innerfence= -0.1725005\n",
      "Upperfence= 1.1541675\n",
      "IQR =0.331667\n",
      "atemp\n",
      "Innerfence= -0.11368349999999999\n",
      "Upperfence= 1.0480165000000001\n",
      "IQR =0.290425\n",
      "hum\n",
      "Innerfence= 0.2327079999999998\n",
      "Upperfence= 1.047708\n",
      "IQR =0.2037500000000001\n",
      "windspeed\n",
      "Innerfence= -0.013655000000000056\n",
      "Upperfence= 0.384313\n",
      "IQR =0.09949200000000002\n",
      "cnt\n",
      "Innerfence= -1549.0\n",
      "Upperfence= 8267.0\n",
      "IQR =2454.0\n"
     ]
    }
   ],
   "source": [
    "for i in numeric_var:\n",
    "    print(i)\n",
    "    q75, q25 = np.percentile(dataset_train.loc[:,i], [75, 25])\n",
    "    iqr = q75 - q25\n",
    "    Innerfence = q25 - (iqr*1.5)\n",
    "    Upperfence = q75 + (iqr*1.5)\n",
    "    print(\"Innerfence= \"+str(Innerfence))\n",
    "    print(\"Upperfence= \"+str(Upperfence)) \n",
    "    print(\"IQR =\"+str(iqr))\n",
    "    \n",
    "\n",
    "# replace outliers with NA\n",
    "\n",
    "    dataset_train.loc[dataset_train[i]<Innerfence, i] = np.nan\n",
    "    dataset_train.loc[dataset_train[i]>Upperfence, i] = np.nan"
   ]
  },
  {
   "cell_type": "code",
   "execution_count": 7,
   "metadata": {},
   "outputs": [
    {
     "data": {
      "text/plain": [
       "season        0\n",
       "mnth          0\n",
       "holiday       0\n",
       "weekday       0\n",
       "workingday    0\n",
       "weathersit    0\n",
       "temp          0\n",
       "atemp         0\n",
       "hum           2\n",
       "windspeed     5\n",
       "cnt           0\n",
       "dtype: int64"
      ]
     },
     "execution_count": 7,
     "metadata": {},
     "output_type": "execute_result"
    }
   ],
   "source": [
    "dataset_train.isnull().sum()"
   ]
  },
  {
   "cell_type": "code",
   "execution_count": 8,
   "metadata": {},
   "outputs": [],
   "source": [
    "dataset_train['hum'] = dataset_train['hum'].fillna(dataset_train['hum'].median())\n",
    "dataset_train['windspeed'] = dataset_train['windspeed'].fillna(dataset_train['windspeed'].median())"
   ]
  },
  {
   "cell_type": "code",
   "execution_count": 9,
   "metadata": {},
   "outputs": [
    {
     "data": {
      "text/plain": [
       "season        0\n",
       "mnth          0\n",
       "holiday       0\n",
       "weekday       0\n",
       "workingday    0\n",
       "weathersit    0\n",
       "temp          0\n",
       "atemp         0\n",
       "hum           0\n",
       "windspeed     0\n",
       "cnt           0\n",
       "dtype: int64"
      ]
     },
     "execution_count": 9,
     "metadata": {},
     "output_type": "execute_result"
    }
   ],
   "source": [
    "dataset_train.isnull().sum()"
   ]
  },
  {
   "cell_type": "code",
   "execution_count": 10,
   "metadata": {},
   "outputs": [
    {
     "name": "stdout",
     "output_type": "stream",
     "text": [
      "temp\n"
     ]
    },
    {
     "data": {
      "image/png": "[encoded data removed]",
      "text/plain": [
       "<Figure size 432x288 with 1 Axes>"
      ]
     },
     "metadata": {
      "needs_background": "light"
     },
     "output_type": "display_data"
    },
    {
     "name": "stdout",
     "output_type": "stream",
     "text": [
      "atemp\n"
     ]
    },
    {
     "data": {
      "image/png": "[encoded data removed]",
      "text/plain": [
       "<Figure size 432x288 with 1 Axes>"
      ]
     },
     "metadata": {
      "needs_background": "light"
     },
     "output_type": "display_data"
    },
    {
     "name": "stdout",
     "output_type": "stream",
     "text": [
      "hum\n"
     ]
    },
    {
     "data": {
      "image/png": "[encoded data removed]",
      "text/plain": [
       "<Figure size 432x288 with 1 Axes>"
      ]
     },
     "metadata": {
      "needs_background": "light"
     },
     "output_type": "display_data"
    },
    {
     "name": "stdout",
     "output_type": "stream",
     "text": [
      "windspeed\n"
     ]
    },
    {
     "data": {
      "image/png": "[encoded data removed]",
      "text/plain": [
       "<Figure size 432x288 with 1 Axes>"
      ]
     },
     "metadata": {
      "needs_background": "light"
     },
     "output_type": "display_data"
    },
    {
     "name": "stdout",
     "output_type": "stream",
     "text": [
      "cnt\n"
     ]
    },
    {
     "data": {
      "image/png": "[encoded data removed]",
      "text/plain": [
       "<Figure size 432x288 with 1 Axes>"
      ]
     },
     "metadata": {
      "needs_background": "light"
     },
     "output_type": "display_data"
    }
   ],
   "source": [
    "for i in numeric_var:\n",
    "    print(i)\n",
    "    sns.boxplot(y = dataset_train[i])\n",
    "    plt.xlabel(i)\n",
    "    plt.ylabel(\"Values\")\n",
    "    plt.title(\"Boxplot of \" + i)\n",
    "    plt.show()"
   ]
  },
  {
   "cell_type": "code",
   "execution_count": 11,
   "metadata": {},
   "outputs": [
    {
     "data": {
      "image/png": "[encoded data removed]",
      "text/plain": [
       "<Figure size 360x360 with 1 Axes>"
      ]
     },
     "metadata": {
      "needs_background": "light"
     },
     "output_type": "display_data"
    },
    {
     "data": {
      "image/png": "[encoded data removed]",
      "text/plain": [
       "<Figure size 360x360 with 1 Axes>"
      ]
     },
     "metadata": {
      "needs_background": "light"
     },
     "output_type": "display_data"
    },
    {
     "data": {
      "image/png": "[encoded data removed]",
      "text/plain": [
       "<Figure size 360x360 with 1 Axes>"
      ]
     },
     "metadata": {
      "needs_background": "light"
     },
     "output_type": "display_data"
    },
    {
     "data": {
      "image/png": "[encoded data removed]",
      "text/plain": [
       "<Figure size 360x360 with 1 Axes>"
      ]
     },
     "metadata": {
      "needs_background": "light"
     },
     "output_type": "display_data"
    },
    {
     "data": {
      "image/png": "[encoded data removed]",
      "text/plain": [
       "<Figure size 360x360 with 1 Axes>"
      ]
     },
     "metadata": {
      "needs_background": "light"
     },
     "output_type": "display_data"
    },
    {
     "data": {
      "image/png": "[encoded data removed]",
      "text/plain": [
       "<Figure size 360x360 with 1 Axes>"
      ]
     },
     "metadata": {
      "needs_background": "light"
     },
     "output_type": "display_data"
    }
   ],
   "source": [
    "for i in categorical_var:\n",
    "    sns.catplot(x = i, y = \"cnt\", data=dataset_train)"
   ]
  },
  {
   "cell_type": "code",
   "execution_count": 12,
   "metadata": {},
   "outputs": [
    {
     "name": "stdout",
     "output_type": "stream",
     "text": [
      "temp\n"
     ]
    },
    {
     "name": "stderr",
     "output_type": "stream",
     "text": [
      "C:\\Users\\jonathan.sh\\Anaconda3\\lib\\site-packages\\seaborn\\distributions.py:2551: FutureWarning: `distplot` is a deprecated function and will be removed in a future version. Please adapt your code to use either `displot` (a figure-level function with similar flexibility) or `histplot` (an axes-level function for histograms).\n",
      "  warnings.warn(msg, FutureWarning)\n"
     ]
    },
    {
     "data": {
      "image/png": "[encoded data removed]",
      "text/plain": [
       "<Figure size 432x288 with 1 Axes>"
      ]
     },
     "metadata": {
      "needs_background": "light"
     },
     "output_type": "display_data"
    },
    {
     "name": "stdout",
     "output_type": "stream",
     "text": [
      "atemp\n"
     ]
    },
    {
     "name": "stderr",
     "output_type": "stream",
     "text": [
      "C:\\Users\\jonathan.sh\\Anaconda3\\lib\\site-packages\\seaborn\\distributions.py:2551: FutureWarning: `distplot` is a deprecated function and will be removed in a future version. Please adapt your code to use either `displot` (a figure-level function with similar flexibility) or `histplot` (an axes-level function for histograms).\n",
      "  warnings.warn(msg, FutureWarning)\n"
     ]
    },
    {
     "data": {
      "image/png": "[encoded data removed]",
      "text/plain": [
       "<Figure size 432x288 with 1 Axes>"
      ]
     },
     "metadata": {
      "needs_background": "light"
     },
     "output_type": "display_data"
    },
    {
     "name": "stdout",
     "output_type": "stream",
     "text": [
      "hum\n"
     ]
    },
    {
     "name": "stderr",
     "output_type": "stream",
     "text": [
      "C:\\Users\\jonathan.sh\\Anaconda3\\lib\\site-packages\\seaborn\\distributions.py:2551: FutureWarning: `distplot` is a deprecated function and will be removed in a future version. Please adapt your code to use either `displot` (a figure-level function with similar flexibility) or `histplot` (an axes-level function for histograms).\n",
      "  warnings.warn(msg, FutureWarning)\n"
     ]
    },
    {
     "data": {
      "image/png": "[encoded data removed]",
      "text/plain": [
       "<Figure size 432x288 with 1 Axes>"
      ]
     },
     "metadata": {
      "needs_background": "light"
     },
     "output_type": "display_data"
    },
    {
     "name": "stdout",
     "output_type": "stream",
     "text": [
      "windspeed\n"
     ]
    },
    {
     "name": "stderr",
     "output_type": "stream",
     "text": [
      "C:\\Users\\jonathan.sh\\Anaconda3\\lib\\site-packages\\seaborn\\distributions.py:2551: FutureWarning: `distplot` is a deprecated function and will be removed in a future version. Please adapt your code to use either `displot` (a figure-level function with similar flexibility) or `histplot` (an axes-level function for histograms).\n",
      "  warnings.warn(msg, FutureWarning)\n"
     ]
    },
    {
     "data": {
      "image/png": "[encoded data removed]",
      "text/plain": [
       "<Figure size 432x288 with 1 Axes>"
      ]
     },
     "metadata": {
      "needs_background": "light"
     },
     "output_type": "display_data"
    },
    {
     "name": "stdout",
     "output_type": "stream",
     "text": [
      "cnt\n"
     ]
    },
    {
     "name": "stderr",
     "output_type": "stream",
     "text": [
      "C:\\Users\\jonathan.sh\\Anaconda3\\lib\\site-packages\\seaborn\\distributions.py:2551: FutureWarning: `distplot` is a deprecated function and will be removed in a future version. Please adapt your code to use either `displot` (a figure-level function with similar flexibility) or `histplot` (an axes-level function for histograms).\n",
      "  warnings.warn(msg, FutureWarning)\n"
     ]
    },
    {
     "data": {
      "image/png": "[encoded data removed]",
      "text/plain": [
       "<Figure size 432x288 with 1 Axes>"
      ]
     },
     "metadata": {
      "needs_background": "light"
     },
     "output_type": "display_data"
    }
   ],
   "source": [
    "for i in numeric_var:\n",
    "    print(i)\n",
    "    sns.distplot(dataset_train[i], bins = 'auto', color = 'blue')\n",
    "    plt.title(\"Distribution of \"+i)\n",
    "    plt.ylabel(\"Density\")\n",
    "    plt.show()"
   ]
  },
  {
   "cell_type": "code",
   "execution_count": 37,
   "metadata": {},
   "outputs": [
    {
     "data": {
      "text/html": [
       "<div>\n",
       "<style scoped>\n",
       "    .dataframe tbody tr th:only-of-type {\n",
       "        vertical-align: middle;\n",
       "    }\n",
       "\n",
       "    .dataframe tbody tr th {\n",
       "        vertical-align: top;\n",
       "    }\n",
       "\n",
       "    .dataframe thead th {\n",
       "        text-align: right;\n",
       "    }\n",
       "</style>\n",
       "<table border=\"1\" class=\"dataframe\">\n",
       "  <thead>\n",
       "    <tr style=\"text-align: right;\">\n",
       "      <th></th>\n",
       "      <th>season</th>\n",
       "      <th>mnth</th>\n",
       "      <th>holiday</th>\n",
       "      <th>weekday</th>\n",
       "      <th>workingday</th>\n",
       "      <th>weathersit</th>\n",
       "      <th>temp</th>\n",
       "      <th>atemp</th>\n",
       "      <th>hum</th>\n",
       "      <th>windspeed</th>\n",
       "      <th>cnt</th>\n",
       "    </tr>\n",
       "  </thead>\n",
       "  <tbody>\n",
       "    <tr>\n",
       "      <th>0</th>\n",
       "      <td>1</td>\n",
       "      <td>1</td>\n",
       "      <td>0</td>\n",
       "      <td>6</td>\n",
       "      <td>0</td>\n",
       "      <td>2</td>\n",
       "      <td>0.344167</td>\n",
       "      <td>0.363625</td>\n",
       "      <td>0.805833</td>\n",
       "      <td>0.160446</td>\n",
       "      <td>985.0</td>\n",
       "    </tr>\n",
       "    <tr>\n",
       "      <th>1</th>\n",
       "      <td>1</td>\n",
       "      <td>1</td>\n",
       "      <td>0</td>\n",
       "      <td>0</td>\n",
       "      <td>0</td>\n",
       "      <td>2</td>\n",
       "      <td>0.363478</td>\n",
       "      <td>0.353739</td>\n",
       "      <td>0.696087</td>\n",
       "      <td>0.248539</td>\n",
       "      <td>801.0</td>\n",
       "    </tr>\n",
       "    <tr>\n",
       "      <th>2</th>\n",
       "      <td>1</td>\n",
       "      <td>1</td>\n",
       "      <td>0</td>\n",
       "      <td>1</td>\n",
       "      <td>1</td>\n",
       "      <td>1</td>\n",
       "      <td>0.196364</td>\n",
       "      <td>0.189405</td>\n",
       "      <td>0.437273</td>\n",
       "      <td>0.248309</td>\n",
       "      <td>1349.0</td>\n",
       "    </tr>\n",
       "    <tr>\n",
       "      <th>3</th>\n",
       "      <td>1</td>\n",
       "      <td>1</td>\n",
       "      <td>0</td>\n",
       "      <td>2</td>\n",
       "      <td>1</td>\n",
       "      <td>1</td>\n",
       "      <td>0.200000</td>\n",
       "      <td>0.212122</td>\n",
       "      <td>0.590435</td>\n",
       "      <td>0.160296</td>\n",
       "      <td>1562.0</td>\n",
       "    </tr>\n",
       "    <tr>\n",
       "      <th>4</th>\n",
       "      <td>1</td>\n",
       "      <td>1</td>\n",
       "      <td>0</td>\n",
       "      <td>3</td>\n",
       "      <td>1</td>\n",
       "      <td>1</td>\n",
       "      <td>0.226957</td>\n",
       "      <td>0.229270</td>\n",
       "      <td>0.436957</td>\n",
       "      <td>0.186900</td>\n",
       "      <td>1600.0</td>\n",
       "    </tr>\n",
       "  </tbody>\n",
       "</table>\n",
       "</div>"
      ],
      "text/plain": [
       "   season  mnth  holiday  weekday  workingday  weathersit      temp     atemp  \\\n",
       "0       1     1        0        6           0           2  0.344167  0.363625   \n",
       "1       1     1        0        0           0           2  0.363478  0.353739   \n",
       "2       1     1        0        1           1           1  0.196364  0.189405   \n",
       "3       1     1        0        2           1           1  0.200000  0.212122   \n",
       "4       1     1        0        3           1           1  0.226957  0.229270   \n",
       "\n",
       "        hum  windspeed     cnt  \n",
       "0  0.805833   0.160446   985.0  \n",
       "1  0.696087   0.248539   801.0  \n",
       "2  0.437273   0.248309  1349.0  \n",
       "3  0.590435   0.160296  1562.0  \n",
       "4  0.436957   0.186900  1600.0  "
      ]
     },
     "execution_count": 37,
     "metadata": {},
     "output_type": "execute_result"
    }
   ],
   "source": [
    "dataset_train.head()"
   ]
  },
  {
   "cell_type": "code",
   "execution_count": 38,
   "metadata": {},
   "outputs": [],
   "source": [
    "df = dataset_train.copy()\n",
    "dataset_train = df.copy()"
   ]
  },
  {
   "cell_type": "code",
   "execution_count": 39,
   "metadata": {},
   "outputs": [
    {
     "data": {
      "text/plain": [
       "(365, 35)"
      ]
     },
     "execution_count": 39,
     "metadata": {},
     "output_type": "execute_result"
    }
   ],
   "source": [
    "dataset_train = pd.get_dummies(dataset_train, columns = categorical_var) \n",
    "\n",
    "dataset_train.shape"
   ]
  },
  {
   "cell_type": "code",
   "execution_count": 42,
   "metadata": {},
   "outputs": [
    {
     "data": {
      "text/html": [
       "<div>\n",
       "<style scoped>\n",
       "    .dataframe tbody tr th:only-of-type {\n",
       "        vertical-align: middle;\n",
       "    }\n",
       "\n",
       "    .dataframe tbody tr th {\n",
       "        vertical-align: top;\n",
       "    }\n",
       "\n",
       "    .dataframe thead th {\n",
       "        text-align: right;\n",
       "    }\n",
       "</style>\n",
       "<table border=\"1\" class=\"dataframe\">\n",
       "  <thead>\n",
       "    <tr style=\"text-align: right;\">\n",
       "      <th></th>\n",
       "      <th>temp</th>\n",
       "      <th>atemp</th>\n",
       "      <th>hum</th>\n",
       "      <th>windspeed</th>\n",
       "      <th>cnt</th>\n",
       "      <th>season_1</th>\n",
       "      <th>season_2</th>\n",
       "      <th>season_3</th>\n",
       "      <th>season_4</th>\n",
       "      <th>mnth_1</th>\n",
       "      <th>...</th>\n",
       "      <th>weekday_2</th>\n",
       "      <th>weekday_3</th>\n",
       "      <th>weekday_4</th>\n",
       "      <th>weekday_5</th>\n",
       "      <th>weekday_6</th>\n",
       "      <th>workingday_0</th>\n",
       "      <th>workingday_1</th>\n",
       "      <th>weathersit_1</th>\n",
       "      <th>weathersit_2</th>\n",
       "      <th>weathersit_3</th>\n",
       "    </tr>\n",
       "  </thead>\n",
       "  <tbody>\n",
       "    <tr>\n",
       "      <th>0</th>\n",
       "      <td>0.344167</td>\n",
       "      <td>0.363625</td>\n",
       "      <td>0.805833</td>\n",
       "      <td>0.160446</td>\n",
       "      <td>985.0</td>\n",
       "      <td>1</td>\n",
       "      <td>0</td>\n",
       "      <td>0</td>\n",
       "      <td>0</td>\n",
       "      <td>1</td>\n",
       "      <td>...</td>\n",
       "      <td>0</td>\n",
       "      <td>0</td>\n",
       "      <td>0</td>\n",
       "      <td>0</td>\n",
       "      <td>1</td>\n",
       "      <td>1</td>\n",
       "      <td>0</td>\n",
       "      <td>0</td>\n",
       "      <td>1</td>\n",
       "      <td>0</td>\n",
       "    </tr>\n",
       "    <tr>\n",
       "      <th>1</th>\n",
       "      <td>0.363478</td>\n",
       "      <td>0.353739</td>\n",
       "      <td>0.696087</td>\n",
       "      <td>0.248539</td>\n",
       "      <td>801.0</td>\n",
       "      <td>1</td>\n",
       "      <td>0</td>\n",
       "      <td>0</td>\n",
       "      <td>0</td>\n",
       "      <td>1</td>\n",
       "      <td>...</td>\n",
       "      <td>0</td>\n",
       "      <td>0</td>\n",
       "      <td>0</td>\n",
       "      <td>0</td>\n",
       "      <td>0</td>\n",
       "      <td>1</td>\n",
       "      <td>0</td>\n",
       "      <td>0</td>\n",
       "      <td>1</td>\n",
       "      <td>0</td>\n",
       "    </tr>\n",
       "    <tr>\n",
       "      <th>2</th>\n",
       "      <td>0.196364</td>\n",
       "      <td>0.189405</td>\n",
       "      <td>0.437273</td>\n",
       "      <td>0.248309</td>\n",
       "      <td>1349.0</td>\n",
       "      <td>1</td>\n",
       "      <td>0</td>\n",
       "      <td>0</td>\n",
       "      <td>0</td>\n",
       "      <td>1</td>\n",
       "      <td>...</td>\n",
       "      <td>0</td>\n",
       "      <td>0</td>\n",
       "      <td>0</td>\n",
       "      <td>0</td>\n",
       "      <td>0</td>\n",
       "      <td>0</td>\n",
       "      <td>1</td>\n",
       "      <td>1</td>\n",
       "      <td>0</td>\n",
       "      <td>0</td>\n",
       "    </tr>\n",
       "    <tr>\n",
       "      <th>3</th>\n",
       "      <td>0.200000</td>\n",
       "      <td>0.212122</td>\n",
       "      <td>0.590435</td>\n",
       "      <td>0.160296</td>\n",
       "      <td>1562.0</td>\n",
       "      <td>1</td>\n",
       "      <td>0</td>\n",
       "      <td>0</td>\n",
       "      <td>0</td>\n",
       "      <td>1</td>\n",
       "      <td>...</td>\n",
       "      <td>1</td>\n",
       "      <td>0</td>\n",
       "      <td>0</td>\n",
       "      <td>0</td>\n",
       "      <td>0</td>\n",
       "      <td>0</td>\n",
       "      <td>1</td>\n",
       "      <td>1</td>\n",
       "      <td>0</td>\n",
       "      <td>0</td>\n",
       "    </tr>\n",
       "    <tr>\n",
       "      <th>4</th>\n",
       "      <td>0.226957</td>\n",
       "      <td>0.229270</td>\n",
       "      <td>0.436957</td>\n",
       "      <td>0.186900</td>\n",
       "      <td>1600.0</td>\n",
       "      <td>1</td>\n",
       "      <td>0</td>\n",
       "      <td>0</td>\n",
       "      <td>0</td>\n",
       "      <td>1</td>\n",
       "      <td>...</td>\n",
       "      <td>0</td>\n",
       "      <td>1</td>\n",
       "      <td>0</td>\n",
       "      <td>0</td>\n",
       "      <td>0</td>\n",
       "      <td>0</td>\n",
       "      <td>1</td>\n",
       "      <td>1</td>\n",
       "      <td>0</td>\n",
       "      <td>0</td>\n",
       "    </tr>\n",
       "  </tbody>\n",
       "</table>\n",
       "<p>5 rows × 35 columns</p>\n",
       "</div>"
      ],
      "text/plain": [
       "       temp     atemp       hum  windspeed     cnt  season_1  season_2  \\\n",
       "0  0.344167  0.363625  0.805833   0.160446   985.0         1         0   \n",
       "1  0.363478  0.353739  0.696087   0.248539   801.0         1         0   \n",
       "2  0.196364  0.189405  0.437273   0.248309  1349.0         1         0   \n",
       "3  0.200000  0.212122  0.590435   0.160296  1562.0         1         0   \n",
       "4  0.226957  0.229270  0.436957   0.186900  1600.0         1         0   \n",
       "\n",
       "   season_3  season_4  mnth_1  ...  weekday_2  weekday_3  weekday_4  \\\n",
       "0         0         0       1  ...          0          0          0   \n",
       "1         0         0       1  ...          0          0          0   \n",
       "2         0         0       1  ...          0          0          0   \n",
       "3         0         0       1  ...          1          0          0   \n",
       "4         0         0       1  ...          0          1          0   \n",
       "\n",
       "   weekday_5  weekday_6  workingday_0  workingday_1  weathersit_1  \\\n",
       "0          0          1             1             0             0   \n",
       "1          0          0             1             0             0   \n",
       "2          0          0             0             1             1   \n",
       "3          0          0             0             1             1   \n",
       "4          0          0             0             1             1   \n",
       "\n",
       "   weathersit_2  weathersit_3  \n",
       "0             1             0  \n",
       "1             1             0  \n",
       "2             0             0  \n",
       "3             0             0  \n",
       "4             0             0  \n",
       "\n",
       "[5 rows x 35 columns]"
      ]
     },
     "execution_count": 42,
     "metadata": {},
     "output_type": "execute_result"
    }
   ],
   "source": [
    "dataset_train.head()"
   ]
  },
  {
   "cell_type": "code",
   "execution_count": 47,
   "metadata": {},
   "outputs": [
    {
     "data": {
      "text/plain": [
       "['temp',\n",
       " 'atemp',\n",
       " 'hum',\n",
       " 'windspeed',\n",
       " 'cnt',\n",
       " 'season_1',\n",
       " 'season_2',\n",
       " 'season_3',\n",
       " 'season_4',\n",
       " 'mnth_1',\n",
       " 'mnth_2',\n",
       " 'mnth_3',\n",
       " 'mnth_4',\n",
       " 'mnth_5',\n",
       " 'mnth_6',\n",
       " 'mnth_7',\n",
       " 'mnth_8',\n",
       " 'mnth_9',\n",
       " 'mnth_10',\n",
       " 'mnth_11',\n",
       " 'mnth_12',\n",
       " 'holiday_0',\n",
       " 'holiday_1',\n",
       " 'weekday_0',\n",
       " 'weekday_1',\n",
       " 'weekday_2',\n",
       " 'weekday_3',\n",
       " 'weekday_4',\n",
       " 'weekday_5',\n",
       " 'weekday_6',\n",
       " 'workingday_0',\n",
       " 'workingday_1',\n",
       " 'weathersit_1',\n",
       " 'weathersit_2',\n",
       " 'weathersit_3']"
      ]
     },
     "execution_count": 47,
     "metadata": {},
     "output_type": "execute_result"
    }
   ],
   "source": [
    "cols = dataset_train.columns.tolist()\n",
    "cols"
   ]
  },
  {
   "cell_type": "code",
   "execution_count": 50,
   "metadata": {},
   "outputs": [],
   "source": [
    "dataset_train=dataset_train[[\n",
    " 'temp',\n",
    " 'atemp',\n",
    " 'hum',\n",
    " 'windspeed',\n",
    "\n",
    " 'season_1',\n",
    " 'season_2',\n",
    " 'season_3',\n",
    " 'season_4',\n",
    " 'mnth_1',\n",
    " 'mnth_2',\n",
    " 'mnth_3',\n",
    " 'mnth_4',\n",
    " 'mnth_5',\n",
    " 'mnth_6',\n",
    " 'mnth_7',\n",
    " 'mnth_8',\n",
    " 'mnth_9',\n",
    " 'mnth_10',\n",
    " 'mnth_11',\n",
    " 'mnth_12',\n",
    " 'holiday_0',\n",
    " 'holiday_1',\n",
    " 'weekday_0',\n",
    " 'weekday_1',\n",
    " 'weekday_2',\n",
    " 'weekday_3',\n",
    " 'weekday_4',\n",
    " 'weekday_5',\n",
    " 'weekday_6',\n",
    " 'workingday_0',\n",
    " 'workingday_1',\n",
    " 'weathersit_1',\n",
    " 'weathersit_2',\n",
    " 'weathersit_3',\n",
    "'cnt',\n",
    "    \n",
    "]]"
   ]
  },
  {
   "cell_type": "code",
   "execution_count": 51,
   "metadata": {},
   "outputs": [
    {
     "data": {
      "text/html": [
       "<div>\n",
       "<style scoped>\n",
       "    .dataframe tbody tr th:only-of-type {\n",
       "        vertical-align: middle;\n",
       "    }\n",
       "\n",
       "    .dataframe tbody tr th {\n",
       "        vertical-align: top;\n",
       "    }\n",
       "\n",
       "    .dataframe thead th {\n",
       "        text-align: right;\n",
       "    }\n",
       "</style>\n",
       "<table border=\"1\" class=\"dataframe\">\n",
       "  <thead>\n",
       "    <tr style=\"text-align: right;\">\n",
       "      <th></th>\n",
       "      <th>temp</th>\n",
       "      <th>atemp</th>\n",
       "      <th>hum</th>\n",
       "      <th>windspeed</th>\n",
       "      <th>season_1</th>\n",
       "      <th>season_2</th>\n",
       "      <th>season_3</th>\n",
       "      <th>season_4</th>\n",
       "      <th>mnth_1</th>\n",
       "      <th>mnth_2</th>\n",
       "      <th>...</th>\n",
       "      <th>weekday_3</th>\n",
       "      <th>weekday_4</th>\n",
       "      <th>weekday_5</th>\n",
       "      <th>weekday_6</th>\n",
       "      <th>workingday_0</th>\n",
       "      <th>workingday_1</th>\n",
       "      <th>weathersit_1</th>\n",
       "      <th>weathersit_2</th>\n",
       "      <th>weathersit_3</th>\n",
       "      <th>cnt</th>\n",
       "    </tr>\n",
       "  </thead>\n",
       "  <tbody>\n",
       "    <tr>\n",
       "      <th>0</th>\n",
       "      <td>0.344167</td>\n",
       "      <td>0.363625</td>\n",
       "      <td>0.805833</td>\n",
       "      <td>0.160446</td>\n",
       "      <td>1</td>\n",
       "      <td>0</td>\n",
       "      <td>0</td>\n",
       "      <td>0</td>\n",
       "      <td>1</td>\n",
       "      <td>0</td>\n",
       "      <td>...</td>\n",
       "      <td>0</td>\n",
       "      <td>0</td>\n",
       "      <td>0</td>\n",
       "      <td>1</td>\n",
       "      <td>1</td>\n",
       "      <td>0</td>\n",
       "      <td>0</td>\n",
       "      <td>1</td>\n",
       "      <td>0</td>\n",
       "      <td>985.0</td>\n",
       "    </tr>\n",
       "    <tr>\n",
       "      <th>1</th>\n",
       "      <td>0.363478</td>\n",
       "      <td>0.353739</td>\n",
       "      <td>0.696087</td>\n",
       "      <td>0.248539</td>\n",
       "      <td>1</td>\n",
       "      <td>0</td>\n",
       "      <td>0</td>\n",
       "      <td>0</td>\n",
       "      <td>1</td>\n",
       "      <td>0</td>\n",
       "      <td>...</td>\n",
       "      <td>0</td>\n",
       "      <td>0</td>\n",
       "      <td>0</td>\n",
       "      <td>0</td>\n",
       "      <td>1</td>\n",
       "      <td>0</td>\n",
       "      <td>0</td>\n",
       "      <td>1</td>\n",
       "      <td>0</td>\n",
       "      <td>801.0</td>\n",
       "    </tr>\n",
       "    <tr>\n",
       "      <th>2</th>\n",
       "      <td>0.196364</td>\n",
       "      <td>0.189405</td>\n",
       "      <td>0.437273</td>\n",
       "      <td>0.248309</td>\n",
       "      <td>1</td>\n",
       "      <td>0</td>\n",
       "      <td>0</td>\n",
       "      <td>0</td>\n",
       "      <td>1</td>\n",
       "      <td>0</td>\n",
       "      <td>...</td>\n",
       "      <td>0</td>\n",
       "      <td>0</td>\n",
       "      <td>0</td>\n",
       "      <td>0</td>\n",
       "      <td>0</td>\n",
       "      <td>1</td>\n",
       "      <td>1</td>\n",
       "      <td>0</td>\n",
       "      <td>0</td>\n",
       "      <td>1349.0</td>\n",
       "    </tr>\n",
       "    <tr>\n",
       "      <th>3</th>\n",
       "      <td>0.200000</td>\n",
       "      <td>0.212122</td>\n",
       "      <td>0.590435</td>\n",
       "      <td>0.160296</td>\n",
       "      <td>1</td>\n",
       "      <td>0</td>\n",
       "      <td>0</td>\n",
       "      <td>0</td>\n",
       "      <td>1</td>\n",
       "      <td>0</td>\n",
       "      <td>...</td>\n",
       "      <td>0</td>\n",
       "      <td>0</td>\n",
       "      <td>0</td>\n",
       "      <td>0</td>\n",
       "      <td>0</td>\n",
       "      <td>1</td>\n",
       "      <td>1</td>\n",
       "      <td>0</td>\n",
       "      <td>0</td>\n",
       "      <td>1562.0</td>\n",
       "    </tr>\n",
       "    <tr>\n",
       "      <th>4</th>\n",
       "      <td>0.226957</td>\n",
       "      <td>0.229270</td>\n",
       "      <td>0.436957</td>\n",
       "      <td>0.186900</td>\n",
       "      <td>1</td>\n",
       "      <td>0</td>\n",
       "      <td>0</td>\n",
       "      <td>0</td>\n",
       "      <td>1</td>\n",
       "      <td>0</td>\n",
       "      <td>...</td>\n",
       "      <td>1</td>\n",
       "      <td>0</td>\n",
       "      <td>0</td>\n",
       "      <td>0</td>\n",
       "      <td>0</td>\n",
       "      <td>1</td>\n",
       "      <td>1</td>\n",
       "      <td>0</td>\n",
       "      <td>0</td>\n",
       "      <td>1600.0</td>\n",
       "    </tr>\n",
       "  </tbody>\n",
       "</table>\n",
       "<p>5 rows × 35 columns</p>\n",
       "</div>"
      ],
      "text/plain": [
       "       temp     atemp       hum  windspeed  season_1  season_2  season_3  \\\n",
       "0  0.344167  0.363625  0.805833   0.160446         1         0         0   \n",
       "1  0.363478  0.353739  0.696087   0.248539         1         0         0   \n",
       "2  0.196364  0.189405  0.437273   0.248309         1         0         0   \n",
       "3  0.200000  0.212122  0.590435   0.160296         1         0         0   \n",
       "4  0.226957  0.229270  0.436957   0.186900         1         0         0   \n",
       "\n",
       "   season_4  mnth_1  mnth_2  ...  weekday_3  weekday_4  weekday_5  weekday_6  \\\n",
       "0         0       1       0  ...          0          0          0          1   \n",
       "1         0       1       0  ...          0          0          0          0   \n",
       "2         0       1       0  ...          0          0          0          0   \n",
       "3         0       1       0  ...          0          0          0          0   \n",
       "4         0       1       0  ...          1          0          0          0   \n",
       "\n",
       "   workingday_0  workingday_1  weathersit_1  weathersit_2  weathersit_3  \\\n",
       "0             1             0             0             1             0   \n",
       "1             1             0             0             1             0   \n",
       "2             0             1             1             0             0   \n",
       "3             0             1             1             0             0   \n",
       "4             0             1             1             0             0   \n",
       "\n",
       "      cnt  \n",
       "0   985.0  \n",
       "1   801.0  \n",
       "2  1349.0  \n",
       "3  1562.0  \n",
       "4  1600.0  \n",
       "\n",
       "[5 rows x 35 columns]"
      ]
     },
     "execution_count": 51,
     "metadata": {},
     "output_type": "execute_result"
    }
   ],
   "source": [
    "dataset_train.head()"
   ]
  },
  {
   "cell_type": "code",
   "execution_count": 52,
   "metadata": {},
   "outputs": [],
   "source": [
    "X = dataset_train.iloc[:, :-1].values\n",
    "y = dataset_train.iloc[:, -1].values"
   ]
  },
  {
   "cell_type": "code",
   "execution_count": 53,
   "metadata": {},
   "outputs": [],
   "source": [
    "from sklearn.model_selection import train_test_split\n",
    "X_train, X_test, y_train, y_test = train_test_split(X, y, test_size = 0.1, random_state = 0)"
   ]
  },
  {
   "cell_type": "code",
   "execution_count": 54,
   "metadata": {},
   "outputs": [
    {
     "data": {
      "text/plain": [
       "328"
      ]
     },
     "execution_count": 54,
     "metadata": {},
     "output_type": "execute_result"
    }
   ],
   "source": [
    "len(X_train)"
   ]
  },
  {
   "cell_type": "code",
   "execution_count": 55,
   "metadata": {},
   "outputs": [
    {
     "data": {
      "text/plain": [
       "328"
      ]
     },
     "execution_count": 55,
     "metadata": {},
     "output_type": "execute_result"
    }
   ],
   "source": [
    "len(y_train)"
   ]
  },
  {
   "cell_type": "code",
   "execution_count": 56,
   "metadata": {},
   "outputs": [
    {
     "data": {
      "text/plain": [
       "37"
      ]
     },
     "execution_count": 56,
     "metadata": {},
     "output_type": "execute_result"
    }
   ],
   "source": [
    "len(X_test)"
   ]
  },
  {
   "cell_type": "code",
   "execution_count": 57,
   "metadata": {},
   "outputs": [
    {
     "data": {
      "text/plain": [
       "37"
      ]
     },
     "execution_count": 57,
     "metadata": {},
     "output_type": "execute_result"
    }
   ],
   "source": [
    "len(y_test)"
   ]
  },
  {
   "cell_type": "code",
   "execution_count": 58,
   "metadata": {},
   "outputs": [
    {
     "data": {
      "text/plain": [
       "LinearRegression()"
      ]
     },
     "execution_count": 58,
     "metadata": {},
     "output_type": "execute_result"
    }
   ],
   "source": [
    "from sklearn.linear_model import LinearRegression\n",
    "regressor = LinearRegression()\n",
    "regressor.fit(X_train, y_train)"
   ]
  },
  {
   "cell_type": "code",
   "execution_count": 59,
   "metadata": {},
   "outputs": [],
   "source": [
    "y_pred = regressor.predict(X_test)\n",
    "np.set_printoptions(precision=2)"
   ]
  },
  {
   "cell_type": "code",
   "execution_count": 60,
   "metadata": {},
   "outputs": [],
   "source": [
    "linear_regression=LinearRegression()\n",
    "model=linear_regression.fit(X_train,y_train)\n",
    "Y_pred=model.predict(X_test)"
   ]
  },
  {
   "cell_type": "code",
   "execution_count": 61,
   "metadata": {},
   "outputs": [
    {
     "name": "stdout",
     "output_type": "stream",
     "text": [
      "training score :  0.8351269074473072\n"
     ]
    }
   ],
   "source": [
    "print(\"training score : \", linear_regression.score(X_train, y_train))"
   ]
  },
  {
   "cell_type": "code",
   "execution_count": 62,
   "metadata": {},
   "outputs": [
    {
     "name": "stdout",
     "output_type": "stream",
     "text": [
      "Testing score :  0.8653464727995905\n"
     ]
    }
   ],
   "source": [
    "from sklearn.metrics import r2_score\n",
    "score=r2_score(y_test,y_pred)\n",
    "print(\"Testing score : \", score)"
   ]
  },
  {
   "cell_type": "code",
   "execution_count": 63,
   "metadata": {},
   "outputs": [
    {
     "data": {
      "text/html": [
       "<div>\n",
       "<style scoped>\n",
       "    .dataframe tbody tr th:only-of-type {\n",
       "        vertical-align: middle;\n",
       "    }\n",
       "\n",
       "    .dataframe tbody tr th {\n",
       "        vertical-align: top;\n",
       "    }\n",
       "\n",
       "    .dataframe thead th {\n",
       "        text-align: right;\n",
       "    }\n",
       "</style>\n",
       "<table border=\"1\" class=\"dataframe\">\n",
       "  <thead>\n",
       "    <tr style=\"text-align: right;\">\n",
       "      <th></th>\n",
       "      <th>id</th>\n",
       "      <th>season</th>\n",
       "      <th>mnth</th>\n",
       "      <th>holiday</th>\n",
       "      <th>weekday</th>\n",
       "      <th>workingday</th>\n",
       "      <th>weathersit</th>\n",
       "      <th>temp</th>\n",
       "      <th>atemp</th>\n",
       "      <th>hum</th>\n",
       "      <th>windspeed</th>\n",
       "    </tr>\n",
       "  </thead>\n",
       "  <tbody>\n",
       "    <tr>\n",
       "      <th>0</th>\n",
       "      <td>366</td>\n",
       "      <td>1</td>\n",
       "      <td>1</td>\n",
       "      <td>0</td>\n",
       "      <td>0</td>\n",
       "      <td>0</td>\n",
       "      <td>1</td>\n",
       "      <td>0.370000</td>\n",
       "      <td>0.375621</td>\n",
       "      <td>0.692500</td>\n",
       "      <td>0.192167</td>\n",
       "    </tr>\n",
       "    <tr>\n",
       "      <th>1</th>\n",
       "      <td>367</td>\n",
       "      <td>1</td>\n",
       "      <td>1</td>\n",
       "      <td>1</td>\n",
       "      <td>1</td>\n",
       "      <td>0</td>\n",
       "      <td>1</td>\n",
       "      <td>0.273043</td>\n",
       "      <td>0.252304</td>\n",
       "      <td>0.381304</td>\n",
       "      <td>0.329665</td>\n",
       "    </tr>\n",
       "    <tr>\n",
       "      <th>2</th>\n",
       "      <td>368</td>\n",
       "      <td>1</td>\n",
       "      <td>1</td>\n",
       "      <td>0</td>\n",
       "      <td>2</td>\n",
       "      <td>1</td>\n",
       "      <td>1</td>\n",
       "      <td>0.150000</td>\n",
       "      <td>0.126275</td>\n",
       "      <td>0.441250</td>\n",
       "      <td>0.365671</td>\n",
       "    </tr>\n",
       "    <tr>\n",
       "      <th>3</th>\n",
       "      <td>369</td>\n",
       "      <td>1</td>\n",
       "      <td>1</td>\n",
       "      <td>0</td>\n",
       "      <td>3</td>\n",
       "      <td>1</td>\n",
       "      <td>2</td>\n",
       "      <td>0.107500</td>\n",
       "      <td>0.119337</td>\n",
       "      <td>0.414583</td>\n",
       "      <td>0.184700</td>\n",
       "    </tr>\n",
       "    <tr>\n",
       "      <th>4</th>\n",
       "      <td>370</td>\n",
       "      <td>1</td>\n",
       "      <td>1</td>\n",
       "      <td>0</td>\n",
       "      <td>4</td>\n",
       "      <td>1</td>\n",
       "      <td>1</td>\n",
       "      <td>0.265833</td>\n",
       "      <td>0.278412</td>\n",
       "      <td>0.524167</td>\n",
       "      <td>0.129987</td>\n",
       "    </tr>\n",
       "  </tbody>\n",
       "</table>\n",
       "</div>"
      ],
      "text/plain": [
       "    id  season  mnth  holiday  weekday  workingday  weathersit      temp  \\\n",
       "0  366       1     1        0        0           0           1  0.370000   \n",
       "1  367       1     1        1        1           0           1  0.273043   \n",
       "2  368       1     1        0        2           1           1  0.150000   \n",
       "3  369       1     1        0        3           1           2  0.107500   \n",
       "4  370       1     1        0        4           1           1  0.265833   \n",
       "\n",
       "      atemp       hum  windspeed  \n",
       "0  0.375621  0.692500   0.192167  \n",
       "1  0.252304  0.381304   0.329665  \n",
       "2  0.126275  0.441250   0.365671  \n",
       "3  0.119337  0.414583   0.184700  \n",
       "4  0.278412  0.524167   0.129987  "
      ]
     },
     "execution_count": 63,
     "metadata": {},
     "output_type": "execute_result"
    }
   ],
   "source": [
    "dataset_test=pd.read_csv(\"C:\\\\Users\\\\jonathan.sh\\\\OneDrive - Webpals\\\\DS Course\\\\Task DS\\\\test.csv\")\n",
    "dataset_test.head()"
   ]
  },
  {
   "cell_type": "code",
   "execution_count": 64,
   "metadata": {},
   "outputs": [
    {
     "data": {
      "text/plain": [
       "(366, 35)"
      ]
     },
     "execution_count": 64,
     "metadata": {},
     "output_type": "execute_result"
    }
   ],
   "source": [
    "dataset_test = pd.get_dummies(dataset_test, columns = categorical_var) \n",
    "\n",
    "dataset_test.shape"
   ]
  },
  {
   "cell_type": "code",
   "execution_count": 65,
   "metadata": {},
   "outputs": [
    {
     "data": {
      "text/html": [
       "<div>\n",
       "<style scoped>\n",
       "    .dataframe tbody tr th:only-of-type {\n",
       "        vertical-align: middle;\n",
       "    }\n",
       "\n",
       "    .dataframe tbody tr th {\n",
       "        vertical-align: top;\n",
       "    }\n",
       "\n",
       "    .dataframe thead th {\n",
       "        text-align: right;\n",
       "    }\n",
       "</style>\n",
       "<table border=\"1\" class=\"dataframe\">\n",
       "  <thead>\n",
       "    <tr style=\"text-align: right;\">\n",
       "      <th></th>\n",
       "      <th>id</th>\n",
       "      <th>temp</th>\n",
       "      <th>atemp</th>\n",
       "      <th>hum</th>\n",
       "      <th>windspeed</th>\n",
       "      <th>season_1</th>\n",
       "      <th>season_2</th>\n",
       "      <th>season_3</th>\n",
       "      <th>season_4</th>\n",
       "      <th>mnth_1</th>\n",
       "      <th>...</th>\n",
       "      <th>weekday_2</th>\n",
       "      <th>weekday_3</th>\n",
       "      <th>weekday_4</th>\n",
       "      <th>weekday_5</th>\n",
       "      <th>weekday_6</th>\n",
       "      <th>workingday_0</th>\n",
       "      <th>workingday_1</th>\n",
       "      <th>weathersit_1</th>\n",
       "      <th>weathersit_2</th>\n",
       "      <th>weathersit_3</th>\n",
       "    </tr>\n",
       "  </thead>\n",
       "  <tbody>\n",
       "    <tr>\n",
       "      <th>0</th>\n",
       "      <td>366</td>\n",
       "      <td>0.370000</td>\n",
       "      <td>0.375621</td>\n",
       "      <td>0.692500</td>\n",
       "      <td>0.192167</td>\n",
       "      <td>1</td>\n",
       "      <td>0</td>\n",
       "      <td>0</td>\n",
       "      <td>0</td>\n",
       "      <td>1</td>\n",
       "      <td>...</td>\n",
       "      <td>0</td>\n",
       "      <td>0</td>\n",
       "      <td>0</td>\n",
       "      <td>0</td>\n",
       "      <td>0</td>\n",
       "      <td>1</td>\n",
       "      <td>0</td>\n",
       "      <td>1</td>\n",
       "      <td>0</td>\n",
       "      <td>0</td>\n",
       "    </tr>\n",
       "    <tr>\n",
       "      <th>1</th>\n",
       "      <td>367</td>\n",
       "      <td>0.273043</td>\n",
       "      <td>0.252304</td>\n",
       "      <td>0.381304</td>\n",
       "      <td>0.329665</td>\n",
       "      <td>1</td>\n",
       "      <td>0</td>\n",
       "      <td>0</td>\n",
       "      <td>0</td>\n",
       "      <td>1</td>\n",
       "      <td>...</td>\n",
       "      <td>0</td>\n",
       "      <td>0</td>\n",
       "      <td>0</td>\n",
       "      <td>0</td>\n",
       "      <td>0</td>\n",
       "      <td>1</td>\n",
       "      <td>0</td>\n",
       "      <td>1</td>\n",
       "      <td>0</td>\n",
       "      <td>0</td>\n",
       "    </tr>\n",
       "    <tr>\n",
       "      <th>2</th>\n",
       "      <td>368</td>\n",
       "      <td>0.150000</td>\n",
       "      <td>0.126275</td>\n",
       "      <td>0.441250</td>\n",
       "      <td>0.365671</td>\n",
       "      <td>1</td>\n",
       "      <td>0</td>\n",
       "      <td>0</td>\n",
       "      <td>0</td>\n",
       "      <td>1</td>\n",
       "      <td>...</td>\n",
       "      <td>1</td>\n",
       "      <td>0</td>\n",
       "      <td>0</td>\n",
       "      <td>0</td>\n",
       "      <td>0</td>\n",
       "      <td>0</td>\n",
       "      <td>1</td>\n",
       "      <td>1</td>\n",
       "      <td>0</td>\n",
       "      <td>0</td>\n",
       "    </tr>\n",
       "    <tr>\n",
       "      <th>3</th>\n",
       "      <td>369</td>\n",
       "      <td>0.107500</td>\n",
       "      <td>0.119337</td>\n",
       "      <td>0.414583</td>\n",
       "      <td>0.184700</td>\n",
       "      <td>1</td>\n",
       "      <td>0</td>\n",
       "      <td>0</td>\n",
       "      <td>0</td>\n",
       "      <td>1</td>\n",
       "      <td>...</td>\n",
       "      <td>0</td>\n",
       "      <td>1</td>\n",
       "      <td>0</td>\n",
       "      <td>0</td>\n",
       "      <td>0</td>\n",
       "      <td>0</td>\n",
       "      <td>1</td>\n",
       "      <td>0</td>\n",
       "      <td>1</td>\n",
       "      <td>0</td>\n",
       "    </tr>\n",
       "    <tr>\n",
       "      <th>4</th>\n",
       "      <td>370</td>\n",
       "      <td>0.265833</td>\n",
       "      <td>0.278412</td>\n",
       "      <td>0.524167</td>\n",
       "      <td>0.129987</td>\n",
       "      <td>1</td>\n",
       "      <td>0</td>\n",
       "      <td>0</td>\n",
       "      <td>0</td>\n",
       "      <td>1</td>\n",
       "      <td>...</td>\n",
       "      <td>0</td>\n",
       "      <td>0</td>\n",
       "      <td>1</td>\n",
       "      <td>0</td>\n",
       "      <td>0</td>\n",
       "      <td>0</td>\n",
       "      <td>1</td>\n",
       "      <td>1</td>\n",
       "      <td>0</td>\n",
       "      <td>0</td>\n",
       "    </tr>\n",
       "  </tbody>\n",
       "</table>\n",
       "<p>5 rows × 35 columns</p>\n",
       "</div>"
      ],
      "text/plain": [
       "    id      temp     atemp       hum  windspeed  season_1  season_2  season_3  \\\n",
       "0  366  0.370000  0.375621  0.692500   0.192167         1         0         0   \n",
       "1  367  0.273043  0.252304  0.381304   0.329665         1         0         0   \n",
       "2  368  0.150000  0.126275  0.441250   0.365671         1         0         0   \n",
       "3  369  0.107500  0.119337  0.414583   0.184700         1         0         0   \n",
       "4  370  0.265833  0.278412  0.524167   0.129987         1         0         0   \n",
       "\n",
       "   season_4  mnth_1  ...  weekday_2  weekday_3  weekday_4  weekday_5  \\\n",
       "0         0       1  ...          0          0          0          0   \n",
       "1         0       1  ...          0          0          0          0   \n",
       "2         0       1  ...          1          0          0          0   \n",
       "3         0       1  ...          0          1          0          0   \n",
       "4         0       1  ...          0          0          1          0   \n",
       "\n",
       "   weekday_6  workingday_0  workingday_1  weathersit_1  weathersit_2  \\\n",
       "0          0             1             0             1             0   \n",
       "1          0             1             0             1             0   \n",
       "2          0             0             1             1             0   \n",
       "3          0             0             1             0             1   \n",
       "4          0             0             1             1             0   \n",
       "\n",
       "   weathersit_3  \n",
       "0             0  \n",
       "1             0  \n",
       "2             0  \n",
       "3             0  \n",
       "4             0  \n",
       "\n",
       "[5 rows x 35 columns]"
      ]
     },
     "execution_count": 65,
     "metadata": {},
     "output_type": "execute_result"
    }
   ],
   "source": [
    "dataset_test.head()"
   ]
  },
  {
   "cell_type": "code",
   "execution_count": null,
   "metadata": {},
   "outputs": [],
   "source": []
  },
  {
   "cell_type": "code",
   "execution_count": null,
   "metadata": {},
   "outputs": [],
   "source": []
  },
  {
   "cell_type": "code",
   "execution_count": null,
   "metadata": {},
   "outputs": [],
   "source": []
  },
  {
   "cell_type": "code",
   "execution_count": 67,
   "metadata": {},
   "outputs": [],
   "source": [
    "X2 = dataset_test.iloc[:, 1:].values"
   ]
  },
  {
   "cell_type": "code",
   "execution_count": 68,
   "metadata": {},
   "outputs": [
    {
     "data": {
      "text/plain": [
       "array([[0.37, 0.38, 0.69, ..., 1.  , 0.  , 0.  ],\n",
       "       [0.27, 0.25, 0.38, ..., 1.  , 0.  , 0.  ],\n",
       "       [0.15, 0.13, 0.44, ..., 1.  , 0.  , 0.  ],\n",
       "       ...,\n",
       "       [0.25, 0.24, 0.75, ..., 0.  , 1.  , 0.  ],\n",
       "       [0.26, 0.23, 0.48, ..., 1.  , 0.  , 0.  ],\n",
       "       [0.22, 0.22, 0.58, ..., 0.  , 1.  , 0.  ]])"
      ]
     },
     "execution_count": 68,
     "metadata": {},
     "output_type": "execute_result"
    }
   ],
   "source": [
    "X2\n"
   ]
  },
  {
   "cell_type": "markdown",
   "metadata": {},
   "source": [
    "X2"
   ]
  },
  {
   "cell_type": "code",
   "execution_count": 69,
   "metadata": {},
   "outputs": [
    {
     "data": {
      "text/plain": [
       "366"
      ]
     },
     "execution_count": 69,
     "metadata": {},
     "output_type": "execute_result"
    }
   ],
   "source": [
    "len(X2)"
   ]
  },
  {
   "cell_type": "code",
   "execution_count": 70,
   "metadata": {},
   "outputs": [],
   "source": [
    "y2_pred = regressor.predict(X2)\n",
    "np.set_printoptions(precision=2)"
   ]
  },
  {
   "cell_type": "code",
   "execution_count": 71,
   "metadata": {},
   "outputs": [
    {
     "data": {
      "text/plain": [
       "array([1726.29, 1330.18, 1267.18, 1163.89, 1869.04, 2032.56, 2159.87,\n",
       "       1935.09, 1272.04, 1796.32, 1163.84, 1473.01, 1524.33, 1596.11,\n",
       "       1371.11, 1065.99, 1342.63, 1582.59, 1514.96, 1467.91,  732.1 ,\n",
       "        656.66,  951.  , 1738.83, 1721.02, 1583.13, 1465.64, 1865.13,\n",
       "       1884.6 , 1873.29, 2217.64, 2509.09, 1808.4 , 2077.59, 1365.77,\n",
       "       1273.24, 1851.87, 2317.19, 1394.24, 1810.56, 1803.05, -269.37,\n",
       "       1029.24, 1924.59, 1937.28, 2126.97, 1616.18, 1992.91, 2117.44,\n",
       "       1413.04, 1472.54, 1887.92, 2130.03, 2395.82, 1717.05, 1715.94,\n",
       "       1910.44, 2078.95, 2381.13, 1471.29, 2588.03, 2049.68, 2203.64,\n",
       "       2078.47, 1988.26, 2217.81, 2270.43, 2447.33, 2111.87, 2347.42,\n",
       "       2291.  , 2721.89, 2855.48, 3155.74, 2962.08, 2092.61, 2395.87,\n",
       "       2044.85, 2700.63, 2767.17, 2748.29, 3036.47, 3132.3 , 2418.52,\n",
       "       2075.51, 2761.8 , 3034.55, 3025.97, 3078.55, 2588.56, 2303.43,\n",
       "       2939.03, 3361.95, 4021.47, 3952.82, 3708.43, 3515.68, 3783.48,\n",
       "       3892.16, 3705.04, 3663.67, 3177.03, 3347.84, 3826.17, 3758.82,\n",
       "       3883.31, 3596.95, 4180.49, 3325.57, 3820.04, 3701.36, 3570.61,\n",
       "       1074.38, 2382.85, 3538.47, 3912.52, 3160.29, 3582.53, 3246.88,\n",
       "       3523.88, 3313.79, 4466.05, 4378.27, 4148.42, 4659.01, 4305.88,\n",
       "       4053.4 , 4067.07, 4124.55, 4088.55, 4275.7 , 4793.6 , 4851.01,\n",
       "       4571.08, 4018.64, 4291.84, 4742.83, 4713.9 , 4824.57, 5039.65,\n",
       "       4601.02, 4021.77, 4389.18, 4354.29, 4691.46, 4820.37, 4741.89,\n",
       "       4633.54, 4504.83, 4802.66, 4542.32, 5037.07, 4070.27, 4479.95,\n",
       "       4481.72, 4433.04, 4010.36, 4478.35, 4540.78, 4815.66, 5036.05,\n",
       "       4837.6 , 4470.49, 3997.82, 4365.12, 4534.43, 4631.2 , 4697.16,\n",
       "       4377.94, 3842.45, 4707.56, 5084.72, 5616.11, 5466.64, 5308.28,\n",
       "       5361.06, 5113.6 , 5060.23, 5313.07, 5532.92, 5790.51, 5350.54,\n",
       "       4780.01, 4822.79, 4943.42, 4467.88, 4980.7 , 5105.22, 5099.11,\n",
       "       4833.05, 4058.72, 4231.15, 4462.18, 4623.  , 4605.48, 4112.38,\n",
       "       4326.42, 4594.21, 5076.51, 4818.14, 4668.94, 3723.78, 2150.63,\n",
       "       3862.75, 4486.83, 4533.53, 4710.05, 4525.24, 4789.15, 4618.39,\n",
       "       4359.6 , 4471.48, 4418.11, 4524.66, 4688.23, 4389.52, 4676.56,\n",
       "       4376.69, 4409.59, 4388.38, 4413.13, 4696.23, 4094.07, 3997.04,\n",
       "       4580.89, 4706.05, 4561.57, 4522.09, 4735.54, 4087.92, 4444.22,\n",
       "       3945.79, 3945.76, 4498.27, 4490.97, 4602.99, 4447.99, 3882.96,\n",
       "       3559.16, 4423.81, 4608.21, 4643.29, 4715.88, 4772.27, 4845.67,\n",
       "       4388.66, 4319.18, 4752.16, 4829.11, 4401.22, 4792.98, 4073.61,\n",
       "       4527.76, 4576.44, 4868.54, 4720.66, 4760.96, 4782.42, 4683.39,\n",
       "       4636.56, 4137.34, 3787.05, 4520.44, 4550.75, 4617.08, 4535.03,\n",
       "       4789.71, 4945.1 , 4879.17, 4938.62, 4806.38, 4723.42, 4842.37,\n",
       "       4765.77, 4395.9 , 3024.91, 4603.11, 4636.53, 4994.71, 4477.07,\n",
       "       3820.02, 3368.04, 3930.04, 4525.29, 4538.1 , 4403.54, 4427.84,\n",
       "       4271.18, 4097.33, 4563.03, 4406.55, 4073.19, 4271.3 , 4632.98,\n",
       "       4459.89, 4699.44, 4813.34, 4904.47, 4226.06, 4235.4 , 4104.42,\n",
       "       3601.1 , 2131.92, 3414.48, 3773.68, 3442.37, 3635.78, 3289.3 ,\n",
       "       3502.78, 3535.59, 3505.93, 3003.25, 3693.44, 3704.26, 3862.21,\n",
       "       3699.75, 3423.42, 2997.33, 3434.61, 3259.96, 3755.02, 3604.12,\n",
       "       3247.9 , 3281.59, 3506.78, 3723.04, 3431.34, 3812.52, 3302.41,\n",
       "       3401.69, 3807.76, 2849.15, 3503.05, 3576.07, 3649.11, 3043.62,\n",
       "       2935.07, 3772.85, 3805.12, 3720.96, 3391.79, 3083.03, 3076.27,\n",
       "       2874.66, 3055.95, 3138.56, 3211.83, 3541.52, 3416.48, 3531.32,\n",
       "       2992.51, 3107.43, 3629.92, 3452.94, 3196.92, 1800.02, 1941.97,\n",
       "       2144.04, 1662.83, 1437.98,  -64.06, 1435.33, 1911.35, 1677.1 ,\n",
       "       1826.22, 1759.84])"
      ]
     },
     "execution_count": 71,
     "metadata": {},
     "output_type": "execute_result"
    }
   ],
   "source": [
    "y2_pred"
   ]
  },
  {
   "cell_type": "code",
   "execution_count": 72,
   "metadata": {},
   "outputs": [
    {
     "data": {
      "text/html": [
       "<div>\n",
       "<style scoped>\n",
       "    .dataframe tbody tr th:only-of-type {\n",
       "        vertical-align: middle;\n",
       "    }\n",
       "\n",
       "    .dataframe tbody tr th {\n",
       "        vertical-align: top;\n",
       "    }\n",
       "\n",
       "    .dataframe thead th {\n",
       "        text-align: right;\n",
       "    }\n",
       "</style>\n",
       "<table border=\"1\" class=\"dataframe\">\n",
       "  <thead>\n",
       "    <tr style=\"text-align: right;\">\n",
       "      <th></th>\n",
       "      <th>id</th>\n",
       "      <th>cnt</th>\n",
       "    </tr>\n",
       "  </thead>\n",
       "  <tbody>\n",
       "    <tr>\n",
       "      <th>0</th>\n",
       "      <td>366</td>\n",
       "      <td>2324.704634</td>\n",
       "    </tr>\n",
       "    <tr>\n",
       "      <th>1</th>\n",
       "      <td>367</td>\n",
       "      <td>1825.998871</td>\n",
       "    </tr>\n",
       "    <tr>\n",
       "      <th>2</th>\n",
       "      <td>368</td>\n",
       "      <td>1246.661929</td>\n",
       "    </tr>\n",
       "    <tr>\n",
       "      <th>3</th>\n",
       "      <td>369</td>\n",
       "      <td>1067.359745</td>\n",
       "    </tr>\n",
       "    <tr>\n",
       "      <th>4</th>\n",
       "      <td>370</td>\n",
       "      <td>2349.727614</td>\n",
       "    </tr>\n",
       "  </tbody>\n",
       "</table>\n",
       "</div>"
      ],
      "text/plain": [
       "    id          cnt\n",
       "0  366  2324.704634\n",
       "1  367  1825.998871\n",
       "2  368  1246.661929\n",
       "3  369  1067.359745\n",
       "4  370  2349.727614"
      ]
     },
     "execution_count": 72,
     "metadata": {},
     "output_type": "execute_result"
    }
   ],
   "source": [
    "submission=pd.read_csv(\"C:\\\\Users\\\\jonathan.sh\\\\OneDrive - Webpals\\\\DS Course\\\\Task DS\\\\sample_submission.csv\")\n",
    "submission.head()"
   ]
  },
  {
   "cell_type": "code",
   "execution_count": 73,
   "metadata": {},
   "outputs": [],
   "source": [
    "df=pd.DataFrame(submission)\n"
   ]
  },
  {
   "cell_type": "code",
   "execution_count": 74,
   "metadata": {},
   "outputs": [],
   "source": [
    "df['cnt']=y2_pred"
   ]
  },
  {
   "cell_type": "code",
   "execution_count": 75,
   "metadata": {},
   "outputs": [
    {
     "data": {
      "text/html": [
       "<div>\n",
       "<style scoped>\n",
       "    .dataframe tbody tr th:only-of-type {\n",
       "        vertical-align: middle;\n",
       "    }\n",
       "\n",
       "    .dataframe tbody tr th {\n",
       "        vertical-align: top;\n",
       "    }\n",
       "\n",
       "    .dataframe thead th {\n",
       "        text-align: right;\n",
       "    }\n",
       "</style>\n",
       "<table border=\"1\" class=\"dataframe\">\n",
       "  <thead>\n",
       "    <tr style=\"text-align: right;\">\n",
       "      <th></th>\n",
       "      <th>id</th>\n",
       "      <th>cnt</th>\n",
       "    </tr>\n",
       "  </thead>\n",
       "  <tbody>\n",
       "    <tr>\n",
       "      <th>0</th>\n",
       "      <td>366</td>\n",
       "      <td>1726.294034</td>\n",
       "    </tr>\n",
       "    <tr>\n",
       "      <th>1</th>\n",
       "      <td>367</td>\n",
       "      <td>1330.176312</td>\n",
       "    </tr>\n",
       "    <tr>\n",
       "      <th>2</th>\n",
       "      <td>368</td>\n",
       "      <td>1267.180081</td>\n",
       "    </tr>\n",
       "    <tr>\n",
       "      <th>3</th>\n",
       "      <td>369</td>\n",
       "      <td>1163.885840</td>\n",
       "    </tr>\n",
       "    <tr>\n",
       "      <th>4</th>\n",
       "      <td>370</td>\n",
       "      <td>1869.040455</td>\n",
       "    </tr>\n",
       "    <tr>\n",
       "      <th>...</th>\n",
       "      <td>...</td>\n",
       "      <td>...</td>\n",
       "    </tr>\n",
       "    <tr>\n",
       "      <th>361</th>\n",
       "      <td>727</td>\n",
       "      <td>1435.332551</td>\n",
       "    </tr>\n",
       "    <tr>\n",
       "      <th>362</th>\n",
       "      <td>728</td>\n",
       "      <td>1911.350985</td>\n",
       "    </tr>\n",
       "    <tr>\n",
       "      <th>363</th>\n",
       "      <td>729</td>\n",
       "      <td>1677.101598</td>\n",
       "    </tr>\n",
       "    <tr>\n",
       "      <th>364</th>\n",
       "      <td>730</td>\n",
       "      <td>1826.220845</td>\n",
       "    </tr>\n",
       "    <tr>\n",
       "      <th>365</th>\n",
       "      <td>731</td>\n",
       "      <td>1759.844558</td>\n",
       "    </tr>\n",
       "  </tbody>\n",
       "</table>\n",
       "<p>366 rows × 2 columns</p>\n",
       "</div>"
      ],
      "text/plain": [
       "      id          cnt\n",
       "0    366  1726.294034\n",
       "1    367  1330.176312\n",
       "2    368  1267.180081\n",
       "3    369  1163.885840\n",
       "4    370  1869.040455\n",
       "..   ...          ...\n",
       "361  727  1435.332551\n",
       "362  728  1911.350985\n",
       "363  729  1677.101598\n",
       "364  730  1826.220845\n",
       "365  731  1759.844558\n",
       "\n",
       "[366 rows x 2 columns]"
      ]
     },
     "execution_count": 75,
     "metadata": {},
     "output_type": "execute_result"
    }
   ],
   "source": [
    "df"
   ]
  },
  {
   "cell_type": "code",
   "execution_count": 76,
   "metadata": {},
   "outputs": [
    {
     "name": "stdout",
     "output_type": "stream",
     "text": [
      "  id          cnt\n",
      " 366  1726.294034\n",
      " 367  1330.176312\n",
      " 368  1267.180081\n",
      " 369  1163.885840\n",
      " 370  1869.040455\n",
      " 371  2032.558235\n",
      " 372  2159.867693\n",
      " 373  1935.090700\n",
      " 374  1272.038367\n",
      " 375  1796.323336\n",
      " 376  1163.837092\n",
      " 377  1473.012690\n",
      " 378  1524.331233\n",
      " 379  1596.113730\n",
      " 380  1371.111180\n",
      " 381  1065.992563\n",
      " 382  1342.625782\n",
      " 383  1582.589374\n",
      " 384  1514.955750\n",
      " 385  1467.909943\n",
      " 386   732.102308\n",
      " 387   656.661735\n",
      " 388   950.998663\n",
      " 389  1738.832943\n",
      " 390  1721.022367\n",
      " 391  1583.129432\n",
      " 392  1465.642253\n",
      " 393  1865.130840\n",
      " 394  1884.596992\n",
      " 395  1873.286866\n",
      " 396  2217.635898\n",
      " 397  2509.085619\n",
      " 398  1808.399106\n",
      " 399  2077.592034\n",
      " 400  1365.774104\n",
      " 401  1273.243718\n",
      " 402  1851.866972\n",
      " 403  2317.194415\n",
      " 404  1394.238302\n",
      " 405  1810.556959\n",
      " 406  1803.053316\n",
      " 407  -269.374878\n",
      " 408  1029.236024\n",
      " 409  1924.590646\n",
      " 410  1937.277529\n",
      " 411  2126.972757\n",
      " 412  1616.184451\n",
      " 413  1992.906454\n",
      " 414  2117.440139\n",
      " 415  1413.036124\n",
      " 416  1472.538903\n",
      " 417  1887.923683\n",
      " 418  2130.031200\n",
      " 419  2395.824435\n",
      " 420  1717.049250\n",
      " 421  1715.939457\n",
      " 422  1910.435746\n",
      " 423  2078.949809\n",
      " 424  2381.133761\n",
      " 425  1471.294923\n",
      " 426  2588.026598\n",
      " 427  2049.679598\n",
      " 428  2203.641040\n",
      " 429  2078.465715\n",
      " 430  1988.257730\n",
      " 431  2217.807642\n",
      " 432  2270.425909\n",
      " 433  2447.325987\n",
      " 434  2111.870916\n",
      " 435  2347.416966\n",
      " 436  2291.004059\n",
      " 437  2721.891048\n",
      " 438  2855.476832\n",
      " 439  3155.741640\n",
      " 440  2962.080794\n",
      " 441  2092.612412\n",
      " 442  2395.868716\n",
      " 443  2044.854222\n",
      " 444  2700.626856\n",
      " 445  2767.169631\n",
      " 446  2748.292213\n",
      " 447  3036.474473\n",
      " 448  3132.301445\n",
      " 449  2418.524692\n",
      " 450  2075.514104\n",
      " 451  2761.804725\n",
      " 452  3034.547019\n",
      " 453  3025.969043\n",
      " 454  3078.550077\n",
      " 455  2588.559779\n",
      " 456  2303.432119\n",
      " 457  2939.029788\n",
      " 458  3361.953651\n",
      " 459  4021.472828\n",
      " 460  3952.823109\n",
      " 461  3708.430962\n",
      " 462  3515.677338\n",
      " 463  3783.483910\n",
      " 464  3892.158418\n",
      " 465  3705.037007\n",
      " 466  3663.668569\n",
      " 467  3177.025892\n",
      " 468  3347.842989\n",
      " 469  3826.168770\n",
      " 470  3758.819560\n",
      " 471  3883.310075\n",
      " 472  3596.951105\n",
      " 473  4180.492235\n",
      " 474  3325.565306\n",
      " 475  3820.035774\n",
      " 476  3701.356024\n",
      " 477  3570.613803\n",
      " 478  1074.376222\n",
      " 479  2382.848084\n",
      " 480  3538.471667\n",
      " 481  3912.520584\n",
      " 482  3160.289316\n",
      " 483  3582.526790\n",
      " 484  3246.883842\n",
      " 485  3523.879558\n",
      " 486  3313.789335\n",
      " 487  4466.046229\n",
      " 488  4378.265887\n",
      " 489  4148.416981\n",
      " 490  4659.007330\n",
      " 491  4305.884477\n",
      " 492  4053.398831\n",
      " 493  4067.073949\n",
      " 494  4124.553512\n",
      " 495  4088.546526\n",
      " 496  4275.695030\n",
      " 497  4793.598526\n",
      " 498  4851.007175\n",
      " 499  4571.078722\n",
      " 500  4018.639473\n",
      " 501  4291.835156\n",
      " 502  4742.829815\n",
      " 503  4713.903180\n",
      " 504  4824.569780\n",
      " 505  5039.654281\n",
      " 506  4601.022795\n",
      " 507  4021.766615\n",
      " 508  4389.183939\n",
      " 509  4354.293594\n",
      " 510  4691.456538\n",
      " 511  4820.367941\n",
      " 512  4741.886854\n",
      " 513  4633.539238\n",
      " 514  4504.825852\n",
      " 515  4802.655460\n",
      " 516  4542.322227\n",
      " 517  5037.073390\n",
      " 518  4070.267425\n",
      " 519  4479.945899\n",
      " 520  4481.724881\n",
      " 521  4433.038345\n",
      " 522  4010.359129\n",
      " 523  4478.347034\n",
      " 524  4540.783211\n",
      " 525  4815.662917\n",
      " 526  5036.053001\n",
      " 527  4837.602234\n",
      " 528  4470.485976\n",
      " 529  3997.819756\n",
      " 530  4365.123688\n",
      " 531  4534.429549\n",
      " 532  4631.197526\n",
      " 533  4697.161003\n",
      " 534  4377.935815\n",
      " 535  3842.451306\n",
      " 536  4707.558955\n",
      " 537  5084.718877\n",
      " 538  5616.113152\n",
      " 539  5466.635464\n",
      " 540  5308.276613\n",
      " 541  5361.060420\n",
      " 542  5113.603680\n",
      " 543  5060.229832\n",
      " 544  5313.067683\n",
      " 545  5532.916459\n",
      " 546  5790.514933\n",
      " 547  5350.537980\n",
      " 548  4780.007244\n",
      " 549  4822.785753\n",
      " 550  4943.417090\n",
      " 551  4467.879255\n",
      " 552  4980.698229\n",
      " 553  5105.223233\n",
      " 554  5099.109312\n",
      " 555  4833.053625\n",
      " 556  4058.717065\n",
      " 557  4231.148913\n",
      " 558  4462.178051\n",
      " 559  4622.997869\n",
      " 560  4605.479493\n",
      " 561  4112.375813\n",
      " 562  4326.416143\n",
      " 563  4594.208767\n",
      " 564  5076.511691\n",
      " 565  4818.142595\n",
      " 566  4668.938884\n",
      " 567  3723.782856\n",
      " 568  2150.626922\n",
      " 569  3862.747077\n",
      " 570  4486.830570\n",
      " 571  4533.531774\n",
      " 572  4710.053732\n",
      " 573  4525.238913\n",
      " 574  4789.154570\n",
      " 575  4618.389411\n",
      " 576  4359.604059\n",
      " 577  4471.475945\n",
      " 578  4418.105432\n",
      " 579  4524.657263\n",
      " 580  4688.225148\n",
      " 581  4389.515202\n",
      " 582  4676.557300\n",
      " 583  4376.693175\n",
      " 584  4409.592161\n",
      " 585  4388.380843\n",
      " 586  4413.126847\n",
      " 587  4696.233961\n",
      " 588  4094.069527\n",
      " 589  3997.035346\n",
      " 590  4580.888448\n",
      " 591  4706.052777\n",
      " 592  4561.569488\n",
      " 593  4522.086853\n",
      " 594  4735.536616\n",
      " 595  4087.922038\n",
      " 596  4444.222714\n",
      " 597  3945.785807\n",
      " 598  3945.759559\n",
      " 599  4498.270108\n",
      " 600  4490.971843\n",
      " 601  4602.991410\n",
      " 602  4447.987467\n",
      " 603  3882.964776\n",
      " 604  3559.161795\n",
      " 605  4423.808732\n",
      " 606  4608.205292\n",
      " 607  4643.288622\n",
      " 608  4715.875230\n",
      " 609  4772.269872\n",
      " 610  4845.674982\n",
      " 611  4388.664950\n",
      " 612  4319.184595\n",
      " 613  4752.160033\n",
      " 614  4829.109385\n",
      " 615  4401.216461\n",
      " 616  4792.976509\n",
      " 617  4073.614604\n",
      " 618  4527.764521\n",
      " 619  4576.441063\n",
      " 620  4868.543221\n",
      " 621  4720.660820\n",
      " 622  4760.955610\n",
      " 623  4782.422168\n",
      " 624  4683.393120\n",
      " 625  4636.563898\n",
      " 626  4137.336752\n",
      " 627  3787.048836\n",
      " 628  4520.435039\n",
      " 629  4550.748200\n",
      " 630  4617.083170\n",
      " 631  4535.030104\n",
      " 632  4789.711779\n",
      " 633  4945.097693\n",
      " 634  4879.173302\n",
      " 635  4938.624347\n",
      " 636  4806.380887\n",
      " 637  4723.419061\n",
      " 638  4842.366173\n",
      " 639  4765.768274\n",
      " 640  4395.902970\n",
      " 641  3024.913617\n",
      " 642  4603.111298\n",
      " 643  4636.529205\n",
      " 644  4994.710629\n",
      " 645  4477.065111\n",
      " 646  3820.023844\n",
      " 647  3368.039273\n",
      " 648  3930.037048\n",
      " 649  4525.293811\n",
      " 650  4538.103754\n",
      " 651  4403.543018\n",
      " 652  4427.843435\n",
      " 653  4271.182709\n",
      " 654  4097.328964\n",
      " 655  4563.030751\n",
      " 656  4406.553792\n",
      " 657  4073.188522\n",
      " 658  4271.303033\n",
      " 659  4632.979121\n",
      " 660  4459.890159\n",
      " 661  4699.438750\n",
      " 662  4813.341380\n",
      " 663  4904.471160\n",
      " 664  4226.058202\n",
      " 665  4235.398869\n",
      " 666  4104.422943\n",
      " 667  3601.100325\n",
      " 668  2131.918993\n",
      " 669  3414.482120\n",
      " 670  3773.682691\n",
      " 671  3442.368951\n",
      " 672  3635.779657\n",
      " 673  3289.296664\n",
      " 674  3502.784801\n",
      " 675  3535.587812\n",
      " 676  3505.933108\n",
      " 677  3003.246220\n",
      " 678  3693.443910\n",
      " 679  3704.264900\n",
      " 680  3862.209672\n",
      " 681  3699.747111\n",
      " 682  3423.419563\n",
      " 683  2997.329862\n",
      " 684  3434.609357\n",
      " 685  3259.961290\n",
      " 686  3755.020691\n",
      " 687  3604.121678\n",
      " 688  3247.898812\n",
      " 689  3281.592779\n",
      " 690  3506.780800\n",
      " 691  3723.041033\n",
      " 692  3431.344106\n",
      " 693  3812.524271\n",
      " 694  3302.405319\n",
      " 695  3401.686211\n",
      " 696  3807.757793\n",
      " 697  2849.153434\n",
      " 698  3503.045404\n",
      " 699  3576.073430\n",
      " 700  3649.113107\n",
      " 701  3043.616540\n",
      " 702  2935.066128\n",
      " 703  3772.851040\n",
      " 704  3805.124319\n",
      " 705  3720.964147\n",
      " 706  3391.785874\n",
      " 707  3083.027681\n",
      " 708  3076.272433\n",
      " 709  2874.663353\n",
      " 710  3055.954023\n",
      " 711  3138.555043\n",
      " 712  3211.834638\n",
      " 713  3541.516749\n",
      " 714  3416.481956\n",
      " 715  3531.323104\n",
      " 716  2992.506622\n",
      " 717  3107.429217\n",
      " 718  3629.915575\n",
      " 719  3452.939024\n",
      " 720  3196.916142\n",
      " 721  1800.019208\n",
      " 722  1941.968606\n",
      " 723  2144.040814\n",
      " 724  1662.826521\n",
      " 725  1437.981165\n",
      " 726   -64.060468\n",
      " 727  1435.332551\n",
      " 728  1911.350985\n",
      " 729  1677.101598\n",
      " 730  1826.220845\n",
      " 731  1759.844558\n"
     ]
    }
   ],
   "source": [
    "print(df.to_string(index=False))"
   ]
  },
  {
   "cell_type": "code",
   "execution_count": 77,
   "metadata": {},
   "outputs": [],
   "source": [
    "df.to_csv('C:\\\\Users\\\\jonathan.sh\\\\OneDrive - Webpals\\\\DS Course\\\\Task DS\\\\Proccessed.csv',index=False)"
   ]
  },
  {
   "cell_type": "code",
   "execution_count": null,
   "metadata": {},
   "outputs": [],
   "source": []
  }
 ],
 "metadata": {
  "kernelspec": {
   "display_name": "Python 3",
   "language": "python",
   "name": "python3"
  },
  "language_info": {
   "codemirror_mode": {
    "name": "ipython",
    "version": 3
   },
   "file_extension": ".py",
   "mimetype": "text/x-python",
   "name": "python",
   "nbconvert_exporter": "python",
   "pygments_lexer": "ipython3",
   "version": "3.8.5"
  }
 },
 "nbformat": 4,
 "nbformat_minor": 4
}
