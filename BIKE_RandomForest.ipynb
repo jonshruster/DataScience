{
 "cells": [
  {
   "cell_type": "code",
   "execution_count": 6,
   "metadata": {},
   "outputs": [],
   "source": [
    "import pandas as pd\n",
    "import numpy as np\n",
    "import matplotlib.pyplot as plt\n",
    "import seaborn as sns"
   ]
  },
  {
   "cell_type": "code",
   "execution_count": 7,
   "metadata": {
    "scrolled": true
   },
   "outputs": [
    {
     "data": {
      "text/html": [
       "<div>\n",
       "<style scoped>\n",
       "    .dataframe tbody tr th:only-of-type {\n",
       "        vertical-align: middle;\n",
       "    }\n",
       "\n",
       "    .dataframe tbody tr th {\n",
       "        vertical-align: top;\n",
       "    }\n",
       "\n",
       "    .dataframe thead th {\n",
       "        text-align: right;\n",
       "    }\n",
       "</style>\n",
       "<table border=\"1\" class=\"dataframe\">\n",
       "  <thead>\n",
       "    <tr style=\"text-align: right;\">\n",
       "      <th></th>\n",
       "      <th>id</th>\n",
       "      <th>season</th>\n",
       "      <th>mnth</th>\n",
       "      <th>holiday</th>\n",
       "      <th>weekday</th>\n",
       "      <th>workingday</th>\n",
       "      <th>weathersit</th>\n",
       "      <th>temp</th>\n",
       "      <th>atemp</th>\n",
       "      <th>hum</th>\n",
       "      <th>windspeed</th>\n",
       "      <th>cnt</th>\n",
       "    </tr>\n",
       "  </thead>\n",
       "  <tbody>\n",
       "    <tr>\n",
       "      <th>0</th>\n",
       "      <td>1</td>\n",
       "      <td>1</td>\n",
       "      <td>1</td>\n",
       "      <td>0</td>\n",
       "      <td>6</td>\n",
       "      <td>0</td>\n",
       "      <td>2</td>\n",
       "      <td>0.344167</td>\n",
       "      <td>0.363625</td>\n",
       "      <td>0.805833</td>\n",
       "      <td>0.160446</td>\n",
       "      <td>985</td>\n",
       "    </tr>\n",
       "    <tr>\n",
       "      <th>1</th>\n",
       "      <td>2</td>\n",
       "      <td>1</td>\n",
       "      <td>1</td>\n",
       "      <td>0</td>\n",
       "      <td>0</td>\n",
       "      <td>0</td>\n",
       "      <td>2</td>\n",
       "      <td>0.363478</td>\n",
       "      <td>0.353739</td>\n",
       "      <td>0.696087</td>\n",
       "      <td>0.248539</td>\n",
       "      <td>801</td>\n",
       "    </tr>\n",
       "    <tr>\n",
       "      <th>2</th>\n",
       "      <td>3</td>\n",
       "      <td>1</td>\n",
       "      <td>1</td>\n",
       "      <td>0</td>\n",
       "      <td>1</td>\n",
       "      <td>1</td>\n",
       "      <td>1</td>\n",
       "      <td>0.196364</td>\n",
       "      <td>0.189405</td>\n",
       "      <td>0.437273</td>\n",
       "      <td>0.248309</td>\n",
       "      <td>1349</td>\n",
       "    </tr>\n",
       "    <tr>\n",
       "      <th>3</th>\n",
       "      <td>4</td>\n",
       "      <td>1</td>\n",
       "      <td>1</td>\n",
       "      <td>0</td>\n",
       "      <td>2</td>\n",
       "      <td>1</td>\n",
       "      <td>1</td>\n",
       "      <td>0.200000</td>\n",
       "      <td>0.212122</td>\n",
       "      <td>0.590435</td>\n",
       "      <td>0.160296</td>\n",
       "      <td>1562</td>\n",
       "    </tr>\n",
       "    <tr>\n",
       "      <th>4</th>\n",
       "      <td>5</td>\n",
       "      <td>1</td>\n",
       "      <td>1</td>\n",
       "      <td>0</td>\n",
       "      <td>3</td>\n",
       "      <td>1</td>\n",
       "      <td>1</td>\n",
       "      <td>0.226957</td>\n",
       "      <td>0.229270</td>\n",
       "      <td>0.436957</td>\n",
       "      <td>0.186900</td>\n",
       "      <td>1600</td>\n",
       "    </tr>\n",
       "  </tbody>\n",
       "</table>\n",
       "</div>"
      ],
      "text/plain": [
       "   id  season  mnth  holiday  weekday  workingday  weathersit      temp  \\\n",
       "0   1       1     1        0        6           0           2  0.344167   \n",
       "1   2       1     1        0        0           0           2  0.363478   \n",
       "2   3       1     1        0        1           1           1  0.196364   \n",
       "3   4       1     1        0        2           1           1  0.200000   \n",
       "4   5       1     1        0        3           1           1  0.226957   \n",
       "\n",
       "      atemp       hum  windspeed   cnt  \n",
       "0  0.363625  0.805833   0.160446   985  \n",
       "1  0.353739  0.696087   0.248539   801  \n",
       "2  0.189405  0.437273   0.248309  1349  \n",
       "3  0.212122  0.590435   0.160296  1562  \n",
       "4  0.229270  0.436957   0.186900  1600  "
      ]
     },
     "execution_count": 7,
     "metadata": {},
     "output_type": "execute_result"
    }
   ],
   "source": [
    "dataset_train=pd.read_csv(\"C:\\\\Users\\\\jonathan.sh\\\\OneDrive - Webpals\\\\DS Course\\\\Task DS\\\\train.csv\")\n",
    "dataset_train.head()"
   ]
  },
  {
   "cell_type": "code",
   "execution_count": 8,
   "metadata": {},
   "outputs": [
    {
     "data": {
      "text/html": [
       "<div>\n",
       "<style scoped>\n",
       "    .dataframe tbody tr th:only-of-type {\n",
       "        vertical-align: middle;\n",
       "    }\n",
       "\n",
       "    .dataframe tbody tr th {\n",
       "        vertical-align: top;\n",
       "    }\n",
       "\n",
       "    .dataframe thead th {\n",
       "        text-align: right;\n",
       "    }\n",
       "</style>\n",
       "<table border=\"1\" class=\"dataframe\">\n",
       "  <thead>\n",
       "    <tr style=\"text-align: right;\">\n",
       "      <th></th>\n",
       "      <th>season</th>\n",
       "      <th>mnth</th>\n",
       "      <th>holiday</th>\n",
       "      <th>weekday</th>\n",
       "      <th>workingday</th>\n",
       "      <th>weathersit</th>\n",
       "      <th>temp</th>\n",
       "      <th>atemp</th>\n",
       "      <th>hum</th>\n",
       "      <th>windspeed</th>\n",
       "      <th>cnt</th>\n",
       "    </tr>\n",
       "  </thead>\n",
       "  <tbody>\n",
       "    <tr>\n",
       "      <th>0</th>\n",
       "      <td>1</td>\n",
       "      <td>1</td>\n",
       "      <td>0</td>\n",
       "      <td>6</td>\n",
       "      <td>0</td>\n",
       "      <td>2</td>\n",
       "      <td>0.344167</td>\n",
       "      <td>0.363625</td>\n",
       "      <td>0.805833</td>\n",
       "      <td>0.160446</td>\n",
       "      <td>985</td>\n",
       "    </tr>\n",
       "    <tr>\n",
       "      <th>1</th>\n",
       "      <td>1</td>\n",
       "      <td>1</td>\n",
       "      <td>0</td>\n",
       "      <td>0</td>\n",
       "      <td>0</td>\n",
       "      <td>2</td>\n",
       "      <td>0.363478</td>\n",
       "      <td>0.353739</td>\n",
       "      <td>0.696087</td>\n",
       "      <td>0.248539</td>\n",
       "      <td>801</td>\n",
       "    </tr>\n",
       "    <tr>\n",
       "      <th>2</th>\n",
       "      <td>1</td>\n",
       "      <td>1</td>\n",
       "      <td>0</td>\n",
       "      <td>1</td>\n",
       "      <td>1</td>\n",
       "      <td>1</td>\n",
       "      <td>0.196364</td>\n",
       "      <td>0.189405</td>\n",
       "      <td>0.437273</td>\n",
       "      <td>0.248309</td>\n",
       "      <td>1349</td>\n",
       "    </tr>\n",
       "    <tr>\n",
       "      <th>3</th>\n",
       "      <td>1</td>\n",
       "      <td>1</td>\n",
       "      <td>0</td>\n",
       "      <td>2</td>\n",
       "      <td>1</td>\n",
       "      <td>1</td>\n",
       "      <td>0.200000</td>\n",
       "      <td>0.212122</td>\n",
       "      <td>0.590435</td>\n",
       "      <td>0.160296</td>\n",
       "      <td>1562</td>\n",
       "    </tr>\n",
       "    <tr>\n",
       "      <th>4</th>\n",
       "      <td>1</td>\n",
       "      <td>1</td>\n",
       "      <td>0</td>\n",
       "      <td>3</td>\n",
       "      <td>1</td>\n",
       "      <td>1</td>\n",
       "      <td>0.226957</td>\n",
       "      <td>0.229270</td>\n",
       "      <td>0.436957</td>\n",
       "      <td>0.186900</td>\n",
       "      <td>1600</td>\n",
       "    </tr>\n",
       "  </tbody>\n",
       "</table>\n",
       "</div>"
      ],
      "text/plain": [
       "   season  mnth  holiday  weekday  workingday  weathersit      temp     atemp  \\\n",
       "0       1     1        0        6           0           2  0.344167  0.363625   \n",
       "1       1     1        0        0           0           2  0.363478  0.353739   \n",
       "2       1     1        0        1           1           1  0.196364  0.189405   \n",
       "3       1     1        0        2           1           1  0.200000  0.212122   \n",
       "4       1     1        0        3           1           1  0.226957  0.229270   \n",
       "\n",
       "        hum  windspeed   cnt  \n",
       "0  0.805833   0.160446   985  \n",
       "1  0.696087   0.248539   801  \n",
       "2  0.437273   0.248309  1349  \n",
       "3  0.590435   0.160296  1562  \n",
       "4  0.436957   0.186900  1600  "
      ]
     },
     "execution_count": 8,
     "metadata": {},
     "output_type": "execute_result"
    }
   ],
   "source": [
    "del dataset_train[dataset_train.columns[0]]\n",
    "dataset_train.head()"
   ]
  },
  {
   "cell_type": "code",
   "execution_count": 9,
   "metadata": {},
   "outputs": [],
   "source": [
    "numeric_var = ['temp', 'atemp', 'hum', 'windspeed', 'cnt']\n",
    "\n",
    "categorical_var = ['season', 'mnth', 'holiday', 'weekday', 'workingday', 'weathersit']"
   ]
  },
  {
   "cell_type": "code",
   "execution_count": 12,
   "metadata": {},
   "outputs": [
    {
     "name": "stdout",
     "output_type": "stream",
     "text": [
      "season          int64\n",
      "mnth            int64\n",
      "holiday         int64\n",
      "weekday         int64\n",
      "workingday      int64\n",
      "weathersit      int64\n",
      "temp          float64\n",
      "atemp         float64\n",
      "hum           float64\n",
      "windspeed     float64\n",
      "cnt             int64\n",
      "dtype: object\n"
     ]
    }
   ],
   "source": [
    "print(dataset_train.dtypes)"
   ]
  },
  {
   "cell_type": "code",
   "execution_count": 13,
   "metadata": {},
   "outputs": [
    {
     "data": {
      "text/plain": [
       "season        0\n",
       "mnth          0\n",
       "holiday       0\n",
       "weekday       0\n",
       "workingday    0\n",
       "weathersit    0\n",
       "temp          0\n",
       "atemp         0\n",
       "hum           0\n",
       "windspeed     0\n",
       "cnt           0\n",
       "dtype: int64"
      ]
     },
     "execution_count": 13,
     "metadata": {},
     "output_type": "execute_result"
    }
   ],
   "source": [
    "dataset_train.isnull().sum()"
   ]
  },
  {
   "cell_type": "code",
   "execution_count": 15,
   "metadata": {},
   "outputs": [
    {
     "name": "stdout",
     "output_type": "stream",
     "text": [
      "temp\n",
      "Innerfence= -0.1725005\n",
      "Upperfence= 1.1541675\n",
      "IQR =0.331667\n",
      "atemp\n",
      "Innerfence= -0.11368349999999999\n",
      "Upperfence= 1.0480165000000001\n",
      "IQR =0.290425\n",
      "hum\n",
      "Innerfence= 0.2327079999999998\n",
      "Upperfence= 1.047708\n",
      "IQR =0.2037500000000001\n",
      "windspeed\n",
      "Innerfence= -0.013655000000000056\n",
      "Upperfence= 0.384313\n",
      "IQR =0.09949200000000002\n",
      "cnt\n",
      "Innerfence= -1549.0\n",
      "Upperfence= 8267.0\n",
      "IQR =2454.0\n"
     ]
    }
   ],
   "source": [
    "for i in numeric_var:\n",
    "    print(i)\n",
    "    q75, q25 = np.percentile(dataset_train.loc[:,i], [75, 25])\n",
    "    iqr = q75 - q25\n",
    "    Innerfence = q25 - (iqr*1.5)\n",
    "    Upperfence = q75 + (iqr*1.5)\n",
    "    print(\"Innerfence= \"+str(Innerfence))\n",
    "    print(\"Upperfence= \"+str(Upperfence)) \n",
    "    print(\"IQR =\"+str(iqr))\n",
    "    \n",
    "\n",
    "# replace outliers with NA\n",
    "\n",
    "    dataset_train.loc[dataset_train[i]<Innerfence, i] = np.nan\n",
    "    dataset_train.loc[dataset_train[i]>Upperfence, i] = np.nan"
   ]
  },
  {
   "cell_type": "code",
   "execution_count": 17,
   "metadata": {},
   "outputs": [
    {
     "data": {
      "text/plain": [
       "season        0\n",
       "mnth          0\n",
       "holiday       0\n",
       "weekday       0\n",
       "workingday    0\n",
       "weathersit    0\n",
       "temp          0\n",
       "atemp         0\n",
       "hum           2\n",
       "windspeed     5\n",
       "cnt           0\n",
       "dtype: int64"
      ]
     },
     "execution_count": 17,
     "metadata": {},
     "output_type": "execute_result"
    }
   ],
   "source": [
    " dataset_train.isnull().sum()"
   ]
  },
  {
   "cell_type": "code",
   "execution_count": 20,
   "metadata": {},
   "outputs": [],
   "source": [
    "dataset_train['hum'] = dataset_train['hum'].fillna(dataset_train['hum'].median())\n",
    "dataset_train['windspeed'] = dataset_train['windspeed'].fillna(dataset_train['windspeed'].median())"
   ]
  },
  {
   "cell_type": "code",
   "execution_count": 21,
   "metadata": {},
   "outputs": [
    {
     "data": {
      "text/plain": [
       "season        0\n",
       "mnth          0\n",
       "holiday       0\n",
       "weekday       0\n",
       "workingday    0\n",
       "weathersit    0\n",
       "temp          0\n",
       "atemp         0\n",
       "hum           0\n",
       "windspeed     0\n",
       "cnt           0\n",
       "dtype: int64"
      ]
     },
     "execution_count": 21,
     "metadata": {},
     "output_type": "execute_result"
    }
   ],
   "source": [
    " dataset_train.isnull().sum()"
   ]
  },
  {
   "cell_type": "code",
   "execution_count": 22,
   "metadata": {},
   "outputs": [
    {
     "data": {
      "image/png": "[encoded data removed]",
      "text/plain": [
       "<Figure size 360x360 with 1 Axes>"
      ]
     },
     "metadata": {
      "needs_background": "light"
     },
     "output_type": "display_data"
    },
    {
     "data": {
      "image/png": "[encoded data removed]",
      "text/plain": [
       "<Figure size 360x360 with 1 Axes>"
      ]
     },
     "metadata": {
      "needs_background": "light"
     },
     "output_type": "display_data"
    },
    {
     "data": {
      "image/png": "[encoded data removed]",
      "text/plain": [
       "<Figure size 360x360 with 1 Axes>"
      ]
     },
     "metadata": {
      "needs_background": "light"
     },
     "output_type": "display_data"
    },
    {
     "data": {
      "image/png": "[encoded data removed]",
      "text/plain": [
       "<Figure size 360x360 with 1 Axes>"
      ]
     },
     "metadata": {
      "needs_background": "light"
     },
     "output_type": "display_data"
    },
    {
     "data": {
      "image/png": "[encoded data removed]",
      "text/plain": [
       "<Figure size 360x360 with 1 Axes>"
      ]
     },
     "metadata": {
      "needs_background": "light"
     },
     "output_type": "display_data"
    },
    {
     "data": {
      "image/png": "[encoded data removed]",
      "text/plain": [
       "<Figure size 360x360 with 1 Axes>"
      ]
     },
     "metadata": {
      "needs_background": "light"
     },
     "output_type": "display_data"
    }
   ],
   "source": [
    "for i in categorical_var:\n",
    "    sns.catplot(x = i, y = \"cnt\", data=dataset_train)"
   ]
  },
  {
   "cell_type": "code",
   "execution_count": 23,
   "metadata": {},
   "outputs": [
    {
     "name": "stdout",
     "output_type": "stream",
     "text": [
      "                sum_sq     df           F        PR(>F)\n",
      "season    2.031156e+08    1.0  150.830109  3.121329e-29\n",
      "Residual  4.888345e+08  363.0         NaN           NaN\n",
      "                sum_sq     df          F        PR(>F)\n",
      "mnth      1.367816e+08    1.0  89.435421  4.060115e-19\n",
      "Residual  5.551684e+08  363.0        NaN           NaN\n",
      "                sum_sq     df         F    PR(>F)\n",
      "holiday   1.674497e+06    1.0  0.880579  0.348667\n",
      "Residual  6.902756e+08  363.0       NaN       NaN\n",
      "                sum_sq     df         F    PR(>F)\n",
      "weekday   1.337360e+04    1.0  0.007016  0.933292\n",
      "Residual  6.919367e+08  363.0       NaN       NaN\n",
      "                  sum_sq     df         F    PR(>F)\n",
      "workingday  2.953899e+05    1.0  0.155029  0.694006\n",
      "Residual    6.916547e+08  363.0       NaN       NaN\n",
      "                  sum_sq     df          F        PR(>F)\n",
      "weathersit  7.009360e+07    1.0  40.916157  4.898884e-10\n",
      "Residual    6.218565e+08  363.0        NaN           NaN\n"
     ]
    }
   ],
   "source": [
    "import statsmodels.api as sm\n",
    "from statsmodels.formula.api import ols\n",
    "\n",
    "for i in categorical_var:\n",
    "    mod = ols('cnt' + '~' + i, data = dataset_train).fit()\n",
    "    anova_table = sm.stats.anova_lm(mod, typ = 2)\n",
    "    print(anova_table)"
   ]
  },
  {
   "cell_type": "code",
   "execution_count": 24,
   "metadata": {},
   "outputs": [],
   "source": [
    "numeric_var = ['temp', 'atemp', 'hum', 'windspeed', 'cnt']\n",
    "\n",
    "categorical_var = ['season', 'mnth', 'holiday', 'weekday', 'workingday', 'weathersit']"
   ]
  },
  {
   "cell_type": "code",
   "execution_count": 25,
   "metadata": {},
   "outputs": [
    {
     "data": {
      "text/html": [
       "<div>\n",
       "<style scoped>\n",
       "    .dataframe tbody tr th:only-of-type {\n",
       "        vertical-align: middle;\n",
       "    }\n",
       "\n",
       "    .dataframe tbody tr th {\n",
       "        vertical-align: top;\n",
       "    }\n",
       "\n",
       "    .dataframe thead th {\n",
       "        text-align: right;\n",
       "    }\n",
       "</style>\n",
       "<table border=\"1\" class=\"dataframe\">\n",
       "  <thead>\n",
       "    <tr style=\"text-align: right;\">\n",
       "      <th></th>\n",
       "      <th>season</th>\n",
       "      <th>mnth</th>\n",
       "      <th>holiday</th>\n",
       "      <th>weekday</th>\n",
       "      <th>workingday</th>\n",
       "      <th>weathersit</th>\n",
       "      <th>temp</th>\n",
       "      <th>atemp</th>\n",
       "      <th>hum</th>\n",
       "      <th>windspeed</th>\n",
       "      <th>cnt</th>\n",
       "    </tr>\n",
       "  </thead>\n",
       "  <tbody>\n",
       "    <tr>\n",
       "      <th>count</th>\n",
       "      <td>365.000000</td>\n",
       "      <td>365.000000</td>\n",
       "      <td>365.000000</td>\n",
       "      <td>365.000000</td>\n",
       "      <td>365.000000</td>\n",
       "      <td>365.000000</td>\n",
       "      <td>365.000000</td>\n",
       "      <td>365.000000</td>\n",
       "      <td>365.000000</td>\n",
       "      <td>365.000000</td>\n",
       "      <td>365.000000</td>\n",
       "    </tr>\n",
       "    <tr>\n",
       "      <th>mean</th>\n",
       "      <td>2.498630</td>\n",
       "      <td>6.526027</td>\n",
       "      <td>0.027397</td>\n",
       "      <td>3.008219</td>\n",
       "      <td>0.684932</td>\n",
       "      <td>1.421918</td>\n",
       "      <td>0.486665</td>\n",
       "      <td>0.466835</td>\n",
       "      <td>0.646700</td>\n",
       "      <td>0.188134</td>\n",
       "      <td>3405.761644</td>\n",
       "    </tr>\n",
       "    <tr>\n",
       "      <th>std</th>\n",
       "      <td>1.110946</td>\n",
       "      <td>3.452584</td>\n",
       "      <td>0.163462</td>\n",
       "      <td>2.006155</td>\n",
       "      <td>0.465181</td>\n",
       "      <td>0.571831</td>\n",
       "      <td>0.189596</td>\n",
       "      <td>0.168836</td>\n",
       "      <td>0.142852</td>\n",
       "      <td>0.071625</td>\n",
       "      <td>1378.753666</td>\n",
       "    </tr>\n",
       "    <tr>\n",
       "      <th>min</th>\n",
       "      <td>1.000000</td>\n",
       "      <td>1.000000</td>\n",
       "      <td>0.000000</td>\n",
       "      <td>0.000000</td>\n",
       "      <td>0.000000</td>\n",
       "      <td>1.000000</td>\n",
       "      <td>0.059130</td>\n",
       "      <td>0.079070</td>\n",
       "      <td>0.302174</td>\n",
       "      <td>0.022392</td>\n",
       "      <td>431.000000</td>\n",
       "    </tr>\n",
       "    <tr>\n",
       "      <th>25%</th>\n",
       "      <td>2.000000</td>\n",
       "      <td>4.000000</td>\n",
       "      <td>0.000000</td>\n",
       "      <td>1.000000</td>\n",
       "      <td>0.000000</td>\n",
       "      <td>1.000000</td>\n",
       "      <td>0.325000</td>\n",
       "      <td>0.321954</td>\n",
       "      <td>0.540833</td>\n",
       "      <td>0.135583</td>\n",
       "      <td>2132.000000</td>\n",
       "    </tr>\n",
       "    <tr>\n",
       "      <th>50%</th>\n",
       "      <td>3.000000</td>\n",
       "      <td>7.000000</td>\n",
       "      <td>0.000000</td>\n",
       "      <td>3.000000</td>\n",
       "      <td>1.000000</td>\n",
       "      <td>1.000000</td>\n",
       "      <td>0.479167</td>\n",
       "      <td>0.472846</td>\n",
       "      <td>0.647917</td>\n",
       "      <td>0.185642</td>\n",
       "      <td>3740.000000</td>\n",
       "    </tr>\n",
       "    <tr>\n",
       "      <th>75%</th>\n",
       "      <td>3.000000</td>\n",
       "      <td>10.000000</td>\n",
       "      <td>0.000000</td>\n",
       "      <td>5.000000</td>\n",
       "      <td>1.000000</td>\n",
       "      <td>2.000000</td>\n",
       "      <td>0.656667</td>\n",
       "      <td>0.612379</td>\n",
       "      <td>0.742083</td>\n",
       "      <td>0.232970</td>\n",
       "      <td>4586.000000</td>\n",
       "    </tr>\n",
       "    <tr>\n",
       "      <th>max</th>\n",
       "      <td>4.000000</td>\n",
       "      <td>12.000000</td>\n",
       "      <td>1.000000</td>\n",
       "      <td>6.000000</td>\n",
       "      <td>1.000000</td>\n",
       "      <td>3.000000</td>\n",
       "      <td>0.849167</td>\n",
       "      <td>0.840896</td>\n",
       "      <td>0.972500</td>\n",
       "      <td>0.375617</td>\n",
       "      <td>6043.000000</td>\n",
       "    </tr>\n",
       "  </tbody>\n",
       "</table>\n",
       "</div>"
      ],
      "text/plain": [
       "           season        mnth     holiday     weekday  workingday  weathersit  \\\n",
       "count  365.000000  365.000000  365.000000  365.000000  365.000000  365.000000   \n",
       "mean     2.498630    6.526027    0.027397    3.008219    0.684932    1.421918   \n",
       "std      1.110946    3.452584    0.163462    2.006155    0.465181    0.571831   \n",
       "min      1.000000    1.000000    0.000000    0.000000    0.000000    1.000000   \n",
       "25%      2.000000    4.000000    0.000000    1.000000    0.000000    1.000000   \n",
       "50%      3.000000    7.000000    0.000000    3.000000    1.000000    1.000000   \n",
       "75%      3.000000   10.000000    0.000000    5.000000    1.000000    2.000000   \n",
       "max      4.000000   12.000000    1.000000    6.000000    1.000000    3.000000   \n",
       "\n",
       "             temp       atemp         hum   windspeed          cnt  \n",
       "count  365.000000  365.000000  365.000000  365.000000   365.000000  \n",
       "mean     0.486665    0.466835    0.646700    0.188134  3405.761644  \n",
       "std      0.189596    0.168836    0.142852    0.071625  1378.753666  \n",
       "min      0.059130    0.079070    0.302174    0.022392   431.000000  \n",
       "25%      0.325000    0.321954    0.540833    0.135583  2132.000000  \n",
       "50%      0.479167    0.472846    0.647917    0.185642  3740.000000  \n",
       "75%      0.656667    0.612379    0.742083    0.232970  4586.000000  \n",
       "max      0.849167    0.840896    0.972500    0.375617  6043.000000  "
      ]
     },
     "execution_count": 25,
     "metadata": {},
     "output_type": "execute_result"
    }
   ],
   "source": [
    "dataset_train.describe()"
   ]
  },
  {
   "cell_type": "code",
   "execution_count": null,
   "metadata": {},
   "outputs": [],
   "source": []
  },
  {
   "cell_type": "code",
   "execution_count": 26,
   "metadata": {},
   "outputs": [],
   "source": [
    "X = dataset_train.iloc[:, :-1].values\n",
    "y = dataset_train.iloc[:, -1].values"
   ]
  },
  {
   "cell_type": "code",
   "execution_count": 27,
   "metadata": {},
   "outputs": [],
   "source": [
    "from sklearn.model_selection import train_test_split\n",
    "X_train, X_test, y_train, y_test = train_test_split(X, y, test_size = 0.2, random_state = 0)"
   ]
  },
  {
   "cell_type": "code",
   "execution_count": 28,
   "metadata": {},
   "outputs": [
    {
     "data": {
      "text/plain": [
       "array([[ 1.      ,  1.      ,  0.      , ...,  0.363625,  0.805833,\n",
       "         0.160446],\n",
       "       [ 1.      ,  1.      ,  0.      , ...,  0.353739,  0.696087,\n",
       "         0.248539],\n",
       "       [ 1.      ,  1.      ,  0.      , ...,  0.189405,  0.437273,\n",
       "         0.248309],\n",
       "       ...,\n",
       "       [ 1.      , 12.      ,  0.      , ...,  0.263892,  0.574167,\n",
       "         0.119412],\n",
       "       [ 1.      , 12.      ,  0.      , ...,  0.318812,  0.636667,\n",
       "         0.134337],\n",
       "       [ 1.      , 12.      ,  0.      , ...,  0.414121,  0.615833,\n",
       "         0.220154]])"
      ]
     },
     "execution_count": 28,
     "metadata": {},
     "output_type": "execute_result"
    }
   ],
   "source": [
    "X"
   ]
  },
  {
   "cell_type": "code",
   "execution_count": 29,
   "metadata": {},
   "outputs": [
    {
     "data": {
      "text/plain": [
       "292"
      ]
     },
     "execution_count": 29,
     "metadata": {},
     "output_type": "execute_result"
    }
   ],
   "source": [
    "len(y_train)"
   ]
  },
  {
   "cell_type": "code",
   "execution_count": 30,
   "metadata": {},
   "outputs": [
    {
     "data": {
      "text/plain": [
       "73"
      ]
     },
     "execution_count": 30,
     "metadata": {},
     "output_type": "execute_result"
    }
   ],
   "source": [
    "len(X_test)"
   ]
  },
  {
   "cell_type": "code",
   "execution_count": 31,
   "metadata": {},
   "outputs": [
    {
     "data": {
      "text/plain": [
       "73"
      ]
     },
     "execution_count": 31,
     "metadata": {},
     "output_type": "execute_result"
    }
   ],
   "source": [
    "len(y_test)"
   ]
  },
  {
   "cell_type": "code",
   "execution_count": null,
   "metadata": {},
   "outputs": [],
   "source": []
  },
  {
   "cell_type": "code",
   "execution_count": 32,
   "metadata": {},
   "outputs": [
    {
     "data": {
      "text/plain": [
       "RandomForestRegressor(random_state=0)"
      ]
     },
     "execution_count": 32,
     "metadata": {},
     "output_type": "execute_result"
    }
   ],
   "source": [
    "from sklearn.ensemble import RandomForestRegressor\n",
    "regressor = RandomForestRegressor(n_estimators = 100, random_state = 0)\n",
    "regressor.fit(X,y)"
   ]
  },
  {
   "cell_type": "code",
   "execution_count": 33,
   "metadata": {},
   "outputs": [],
   "source": [
    "y_pred = regressor.predict(X_test)\n",
    "np.set_printoptions(precision=2)"
   ]
  },
  {
   "cell_type": "code",
   "execution_count": 34,
   "metadata": {},
   "outputs": [
    {
     "data": {
      "text/plain": [
       "array([3608.61, 4310.74, 1824.7 ,  647.16, 2289.99, 3506.25, 2124.28,\n",
       "       4120.66, 4459.33, 1517.55, 3334.09, 4580.28, 4148.71, 3829.38,\n",
       "       3033.29, 4444.01, 4235.64, 2585.07, 4753.29, 5410.22, 4196.17,\n",
       "       4455.28, 1914.92, 4111.14, 3446.9 , 4722.99, 1224.5 , 2957.56,\n",
       "       3974.58, 4175.22, 4188.77, 2220.89, 1228.89, 1758.06, 1768.78,\n",
       "       1537.87, 2116.46, 3983.08, 4186.43,  879.76, 4564.69, 3673.26,\n",
       "       4400.83, 4340.5 , 1443.13, 3917.02, 4687.97, 3914.73, 4708.04,\n",
       "       1801.14, 4590.81, 4468.72, 4999.89, 4932.4 , 2902.66, 1504.55,\n",
       "       1500.43, 4177.26, 1362.76, 3342.51, 2766.52, 4027.51,  992.74,\n",
       "       3568.08, 2263.62, 3611.45, 1842.27, 4191.69, 4389.06, 3990.18,\n",
       "       2116.92, 4199.67, 4013.13])"
      ]
     },
     "execution_count": 34,
     "metadata": {},
     "output_type": "execute_result"
    }
   ],
   "source": [
    "y_pred"
   ]
  },
  {
   "cell_type": "code",
   "execution_count": 35,
   "metadata": {},
   "outputs": [
    {
     "data": {
      "text/html": [
       "<div>\n",
       "<style scoped>\n",
       "    .dataframe tbody tr th:only-of-type {\n",
       "        vertical-align: middle;\n",
       "    }\n",
       "\n",
       "    .dataframe tbody tr th {\n",
       "        vertical-align: top;\n",
       "    }\n",
       "\n",
       "    .dataframe thead th {\n",
       "        text-align: right;\n",
       "    }\n",
       "</style>\n",
       "<table border=\"1\" class=\"dataframe\">\n",
       "  <thead>\n",
       "    <tr style=\"text-align: right;\">\n",
       "      <th></th>\n",
       "      <th>id</th>\n",
       "      <th>season</th>\n",
       "      <th>mnth</th>\n",
       "      <th>holiday</th>\n",
       "      <th>weekday</th>\n",
       "      <th>workingday</th>\n",
       "      <th>weathersit</th>\n",
       "      <th>temp</th>\n",
       "      <th>atemp</th>\n",
       "      <th>hum</th>\n",
       "      <th>windspeed</th>\n",
       "    </tr>\n",
       "  </thead>\n",
       "  <tbody>\n",
       "    <tr>\n",
       "      <th>0</th>\n",
       "      <td>366</td>\n",
       "      <td>1</td>\n",
       "      <td>1</td>\n",
       "      <td>0</td>\n",
       "      <td>0</td>\n",
       "      <td>0</td>\n",
       "      <td>1</td>\n",
       "      <td>0.370000</td>\n",
       "      <td>0.375621</td>\n",
       "      <td>0.692500</td>\n",
       "      <td>0.192167</td>\n",
       "    </tr>\n",
       "    <tr>\n",
       "      <th>1</th>\n",
       "      <td>367</td>\n",
       "      <td>1</td>\n",
       "      <td>1</td>\n",
       "      <td>1</td>\n",
       "      <td>1</td>\n",
       "      <td>0</td>\n",
       "      <td>1</td>\n",
       "      <td>0.273043</td>\n",
       "      <td>0.252304</td>\n",
       "      <td>0.381304</td>\n",
       "      <td>0.329665</td>\n",
       "    </tr>\n",
       "    <tr>\n",
       "      <th>2</th>\n",
       "      <td>368</td>\n",
       "      <td>1</td>\n",
       "      <td>1</td>\n",
       "      <td>0</td>\n",
       "      <td>2</td>\n",
       "      <td>1</td>\n",
       "      <td>1</td>\n",
       "      <td>0.150000</td>\n",
       "      <td>0.126275</td>\n",
       "      <td>0.441250</td>\n",
       "      <td>0.365671</td>\n",
       "    </tr>\n",
       "    <tr>\n",
       "      <th>3</th>\n",
       "      <td>369</td>\n",
       "      <td>1</td>\n",
       "      <td>1</td>\n",
       "      <td>0</td>\n",
       "      <td>3</td>\n",
       "      <td>1</td>\n",
       "      <td>2</td>\n",
       "      <td>0.107500</td>\n",
       "      <td>0.119337</td>\n",
       "      <td>0.414583</td>\n",
       "      <td>0.184700</td>\n",
       "    </tr>\n",
       "    <tr>\n",
       "      <th>4</th>\n",
       "      <td>370</td>\n",
       "      <td>1</td>\n",
       "      <td>1</td>\n",
       "      <td>0</td>\n",
       "      <td>4</td>\n",
       "      <td>1</td>\n",
       "      <td>1</td>\n",
       "      <td>0.265833</td>\n",
       "      <td>0.278412</td>\n",
       "      <td>0.524167</td>\n",
       "      <td>0.129987</td>\n",
       "    </tr>\n",
       "  </tbody>\n",
       "</table>\n",
       "</div>"
      ],
      "text/plain": [
       "    id  season  mnth  holiday  weekday  workingday  weathersit      temp  \\\n",
       "0  366       1     1        0        0           0           1  0.370000   \n",
       "1  367       1     1        1        1           0           1  0.273043   \n",
       "2  368       1     1        0        2           1           1  0.150000   \n",
       "3  369       1     1        0        3           1           2  0.107500   \n",
       "4  370       1     1        0        4           1           1  0.265833   \n",
       "\n",
       "      atemp       hum  windspeed  \n",
       "0  0.375621  0.692500   0.192167  \n",
       "1  0.252304  0.381304   0.329665  \n",
       "2  0.126275  0.441250   0.365671  \n",
       "3  0.119337  0.414583   0.184700  \n",
       "4  0.278412  0.524167   0.129987  "
      ]
     },
     "execution_count": 35,
     "metadata": {},
     "output_type": "execute_result"
    }
   ],
   "source": [
    "dataset_test=pd.read_csv(\"C:\\\\Users\\\\jonathan.sh\\\\OneDrive - Webpals\\\\DS Course\\\\Task DS\\\\test.csv\")\n",
    "dataset_test.head()"
   ]
  },
  {
   "cell_type": "code",
   "execution_count": 36,
   "metadata": {},
   "outputs": [],
   "source": [
    "X2 = dataset_test.iloc[:, 1:].values"
   ]
  },
  {
   "cell_type": "code",
   "execution_count": 37,
   "metadata": {},
   "outputs": [
    {
     "data": {
      "text/plain": [
       "366"
      ]
     },
     "execution_count": 37,
     "metadata": {},
     "output_type": "execute_result"
    }
   ],
   "source": [
    "len(X2)"
   ]
  },
  {
   "cell_type": "code",
   "execution_count": 38,
   "metadata": {},
   "outputs": [],
   "source": [
    "y2_pred = regressor.predict(X2)\n",
    "np.set_printoptions(precision=2)"
   ]
  },
  {
   "cell_type": "code",
   "execution_count": 39,
   "metadata": {},
   "outputs": [
    {
     "data": {
      "text/plain": [
       "array([1283.68, 1240.03, 1362.56, 1409.72, 1843.07, 1807.  , 1473.91,\n",
       "       1459.27, 1199.27, 1755.85, 1204.59, 1342.12, 1727.38, 1062.98,\n",
       "        979.54, 1056.64, 1296.13, 1749.35, 1427.57, 1603.  ,  842.61,\n",
       "        810.15,  921.22, 1221.35, 1730.48, 1387.45, 1749.29, 1407.42,\n",
       "       1348.15, 1793.17, 1825.09, 3335.2 , 1829.41, 1826.85, 1625.71,\n",
       "       1465.85, 1754.76, 1998.77, 1701.35, 1809.94, 1860.51, 1168.69,\n",
       "       1354.1 , 1686.35, 1923.77, 1988.  , 1848.19, 1913.14, 1910.3 ,\n",
       "       1654.28, 1644.79, 1756.49, 1938.14, 2794.9 , 2137.16, 1716.09,\n",
       "       1785.25, 1950.75, 1976.65, 1730.32, 3362.62, 2066.18, 2424.47,\n",
       "       1915.69, 1819.37, 1918.12, 2016.15, 2965.85, 1904.56, 2071.51,\n",
       "       2308.18, 3417.14, 3550.27, 3428.81, 3397.35, 2754.77, 3566.39,\n",
       "       3391.65, 3295.34, 3400.21, 3543.21, 3570.12, 3916.38, 3412.4 ,\n",
       "       2573.85, 2872.2 , 2236.48, 3480.61, 3506.17, 2215.53, 2481.53,\n",
       "       2672.43, 3069.45, 3605.01, 3635.63, 3105.44, 2693.2 , 3204.8 ,\n",
       "       3661.35, 3411.32, 3227.96, 2448.86, 2637.48, 3204.07, 4248.65,\n",
       "       4132.88, 4157.13, 4128.88, 3562.77, 3534.79, 3781.47, 4178.37,\n",
       "       1423.58, 1801.7 , 2786.74, 3643.96, 3120.06, 3696.47, 2539.11,\n",
       "       3640.02, 3494.82, 4377.6 , 4466.81, 4310.83, 4769.61, 4507.87,\n",
       "       4375.98, 4250.59, 4190.24, 4063.58, 4534.43, 4974.05, 5145.  ,\n",
       "       4713.54, 4032.34, 4236.3 , 4691.44, 4871.24, 5026.5 , 5309.07,\n",
       "       4836.83, 4146.57, 4367.18, 4447.68, 4785.76, 4763.24, 4791.05,\n",
       "       4548.15, 4485.22, 4436.99, 4434.7 , 5044.91, 4281.58, 5215.51,\n",
       "       5047.08, 4919.58, 4431.15, 4857.38, 4875.6 , 5272.6 , 5207.95,\n",
       "       4857.66, 4537.77, 4050.25, 4665.09, 4918.55, 5104.92, 5294.03,\n",
       "       4766.36, 4257.07, 4672.89, 4333.45, 4145.87, 4400.47, 5178.74,\n",
       "       4910.52, 4862.78, 4908.56, 5126.02, 4860.67, 3776.73, 4886.85,\n",
       "       4176.98, 4610.2 , 4665.52, 4375.02, 4012.83, 3984.86, 3643.44,\n",
       "       3759.61, 4470.54, 4472.21, 4714.79, 5009.59, 5167.27, 4600.68,\n",
       "       4427.26, 4277.31, 4033.07, 4382.33, 4411.41, 3960.58, 3054.93,\n",
       "       4773.58, 4393.6 , 4439.69, 5135.59, 4339.01, 4417.05, 4860.66,\n",
       "       4791.14, 4419.47, 4569.67, 4578.65, 4312.65, 4069.9 , 4394.81,\n",
       "       4182.11, 4037.04, 4214.44, 4261.97, 4552.67, 4187.51, 4273.61,\n",
       "       4894.56, 4774.11, 4440.65, 4797.02, 5001.76, 3656.26, 5386.2 ,\n",
       "       4892.75, 4356.11, 4922.75, 4937.6 , 4903.72, 5104.56, 4230.45,\n",
       "       3973.94, 4534.48, 4737.96, 4983.74, 5055.38, 4651.94, 4520.88,\n",
       "       4910.43, 4416.42, 4242.37, 4383.72, 4285.61, 4745.97, 3880.3 ,\n",
       "       4808.37, 4910.03, 5024.63, 4876.69, 4923.67, 4960.4 , 5269.21,\n",
       "       4861.26, 4347.15, 3262.13, 4806.75, 4724.56, 4905.24, 5029.51,\n",
       "       4957.2 , 4929.71, 4690.97, 4833.63, 4408.69, 4367.58, 5089.83,\n",
       "       4663.05, 4649.22, 3188.94, 4773.57, 4441.58, 5057.08, 4809.34,\n",
       "       3674.36, 2464.85, 3423.63, 4485.17, 3979.9 , 4004.41, 3803.99,\n",
       "       4457.43, 3972.42, 4498.  , 3831.09, 3814.8 , 4144.14, 5021.55,\n",
       "       4010.42, 4696.49, 4696.5 , 4900.76, 4250.98, 4183.65, 4115.3 ,\n",
       "       3127.79, 2034.73, 3100.05, 3556.69, 3410.62, 3648.91, 3612.51,\n",
       "       3603.09, 3521.98, 3428.74, 3163.55, 3311.41, 3741.34, 3857.89,\n",
       "       3945.48, 4064.14, 3043.93, 3539.25, 3639.21, 3693.97, 3799.77,\n",
       "       3536.84, 3345.64, 3365.4 , 3744.4 , 2748.68, 3300.11, 2964.1 ,\n",
       "       3008.16, 3623.67, 3016.69, 3582.27, 3592.35, 3619.71, 3228.54,\n",
       "       3175.87, 3723.01, 4195.74, 3339.24, 3141.52, 3471.38, 2601.51,\n",
       "       2633.18, 2761.43, 3281.27, 3511.69, 3581.25, 3536.41, 3715.18,\n",
       "       3100.31, 2948.76, 3847.82, 3719.16, 3682.63, 1837.88, 1886.24,\n",
       "       1752.41, 1763.05, 1393.66, 1265.  , 1821.62, 2004.67, 1805.81,\n",
       "       1705.68, 1705.92])"
      ]
     },
     "execution_count": 39,
     "metadata": {},
     "output_type": "execute_result"
    }
   ],
   "source": [
    "y2_pred"
   ]
  },
  {
   "cell_type": "code",
   "execution_count": 40,
   "metadata": {},
   "outputs": [
    {
     "data": {
      "text/html": [
       "<div>\n",
       "<style scoped>\n",
       "    .dataframe tbody tr th:only-of-type {\n",
       "        vertical-align: middle;\n",
       "    }\n",
       "\n",
       "    .dataframe tbody tr th {\n",
       "        vertical-align: top;\n",
       "    }\n",
       "\n",
       "    .dataframe thead th {\n",
       "        text-align: right;\n",
       "    }\n",
       "</style>\n",
       "<table border=\"1\" class=\"dataframe\">\n",
       "  <thead>\n",
       "    <tr style=\"text-align: right;\">\n",
       "      <th></th>\n",
       "      <th>id</th>\n",
       "      <th>cnt</th>\n",
       "    </tr>\n",
       "  </thead>\n",
       "  <tbody>\n",
       "    <tr>\n",
       "      <th>0</th>\n",
       "      <td>366</td>\n",
       "      <td>2324.704634</td>\n",
       "    </tr>\n",
       "    <tr>\n",
       "      <th>1</th>\n",
       "      <td>367</td>\n",
       "      <td>1825.998871</td>\n",
       "    </tr>\n",
       "    <tr>\n",
       "      <th>2</th>\n",
       "      <td>368</td>\n",
       "      <td>1246.661929</td>\n",
       "    </tr>\n",
       "    <tr>\n",
       "      <th>3</th>\n",
       "      <td>369</td>\n",
       "      <td>1067.359745</td>\n",
       "    </tr>\n",
       "    <tr>\n",
       "      <th>4</th>\n",
       "      <td>370</td>\n",
       "      <td>2349.727614</td>\n",
       "    </tr>\n",
       "  </tbody>\n",
       "</table>\n",
       "</div>"
      ],
      "text/plain": [
       "    id          cnt\n",
       "0  366  2324.704634\n",
       "1  367  1825.998871\n",
       "2  368  1246.661929\n",
       "3  369  1067.359745\n",
       "4  370  2349.727614"
      ]
     },
     "execution_count": 40,
     "metadata": {},
     "output_type": "execute_result"
    }
   ],
   "source": [
    "submission=pd.read_csv(\"C:\\\\Users\\\\jonathan.sh\\\\OneDrive - Webpals\\\\DS Course\\\\Task DS\\\\sample_submission.csv\")\n",
    "submission.head()"
   ]
  },
  {
   "cell_type": "code",
   "execution_count": 41,
   "metadata": {},
   "outputs": [],
   "source": [
    "df=pd.DataFrame(submission)\n"
   ]
  },
  {
   "cell_type": "code",
   "execution_count": 42,
   "metadata": {},
   "outputs": [],
   "source": [
    "df['cnt']=y2_pred"
   ]
  },
  {
   "cell_type": "code",
   "execution_count": 43,
   "metadata": {},
   "outputs": [
    {
     "data": {
      "text/html": [
       "<div>\n",
       "<style scoped>\n",
       "    .dataframe tbody tr th:only-of-type {\n",
       "        vertical-align: middle;\n",
       "    }\n",
       "\n",
       "    .dataframe tbody tr th {\n",
       "        vertical-align: top;\n",
       "    }\n",
       "\n",
       "    .dataframe thead th {\n",
       "        text-align: right;\n",
       "    }\n",
       "</style>\n",
       "<table border=\"1\" class=\"dataframe\">\n",
       "  <thead>\n",
       "    <tr style=\"text-align: right;\">\n",
       "      <th></th>\n",
       "      <th>id</th>\n",
       "      <th>cnt</th>\n",
       "    </tr>\n",
       "  </thead>\n",
       "  <tbody>\n",
       "    <tr>\n",
       "      <th>0</th>\n",
       "      <td>366</td>\n",
       "      <td>1283.68</td>\n",
       "    </tr>\n",
       "    <tr>\n",
       "      <th>1</th>\n",
       "      <td>367</td>\n",
       "      <td>1240.03</td>\n",
       "    </tr>\n",
       "    <tr>\n",
       "      <th>2</th>\n",
       "      <td>368</td>\n",
       "      <td>1362.56</td>\n",
       "    </tr>\n",
       "    <tr>\n",
       "      <th>3</th>\n",
       "      <td>369</td>\n",
       "      <td>1409.72</td>\n",
       "    </tr>\n",
       "    <tr>\n",
       "      <th>4</th>\n",
       "      <td>370</td>\n",
       "      <td>1843.07</td>\n",
       "    </tr>\n",
       "    <tr>\n",
       "      <th>...</th>\n",
       "      <td>...</td>\n",
       "      <td>...</td>\n",
       "    </tr>\n",
       "    <tr>\n",
       "      <th>361</th>\n",
       "      <td>727</td>\n",
       "      <td>1821.62</td>\n",
       "    </tr>\n",
       "    <tr>\n",
       "      <th>362</th>\n",
       "      <td>728</td>\n",
       "      <td>2004.67</td>\n",
       "    </tr>\n",
       "    <tr>\n",
       "      <th>363</th>\n",
       "      <td>729</td>\n",
       "      <td>1805.81</td>\n",
       "    </tr>\n",
       "    <tr>\n",
       "      <th>364</th>\n",
       "      <td>730</td>\n",
       "      <td>1705.68</td>\n",
       "    </tr>\n",
       "    <tr>\n",
       "      <th>365</th>\n",
       "      <td>731</td>\n",
       "      <td>1705.92</td>\n",
       "    </tr>\n",
       "  </tbody>\n",
       "</table>\n",
       "<p>366 rows × 2 columns</p>\n",
       "</div>"
      ],
      "text/plain": [
       "      id      cnt\n",
       "0    366  1283.68\n",
       "1    367  1240.03\n",
       "2    368  1362.56\n",
       "3    369  1409.72\n",
       "4    370  1843.07\n",
       "..   ...      ...\n",
       "361  727  1821.62\n",
       "362  728  2004.67\n",
       "363  729  1805.81\n",
       "364  730  1705.68\n",
       "365  731  1705.92\n",
       "\n",
       "[366 rows x 2 columns]"
      ]
     },
     "execution_count": 43,
     "metadata": {},
     "output_type": "execute_result"
    }
   ],
   "source": [
    "df"
   ]
  },
  {
   "cell_type": "code",
   "execution_count": 45,
   "metadata": {},
   "outputs": [
    {
     "name": "stdout",
     "output_type": "stream",
     "text": [
      "  id      cnt\n",
      " 366  1283.68\n",
      " 367  1240.03\n",
      " 368  1362.56\n",
      " 369  1409.72\n",
      " 370  1843.07\n",
      " 371  1807.00\n",
      " 372  1473.91\n",
      " 373  1459.27\n",
      " 374  1199.27\n",
      " 375  1755.85\n",
      " 376  1204.59\n",
      " 377  1342.12\n",
      " 378  1727.38\n",
      " 379  1062.98\n",
      " 380   979.54\n",
      " 381  1056.64\n",
      " 382  1296.13\n",
      " 383  1749.35\n",
      " 384  1427.57\n",
      " 385  1603.00\n",
      " 386   842.61\n",
      " 387   810.15\n",
      " 388   921.22\n",
      " 389  1221.35\n",
      " 390  1730.48\n",
      " 391  1387.45\n",
      " 392  1749.29\n",
      " 393  1407.42\n",
      " 394  1348.15\n",
      " 395  1793.17\n",
      " 396  1825.09\n",
      " 397  3335.20\n",
      " 398  1829.41\n",
      " 399  1826.85\n",
      " 400  1625.71\n",
      " 401  1465.85\n",
      " 402  1754.76\n",
      " 403  1998.77\n",
      " 404  1701.35\n",
      " 405  1809.94\n",
      " 406  1860.51\n",
      " 407  1168.69\n",
      " 408  1354.10\n",
      " 409  1686.35\n",
      " 410  1923.77\n",
      " 411  1988.00\n",
      " 412  1848.19\n",
      " 413  1913.14\n",
      " 414  1910.30\n",
      " 415  1654.28\n",
      " 416  1644.79\n",
      " 417  1756.49\n",
      " 418  1938.14\n",
      " 419  2794.90\n",
      " 420  2137.16\n",
      " 421  1716.09\n",
      " 422  1785.25\n",
      " 423  1950.75\n",
      " 424  1976.65\n",
      " 425  1730.32\n",
      " 426  3362.62\n",
      " 427  2066.18\n",
      " 428  2424.47\n",
      " 429  1915.69\n",
      " 430  1819.37\n",
      " 431  1918.12\n",
      " 432  2016.15\n",
      " 433  2965.85\n",
      " 434  1904.56\n",
      " 435  2071.51\n",
      " 436  2308.18\n",
      " 437  3417.14\n",
      " 438  3550.27\n",
      " 439  3428.81\n",
      " 440  3397.35\n",
      " 441  2754.77\n",
      " 442  3566.39\n",
      " 443  3391.65\n",
      " 444  3295.34\n",
      " 445  3400.21\n",
      " 446  3543.21\n",
      " 447  3570.12\n",
      " 448  3916.38\n",
      " 449  3412.40\n",
      " 450  2573.85\n",
      " 451  2872.20\n",
      " 452  2236.48\n",
      " 453  3480.61\n",
      " 454  3506.17\n",
      " 455  2215.53\n",
      " 456  2481.53\n",
      " 457  2672.43\n",
      " 458  3069.45\n",
      " 459  3605.01\n",
      " 460  3635.63\n",
      " 461  3105.44\n",
      " 462  2693.20\n",
      " 463  3204.80\n",
      " 464  3661.35\n",
      " 465  3411.32\n",
      " 466  3227.96\n",
      " 467  2448.86\n",
      " 468  2637.48\n",
      " 469  3204.07\n",
      " 470  4248.65\n",
      " 471  4132.88\n",
      " 472  4157.13\n",
      " 473  4128.88\n",
      " 474  3562.77\n",
      " 475  3534.79\n",
      " 476  3781.47\n",
      " 477  4178.37\n",
      " 478  1423.58\n",
      " 479  1801.70\n",
      " 480  2786.74\n",
      " 481  3643.96\n",
      " 482  3120.06\n",
      " 483  3696.47\n",
      " 484  2539.11\n",
      " 485  3640.02\n",
      " 486  3494.82\n",
      " 487  4377.60\n",
      " 488  4466.81\n",
      " 489  4310.83\n",
      " 490  4769.61\n",
      " 491  4507.87\n",
      " 492  4375.98\n",
      " 493  4250.59\n",
      " 494  4190.24\n",
      " 495  4063.58\n",
      " 496  4534.43\n",
      " 497  4974.05\n",
      " 498  5145.00\n",
      " 499  4713.54\n",
      " 500  4032.34\n",
      " 501  4236.30\n",
      " 502  4691.44\n",
      " 503  4871.24\n",
      " 504  5026.50\n",
      " 505  5309.07\n",
      " 506  4836.83\n",
      " 507  4146.57\n",
      " 508  4367.18\n",
      " 509  4447.68\n",
      " 510  4785.76\n",
      " 511  4763.24\n",
      " 512  4791.05\n",
      " 513  4548.15\n",
      " 514  4485.22\n",
      " 515  4436.99\n",
      " 516  4434.70\n",
      " 517  5044.91\n",
      " 518  4281.58\n",
      " 519  5215.51\n",
      " 520  5047.08\n",
      " 521  4919.58\n",
      " 522  4431.15\n",
      " 523  4857.38\n",
      " 524  4875.60\n",
      " 525  5272.60\n",
      " 526  5207.95\n",
      " 527  4857.66\n",
      " 528  4537.77\n",
      " 529  4050.25\n",
      " 530  4665.09\n",
      " 531  4918.55\n",
      " 532  5104.92\n",
      " 533  5294.03\n",
      " 534  4766.36\n",
      " 535  4257.07\n",
      " 536  4672.89\n",
      " 537  4333.45\n",
      " 538  4145.87\n",
      " 539  4400.47\n",
      " 540  5178.74\n",
      " 541  4910.52\n",
      " 542  4862.78\n",
      " 543  4908.56\n",
      " 544  5126.02\n",
      " 545  4860.67\n",
      " 546  3776.73\n",
      " 547  4886.85\n",
      " 548  4176.98\n",
      " 549  4610.20\n",
      " 550  4665.52\n",
      " 551  4375.02\n",
      " 552  4012.83\n",
      " 553  3984.86\n",
      " 554  3643.44\n",
      " 555  3759.61\n",
      " 556  4470.54\n",
      " 557  4472.21\n",
      " 558  4714.79\n",
      " 559  5009.59\n",
      " 560  5167.27\n",
      " 561  4600.68\n",
      " 562  4427.26\n",
      " 563  4277.31\n",
      " 564  4033.07\n",
      " 565  4382.33\n",
      " 566  4411.41\n",
      " 567  3960.58\n",
      " 568  3054.93\n",
      " 569  4773.58\n",
      " 570  4393.60\n",
      " 571  4439.69\n",
      " 572  5135.59\n",
      " 573  4339.01\n",
      " 574  4417.05\n",
      " 575  4860.66\n",
      " 576  4791.14\n",
      " 577  4419.47\n",
      " 578  4569.67\n",
      " 579  4578.65\n",
      " 580  4312.65\n",
      " 581  4069.90\n",
      " 582  4394.81\n",
      " 583  4182.11\n",
      " 584  4037.04\n",
      " 585  4214.44\n",
      " 586  4261.97\n",
      " 587  4552.67\n",
      " 588  4187.51\n",
      " 589  4273.61\n",
      " 590  4894.56\n",
      " 591  4774.11\n",
      " 592  4440.65\n",
      " 593  4797.02\n",
      " 594  5001.76\n",
      " 595  3656.26\n",
      " 596  5386.20\n",
      " 597  4892.75\n",
      " 598  4356.11\n",
      " 599  4922.75\n",
      " 600  4937.60\n",
      " 601  4903.72\n",
      " 602  5104.56\n",
      " 603  4230.45\n",
      " 604  3973.94\n",
      " 605  4534.48\n",
      " 606  4737.96\n",
      " 607  4983.74\n",
      " 608  5055.38\n",
      " 609  4651.94\n",
      " 610  4520.88\n",
      " 611  4910.43\n",
      " 612  4416.42\n",
      " 613  4242.37\n",
      " 614  4383.72\n",
      " 615  4285.61\n",
      " 616  4745.97\n",
      " 617  3880.30\n",
      " 618  4808.37\n",
      " 619  4910.03\n",
      " 620  5024.63\n",
      " 621  4876.69\n",
      " 622  4923.67\n",
      " 623  4960.40\n",
      " 624  5269.21\n",
      " 625  4861.26\n",
      " 626  4347.15\n",
      " 627  3262.13\n",
      " 628  4806.75\n",
      " 629  4724.56\n",
      " 630  4905.24\n",
      " 631  5029.51\n",
      " 632  4957.20\n",
      " 633  4929.71\n",
      " 634  4690.97\n",
      " 635  4833.63\n",
      " 636  4408.69\n",
      " 637  4367.58\n",
      " 638  5089.83\n",
      " 639  4663.05\n",
      " 640  4649.22\n",
      " 641  3188.94\n",
      " 642  4773.57\n",
      " 643  4441.58\n",
      " 644  5057.08\n",
      " 645  4809.34\n",
      " 646  3674.36\n",
      " 647  2464.85\n",
      " 648  3423.63\n",
      " 649  4485.17\n",
      " 650  3979.90\n",
      " 651  4004.41\n",
      " 652  3803.99\n",
      " 653  4457.43\n",
      " 654  3972.42\n",
      " 655  4498.00\n",
      " 656  3831.09\n",
      " 657  3814.80\n",
      " 658  4144.14\n",
      " 659  5021.55\n",
      " 660  4010.42\n",
      " 661  4696.49\n",
      " 662  4696.50\n",
      " 663  4900.76\n",
      " 664  4250.98\n",
      " 665  4183.65\n",
      " 666  4115.30\n",
      " 667  3127.79\n",
      " 668  2034.73\n",
      " 669  3100.05\n",
      " 670  3556.69\n",
      " 671  3410.62\n",
      " 672  3648.91\n",
      " 673  3612.51\n",
      " 674  3603.09\n",
      " 675  3521.98\n",
      " 676  3428.74\n",
      " 677  3163.55\n",
      " 678  3311.41\n",
      " 679  3741.34\n",
      " 680  3857.89\n",
      " 681  3945.48\n",
      " 682  4064.14\n",
      " 683  3043.93\n",
      " 684  3539.25\n",
      " 685  3639.21\n",
      " 686  3693.97\n",
      " 687  3799.77\n",
      " 688  3536.84\n",
      " 689  3345.64\n",
      " 690  3365.40\n",
      " 691  3744.40\n",
      " 692  2748.68\n",
      " 693  3300.11\n",
      " 694  2964.10\n",
      " 695  3008.16\n",
      " 696  3623.67\n",
      " 697  3016.69\n",
      " 698  3582.27\n",
      " 699  3592.35\n",
      " 700  3619.71\n",
      " 701  3228.54\n",
      " 702  3175.87\n",
      " 703  3723.01\n",
      " 704  4195.74\n",
      " 705  3339.24\n",
      " 706  3141.52\n",
      " 707  3471.38\n",
      " 708  2601.51\n",
      " 709  2633.18\n",
      " 710  2761.43\n",
      " 711  3281.27\n",
      " 712  3511.69\n",
      " 713  3581.25\n",
      " 714  3536.41\n",
      " 715  3715.18\n",
      " 716  3100.31\n",
      " 717  2948.76\n",
      " 718  3847.82\n",
      " 719  3719.16\n",
      " 720  3682.63\n",
      " 721  1837.88\n",
      " 722  1886.24\n",
      " 723  1752.41\n",
      " 724  1763.05\n",
      " 725  1393.66\n",
      " 726  1265.00\n",
      " 727  1821.62\n",
      " 728  2004.67\n",
      " 729  1805.81\n",
      " 730  1705.68\n",
      " 731  1705.92\n"
     ]
    }
   ],
   "source": [
    "print(df.to_string(index=False))"
   ]
  },
  {
   "cell_type": "code",
   "execution_count": 46,
   "metadata": {},
   "outputs": [],
   "source": [
    "df.to_csv('C:\\\\Users\\\\jonathan.sh\\\\OneDrive - Webpals\\\\DS Course\\\\Task DS\\\\new_RandomForest_submission1.csv',index=False)"
   ]
  },
  {
   "cell_type": "code",
   "execution_count": null,
   "metadata": {},
   "outputs": [],
   "source": []
  }
 ],
 "metadata": {
  "kernelspec": {
   "display_name": "Python 3",
   "language": "python",
   "name": "python3"
  },
  "language_info": {
   "codemirror_mode": {
    "name": "ipython",
    "version": 3
   },
   "file_extension": ".py",
   "mimetype": "text/x-python",
   "name": "python",
   "nbconvert_exporter": "python",
   "pygments_lexer": "ipython3",
   "version": "3.8.5"
  }
 },
 "nbformat": 4,
 "nbformat_minor": 4
}
